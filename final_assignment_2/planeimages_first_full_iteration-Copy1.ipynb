{
 "cells": [
  {
   "cell_type": "code",
   "execution_count": 1,
   "metadata": {},
   "outputs": [],
   "source": [
    "import numpy as np\n",
    "import pandas as pd\n",
    "import matplotlib.pyplot as plt\n",
    "import pickle\n",
    "import warnings\n",
    "warnings.filterwarnings(\"ignore\", message=\"numpy.ufunc size changed\")\n",
    "from skimage import io, color, transform, feature, filters\n",
    "from my_measures import BinaryClassificationPerformance  \n",
    "from sklearn.model_selection import train_test_split\n",
    "%matplotlib inline\n",
    "from skimage.feature import corner_foerstner, corner_peaks\n",
    "from skimage.color import rgb2gray\n",
    "from skimage.feature import hog\n",
    "from skimage import data, exposure"
   ]
  },
  {
   "cell_type": "markdown",
   "metadata": {},
   "source": [
    "### IMPORTANT!!! Make sure you are using BinaryClassificationPerformance v1.03\n"
   ]
  },
  {
   "cell_type": "code",
   "execution_count": 2,
   "metadata": {},
   "outputs": [],
   "source": [
    "#help(BinaryClassificationPerformance)"
   ]
  },
  {
   "cell_type": "markdown",
   "metadata": {},
   "source": [
    "### file paths and names"
   ]
  },
  {
   "cell_type": "code",
   "execution_count": 3,
   "metadata": {},
   "outputs": [],
   "source": [
    "ci_path = 'plane_data/cropped_images/' # file path for cropped images for training\n",
    "l_file = 'plane_data/plane_labels.csv' # file path and file name for csv with labels"
   ]
  },
  {
   "cell_type": "markdown",
   "metadata": {},
   "source": [
    "# Function for feature building and extraction on photographs¶\n",
    "\n",
    "scikit-image documentation on methods used for feature extraction:  \n",
    "\n",
    "* http://scikit-image.org/docs/dev/api/skimage.color.html#rgb2gray  \n",
    "* http://scikit-image.org/docs/dev/api/skimage.transform.html#skimage.transform.resize  \n",
    "* http://scikit-image.org/docs/stable/api/skimage.feature.html#skimage.feature.canny"
   ]
  },
  {
   "cell_type": "code",
   "execution_count": 4,
   "metadata": {},
   "outputs": [],
   "source": [
    "# in downscaling the image, what do you want the new dimensions to be?\n",
    "# the original dimensions of cropped images: (60, 140), which if 8,400 pixels\n",
    "dims = (15, 35) # 25% of the original size, 525 pixels\n",
    "dims = (30, 70) # 25% of the original size, 525 pixels"
   ]
  },
  {
   "cell_type": "code",
   "execution_count": 25,
   "metadata": {
    "scrolled": false
   },
   "outputs": [
    {
     "data": {
      "image/png": "[encoded data removed]",
      "text/plain": [
       "<Figure size 432x288 with 1 Axes>"
      ]
     },
     "metadata": {
      "needs_background": "light"
     },
     "output_type": "display_data"
    },
    {
     "name": "stdout",
     "output_type": "stream",
     "text": [
      "downscaled image shape: \n",
      "(30, 70)\n",
      "<class 'numpy.ndarray'>\n",
      "image representation (first row of pixels): \n",
      "[-7.79073678e-05 -9.83784677e-05 -2.35176504e-04 -4.81898974e-04\n",
      " -7.50642716e-04 -9.68962501e-04 -1.08666886e-03 -1.07101693e-03\n",
      " -9.35732090e-04 -7.45341154e-04 -5.74759795e-04 -4.68442398e-04\n",
      " -4.26417379e-04 -4.21197487e-04 -4.25625405e-04 -4.27044463e-04\n",
      " -4.26662250e-04 -4.33296916e-04 -4.56885965e-04 -5.05867980e-04\n",
      " -5.88268910e-04 -7.12579377e-04 -8.86432139e-04 -1.10786495e-03\n",
      " -1.34671200e-03 -1.54204411e-03 -1.64082550e-03 -1.64405330e-03\n",
      " -1.60402000e-03 -1.58400253e-03 -1.63246130e-03 -1.77460419e-03\n",
      " -1.98917854e-03 -2.17720768e-03 -2.20127128e-03 -2.01262982e-03\n",
      " -1.70364416e-03 -1.41101142e-03 -1.21409124e-03 -1.10278407e-03\n",
      " -1.00411731e-03 -8.59356205e-04 -6.75633631e-04 -5.00261149e-04\n",
      " -3.72791500e-04 -3.05210583e-04 -2.83695191e-04 -2.82211250e-04\n",
      " -2.79427827e-04 -2.67551035e-04 -2.52242882e-04 -2.47004021e-04\n",
      " -2.65042475e-04 -3.14321255e-04 -3.98033208e-04 -5.19259646e-04\n",
      " -6.77186447e-04 -8.36437859e-04 -8.89978595e-04 -7.28877181e-04\n",
      " -4.42061226e-04 -2.89904461e-04 -3.06001926e-04 -3.02913290e-04\n",
      " -2.99050088e-04 -3.66091945e-04 -3.70305958e-04 -2.33774482e-04\n",
      " -9.03085411e-05 -4.81494432e-05]\n",
      "\n",
      "\n",
      "example of transformation: \n"
     ]
    }
   ],
   "source": [
    "def image_manipulation(imname, imgs_path, imview=False):\n",
    "    warnings.filterwarnings('ignore')\n",
    "    imname = imgs_path + imname + '.png'\n",
    "    img_raw = io.imread(imname, as_gray=True)\n",
    "    downscaled = transform.resize(img_raw, (dims[0], dims[1])) # downscale image\n",
    "    \n",
    "    \n",
    "    final_image = feature.corner_harris(downscaled, method = \"k\", k=0.25, eps=1e-06, sigma=2) \n",
    "\n",
    "    #final_image = feature.corner_shi_tomasi(downscaled, sigma=1) \n",
    "    #final_image = feature.canny(final_image) # edge filter image with Canny algorithm\n",
    "    #final_image = hog(img_raw, orientations=8, pixels_per_cell=(16, 16),cells_per_block=(1, 1), visualize=True, channel_axis=-1)\n",
    "    \n",
    "    if imview==True:\n",
    "        plt.figure()\n",
    "        plt.imshow(final_image, cmap='Greys')\n",
    "        plt.show()\n",
    "    warnings.filterwarnings('always')\n",
    "    return final_image\n",
    "\n",
    "# test the function, look at input/output\n",
    "test_image = image_manipulation('2017-08-25T23+24+13_390Z', ci_path, True)\n",
    "print('downscaled image shape: ')\n",
    "print(test_image.shape)\n",
    "print(type(test_image))\n",
    "print('image representation (first row of pixels): ')\n",
    "print(test_image[0])\n",
    "print('\\n')\n",
    "print('example of transformation: ')"
   ]
  },
  {
   "cell_type": "code",
   "execution_count": 6,
   "metadata": {},
   "outputs": [
    {
     "name": "stdout",
     "output_type": "stream",
     "text": [
      "downscaled image shape: \n",
      "(60, 140)\n",
      "image representation (first row of pixels): \n",
      "[0. 0. 0. 0. 0. 0. 0. 0. 0. 0. 0. 0. 0. 0. 0. 0. 0. 0. 0. 0. 0. 0. 0. 0.\n",
      " 0. 0. 0. 0. 0. 0. 0. 0. 0. 0. 0. 0. 0. 0. 0. 0. 0. 0. 0. 0. 0. 0. 0. 0.\n",
      " 0. 0. 0. 0. 0. 0. 0. 0. 0. 0. 0. 0. 0. 0. 0. 0. 0. 0. 0. 0. 0. 0. 0. 0.\n",
      " 0. 0. 0. 0. 0. 0. 0. 0. 0. 0. 0. 0. 0. 0. 0. 0. 0. 0. 0. 0. 0. 0. 0. 0.\n",
      " 0. 0. 0. 0. 0. 0. 0. 0. 0. 0. 0. 0. 0. 0. 0. 0. 0. 0. 0. 0. 0. 0. 0. 0.\n",
      " 0. 0. 0. 0. 0. 0. 0. 0. 0. 0. 0. 0. 0. 0. 0. 0. 0. 0. 0. 0.]\n",
      "\n",
      "\n",
      "example of transformation: \n"
     ]
    },
    {
     "data": {
      "image/png": "[encoded data removed]",
      "text/plain": [
       "<Figure size 432x288 with 1 Axes>"
      ]
     },
     "metadata": {
      "needs_background": "light"
     },
     "output_type": "display_data"
    }
   ],
   "source": [
    "#this is where you do the bulk of the changing\n",
    "def image_manipulation(imname, imgs_path, imview=False):\n",
    "    warnings.filterwarnings('ignore')\n",
    "    imname = imgs_path + imname + '.png'\n",
    "    img_raw = io.imread(imname)    \n",
    "    fd, hogImg = hog(img_raw, orientations=10, pixels_per_cell=(12, 12), cells_per_block=(6, 6), visualize=True)\n",
    "    downscaled = transform.resize(hogImg, (dims[0], dims[1])) # downscale image\n",
    "    final_img = filters.roberts(downscaled)\n",
    "    final_img = filters.sobel(hogImg)\n",
    "    final_img = filters.roberts(hogImg)\n",
    "    final_img = hogImg\n",
    "#     final_image = feature.canny(downscaled) \n",
    "    if imview==True:\n",
    "     plt.imshow(final_img, cmap=plt.cm.gray)\n",
    "    warnings.filterwarnings('always')\n",
    "    return final_img\n",
    "\n",
    "# test the function, look at input/output\n",
    "test_image = image_manipulation('2016-10-10T19+44+49_610Z', ci_path, True)\n",
    "print('downscaled image shape: ')\n",
    "print(test_image.shape)\n",
    "print('image representation (first row of pixels): ')\n",
    "print(test_image[0])\n",
    "print('\\n')\n",
    "print('example of transformation: ')"
   ]
  },
  {
   "cell_type": "markdown",
   "metadata": {},
   "source": [
    "for comparison, look at original image:"
   ]
  },
  {
   "cell_type": "code",
   "execution_count": 7,
   "metadata": {
    "scrolled": false
   },
   "outputs": [],
   "source": [
    "#this_imname = ci_path + '2017-08-25T23+24+13_390Z.png'\n",
    "#io.imshow(io.imread(this_imname))"
   ]
  },
  {
   "cell_type": "markdown",
   "metadata": {},
   "source": [
    "# function to process raw images, resulting in training and test datasets"
   ]
  },
  {
   "cell_type": "code",
   "execution_count": 26,
   "metadata": {},
   "outputs": [],
   "source": [
    "# function that takes raw images and completes all preprocessing required before model fits\n",
    "def process_raw_data(labels_fn, images_fp, my_random_seed, imview=False, test=False):\n",
    "    plane_data = pd.read_csv(labels_fn) # read in photograph labels\n",
    "    print(\"First few lines of image labels: \")\n",
    "    print(plane_data.head())\n",
    "    print(\"Size of image label dataFrame: \")\n",
    "    print(plane_data.shape)\n",
    "        \n",
    "    # construct lists for features, labels, and a crosswalk reference to image names\n",
    "    features_list = []\n",
    "    if (not test):\n",
    "        y_list = []\n",
    "    imnames_list = []\n",
    "\n",
    "    for index, row in plane_data.iterrows():\n",
    "        features_list.append(image_manipulation(row['img_name'], images_fp))\n",
    "        if (not test):\n",
    "            y_list.append(row['plane'])\n",
    "        imnames_list.append(row['img_name'])\n",
    "    \n",
    "    # convert the lists to ndarrays\n",
    "    features = np.asarray(features_list)\n",
    "    if (not test):\n",
    "        Y = np.asarray(y_list)\n",
    "    imgs = np.asarray(imnames_list)\n",
    "    print('Shape of original feature representation: ')\n",
    "    print(features.shape)\n",
    "\n",
    "    # flatten the images ndarray to one row per image\n",
    "    features_flat = features.reshape((features.shape[0], -1))\n",
    "\n",
    "    print('Shape of flat feature representation: ')\n",
    "    print(features_flat.shape)\n",
    "\n",
    "    if (not test):\n",
    "        print('Shape of Y: ')\n",
    "        print(Y.shape)\n",
    "\n",
    "        print('Number of images with planes: ')\n",
    "        print(Y.sum())\n",
    "    \n",
    "        # create train and test sets\n",
    "        data_train, data_test, y_train, y_test, imgs_train, imgs_test = train_test_split(features_flat, \n",
    "            Y, imgs, test_size = 0.25, random_state = my_random_seed)\n",
    "\n",
    "        print('Shape of training set: ')\n",
    "        print(y_train.shape)\n",
    "        print('Number of training images that contain an airplane: ')\n",
    "        print(y_train.sum())\n",
    "\n",
    "        print('Shape of test set: ')\n",
    "        print(y_test.shape)\n",
    "        print('Number of test images that contain an airplane: ')\n",
    "        print(y_test.sum())\n",
    "    \n",
    "    if (test):\n",
    "        X_submission_test = features_flat\n",
    "        print(\"Shape of X_test for submission:\")\n",
    "        print(X_submission_test.shape)\n",
    "        print('SUCCESS!')\n",
    "        return(X_submission_test, plane_data)\n",
    "    else: \n",
    "        print(\"Shape of data_train and data_test:\")\n",
    "        print(data_train.shape)\n",
    "        print(data_test.shape)\n",
    "        print(\"Shape of y_train and y_test:\")\n",
    "        print(y_train.shape)\n",
    "        print(y_test.shape)\n",
    "        print(\"Shape of imgs_train and imgs_test:\")\n",
    "        print(imgs_train.shape)\n",
    "        print(imgs_test.shape)\n",
    "        print('SUCCESS!')\n",
    "        return(data_train, data_test, y_train, y_test, imgs_train, imgs_test)\n"
   ]
  },
  {
   "cell_type": "code",
   "execution_count": 27,
   "metadata": {},
   "outputs": [
    {
     "name": "stdout",
     "output_type": "stream",
     "text": [
      "First few lines of image labels: \n",
      "                   img_name  plane\n",
      "0  2016-08-02T13+50+24_430Z  False\n",
      "1  2016-08-02T14+12+37_390Z  False\n",
      "2  2016-08-02T22+20+26_600Z  False\n",
      "3  2016-08-03T12+04+30_670Z  False\n",
      "4  2016-08-03T12+32+21_790Z  False\n",
      "Size of image label dataFrame: \n",
      "(6758, 2)\n",
      "Shape of original feature representation: \n",
      "(6758, 30, 70)\n",
      "Shape of flat feature representation: \n",
      "(6758, 2100)\n",
      "Shape of Y: \n",
      "(6758,)\n",
      "Number of images with planes: \n",
      "101\n",
      "Shape of training set: \n",
      "(5068,)\n",
      "Number of training images that contain an airplane: \n",
      "76\n",
      "Shape of test set: \n",
      "(1690,)\n",
      "Number of test images that contain an airplane: \n",
      "25\n",
      "Shape of data_train and data_test:\n",
      "(5068, 2100)\n",
      "(1690, 2100)\n",
      "Shape of y_train and y_test:\n",
      "(5068,)\n",
      "(1690,)\n",
      "Shape of imgs_train and imgs_test:\n",
      "(5068,)\n",
      "(1690,)\n",
      "SUCCESS!\n"
     ]
    }
   ],
   "source": [
    "data_train, data_test, y_train, y_test, imgs_train, imgs_test = process_raw_data(l_file, ci_path, \n",
    "    my_random_seed=17, imview=False, test=False)"
   ]
  },
  {
   "cell_type": "markdown",
   "metadata": {},
   "source": [
    "# train Perceptron"
   ]
  },
  {
   "cell_type": "code",
   "execution_count": 10,
   "metadata": {},
   "outputs": [
    {
     "name": "stdout",
     "output_type": "stream",
     "text": [
      "TRAINING SET: \n",
      "{'Pos': 76, 'Neg': 4992, 'TP': 76, 'TN': 4992, 'FP': 0, 'FN': 0, 'Accuracy': 1.0, 'Precision': 1.0, 'Recall': 1.0, 'desc': 'prc', 'set': 'train'}\n",
      "TEST SET: \n",
      "{'Pos': 25, 'Neg': 1665, 'TP': 20, 'TN': 1664, 'FP': 1, 'FN': 5, 'Accuracy': 0.9964497041420118, 'Precision': 0.9523809523809523, 'Recall': 0.8, 'desc': 'prc', 'set': 'test'}\n"
     ]
    }
   ],
   "source": [
    "# MODEL: Perceptron\n",
    "from sklearn import linear_model\n",
    "prc = linear_model.SGDClassifier(loss='perceptron')\n",
    "prc.fit(data_train, y_train)\n",
    "\n",
    "prc_performance = BinaryClassificationPerformance(prc.predict(data_train), y_train, 'prc')\n",
    "prc_performance.compute_measures()\n",
    "prc_performance.performance_measures['set'] = 'train'\n",
    "print('TRAINING SET: ')\n",
    "print(prc_performance.performance_measures)\n",
    "\n",
    "prc_performance_test = BinaryClassificationPerformance(prc.predict(data_test), y_test, 'prc')\n",
    "prc_performance_test.compute_measures()\n",
    "prc_performance_test.performance_measures['set'] = 'test'\n",
    "print('TEST SET: ')\n",
    "print(prc_performance_test.performance_measures)\n",
    "\n",
    "prc_performance_test.img_indices()\n",
    "prc_img_indices_to_view = prc_performance_test.image_indices"
   ]
  },
  {
   "cell_type": "code",
   "execution_count": 14,
   "metadata": {},
   "outputs": [
    {
     "name": "stdout",
     "output_type": "stream",
     "text": [
      "TRAINING SET: \n",
      "{'Pos': 76, 'Neg': 4992, 'TP': 76, 'TN': 4992, 'FP': 0, 'FN': 0, 'Accuracy': 1.0, 'Precision': 1.0, 'Recall': 1.0, 'desc': 'prc', 'set': 'train'}\n",
      "TEST SET: \n",
      "{'Pos': 25, 'Neg': 1665, 'TP': 21, 'TN': 1665, 'FP': 0, 'FN': 4, 'Accuracy': 0.9976331360946745, 'Precision': 1.0, 'Recall': 0.84, 'desc': 'prc', 'set': 'test'}\n"
     ]
    }
   ],
   "source": [
    "# MODEL: Perceptron\n",
    "from sklearn import linear_model\n",
    "prc = linear_model.SGDClassifier(loss='perceptron')\n",
    "prc.fit(data_train, y_train)\n",
    "\n",
    "prc_performance = BinaryClassificationPerformance(prc.predict(data_train), y_train, 'prc')\n",
    "prc_performance.compute_measures()\n",
    "prc_performance.performance_measures['set'] = 'train'\n",
    "print('TRAINING SET: ')\n",
    "print(prc_performance.performance_measures)\n",
    "\n",
    "prc_performance_test = BinaryClassificationPerformance(prc.predict(data_test), y_test, 'prc')\n",
    "prc_performance_test.compute_measures()\n",
    "prc_performance_test.performance_measures['set'] = 'test'\n",
    "print('TEST SET: ')\n",
    "print(prc_performance_test.performance_measures)\n",
    "\n",
    "prc_performance_test.img_indices()\n",
    "prc_img_indices_to_view = prc_performance_test.image_indices"
   ]
  },
  {
   "cell_type": "code",
   "execution_count": 13,
   "metadata": {},
   "outputs": [],
   "source": [
    "def performance_examples(typ, measures):\n",
    "    iiv = ''\n",
    "    if typ == 'FP':\n",
    "        iiv = typ + '_indices'\n",
    "    elif typ == 'TP':\n",
    "        iiv = typ + '_indices'\n",
    "    elif typ == 'FN':\n",
    "        iiv = typ + '_indices'\n",
    "    else:\n",
    "        raise ValueError('input must be \"TP\", \"FP\", or \"FN\"')\n",
    "    for img in measures[iiv]:\n",
    "        warnings.filterwarnings('ignore')    \n",
    "        plt.figure()\n",
    "        lookat = ci_path + imgs_test[img] + '.png' # location of original image\n",
    "        io.imshow(lookat) # show original image\n",
    "        plt.figure()\n",
    "        plt.imshow(data_test[img].reshape(dims[0], dims[1])) # show manipulation for feature representation\n",
    "        warnings.filterwarnings('always')\n"
   ]
  },
  {
   "cell_type": "markdown",
   "metadata": {},
   "source": [
    "# look at examples of Perceptron classifications"
   ]
  },
  {
   "cell_type": "markdown",
   "metadata": {},
   "source": [
    "## true positives"
   ]
  },
  {
   "cell_type": "code",
   "execution_count": 11,
   "metadata": {},
   "outputs": [],
   "source": [
    "#performance_examples('TP', prc_img_indices_to_view)"
   ]
  },
  {
   "cell_type": "markdown",
   "metadata": {},
   "source": [
    "## false positives"
   ]
  },
  {
   "cell_type": "code",
   "execution_count": 12,
   "metadata": {},
   "outputs": [],
   "source": [
    "#performance_examples('FP', prc_img_indices_to_view)"
   ]
  },
  {
   "cell_type": "markdown",
   "metadata": {},
   "source": [
    "## false negatives"
   ]
  },
  {
   "cell_type": "code",
   "execution_count": 13,
   "metadata": {},
   "outputs": [],
   "source": [
    "#performance_examples('FN', prc_img_indices_to_view)"
   ]
  },
  {
   "cell_type": "markdown",
   "metadata": {},
   "source": [
    "# train Multilayer Perceptron, a.k.a. neural network"
   ]
  },
  {
   "cell_type": "code",
   "execution_count": 17,
   "metadata": {},
   "outputs": [
    {
     "name": "stdout",
     "output_type": "stream",
     "text": [
      "MLPClassifier(hidden_layer_sizes=(100, 100), max_iter=1000)\n",
      "TRAINING SET: \n",
      "{'Pos': 76, 'Neg': 4992, 'TP': 76, 'TN': 4992, 'FP': 0, 'FN': 0, 'Accuracy': 1.0, 'Precision': 1.0, 'Recall': 1.0, 'desc': 'nn', 'set': 'train'}\n",
      "TEST SET: \n",
      "{'Pos': 25, 'Neg': 1665, 'TP': 19, 'TN': 1665, 'FP': 0, 'FN': 6, 'Accuracy': 0.9964497041420118, 'Precision': 1.0, 'Recall': 0.76, 'desc': 'nn_test', 'set': 'test'}\n"
     ]
    }
   ],
   "source": [
    "# MODEL: Multi-layer Perceptron aka neural network\n",
    "from sklearn import neural_network\n",
    "nn = neural_network.MLPClassifier(hidden_layer_sizes = (100, 100), max_iter=1000)\n",
    "print(nn)\n",
    "nn.fit(data_train, y_train)\n",
    "\n",
    "nn_performance = BinaryClassificationPerformance(nn.predict(data_train), y_train, 'nn')\n",
    "nn_performance.compute_measures()\n",
    "nn_performance.performance_measures['set'] = 'train'\n",
    "print('TRAINING SET: ')\n",
    "print(nn_performance.performance_measures)\n",
    "\n",
    "nn_performance_test = BinaryClassificationPerformance(nn.predict(data_test), y_test, 'nn_test')\n",
    "nn_performance_test.compute_measures()\n",
    "nn_performance_test.performance_measures['set'] = 'test'\n",
    "print('TEST SET: ')\n",
    "print(nn_performance_test.performance_measures)\n",
    "\n",
    "nn_performance_test.img_indices()\n",
    "nn_img_indices_to_view = nn_performance_test.image_indices"
   ]
  },
  {
   "cell_type": "code",
   "execution_count": 18,
   "metadata": {},
   "outputs": [
    {
     "name": "stdout",
     "output_type": "stream",
     "text": [
      "MLPClassifier(hidden_layer_sizes=100, max_iter=1000)\n",
      "TRAINING SET: \n",
      "{'Pos': 76, 'Neg': 4992, 'TP': 76, 'TN': 4992, 'FP': 0, 'FN': 0, 'Accuracy': 1.0, 'Precision': 1.0, 'Recall': 1.0, 'desc': 'nn1', 'set': 'train'}\n",
      "TEST SET: \n",
      "{'Pos': 25, 'Neg': 1665, 'TP': 18, 'TN': 1665, 'FP': 0, 'FN': 7, 'Accuracy': 0.9958579881656805, 'Precision': 1.0, 'Recall': 0.72, 'desc': 'nn1_test', 'set': 'test'}\n"
     ]
    }
   ],
   "source": [
    "# MODEL: Multi-layer Perceptron aka neural network\n",
    "from sklearn import neural_network\n",
    "nn1 = neural_network.MLPClassifier(hidden_layer_sizes = (100), max_iter=1000)\n",
    "print(nn1)\n",
    "nn1.fit(data_train, y_train)\n",
    "\n",
    "nn1_performance = BinaryClassificationPerformance(nn1.predict(data_train), y_train, 'nn1')\n",
    "nn1_performance.compute_measures()\n",
    "nn1_performance.performance_measures['set'] = 'train'\n",
    "print('TRAINING SET: ')\n",
    "print(nn1_performance.performance_measures)\n",
    "\n",
    "nn1_performance_test = BinaryClassificationPerformance(nn1.predict(data_test), y_test, 'nn1_test')\n",
    "nn1_performance_test.compute_measures()\n",
    "nn1_performance_test.performance_measures['set'] = 'test'\n",
    "print('TEST SET: ')\n",
    "print(nn1_performance_test.performance_measures)\n",
    "\n",
    "nn1_performance_test.img_indices()\n",
    "nn1_img_indices_to_view = nn1_performance_test.image_indices"
   ]
  },
  {
   "cell_type": "code",
   "execution_count": 14,
   "metadata": {},
   "outputs": [
    {
     "name": "stdout",
     "output_type": "stream",
     "text": [
      "MLPClassifier(hidden_layer_sizes=1000, max_iter=1000)\n",
      "TRAINING SET: \n",
      "{'Pos': 76, 'Neg': 4992, 'TP': 76, 'TN': 4992, 'FP': 0, 'FN': 0, 'Accuracy': 1.0, 'Precision': 1.0, 'Recall': 1.0, 'desc': 'nn2', 'set': 'train'}\n",
      "TEST SET: \n",
      "{'Pos': 25, 'Neg': 1665, 'TP': 20, 'TN': 1664, 'FP': 1, 'FN': 5, 'Accuracy': 0.9964497041420118, 'Precision': 0.9523809523809523, 'Recall': 0.8, 'desc': 'nn2_test', 'set': 'test'}\n"
     ]
    }
   ],
   "source": [
    "# MODEL: Multi-layer Perceptron aka neural network\n",
    "from sklearn import neural_network\n",
    "nn2 = neural_network.MLPClassifier(hidden_layer_sizes = (1000), max_iter=1000)\n",
    "print(nn2)\n",
    "nn2.fit(data_train, y_train)\n",
    "\n",
    "nn2_performance = BinaryClassificationPerformance(nn2.predict(data_train), y_train, 'nn2')\n",
    "nn2_performance.compute_measures()\n",
    "nn2_performance.performance_measures['set'] = 'train'\n",
    "print('TRAINING SET: ')\n",
    "print(nn2_performance.performance_measures)\n",
    "\n",
    "nn2_performance_test = BinaryClassificationPerformance(nn2.predict(data_test), y_test, 'nn2_test')\n",
    "nn2_performance_test.compute_measures()\n",
    "nn2_performance_test.performance_measures['set'] = 'test'\n",
    "print('TEST SET: ')\n",
    "print(nn2_performance_test.performance_measures)\n",
    "\n",
    "nn2_performance_test.img_indices()\n",
    "nn2_img_indices_to_view = nn2_performance_test.image_indices"
   ]
  },
  {
   "cell_type": "code",
   "execution_count": 15,
   "metadata": {},
   "outputs": [
    {
     "name": "stdout",
     "output_type": "stream",
     "text": [
      "MLPClassifier(hidden_layer_sizes=10000, max_iter=1000)\n",
      "TRAINING SET: \n",
      "{'Pos': 76, 'Neg': 4992, 'TP': 76, 'TN': 4992, 'FP': 0, 'FN': 0, 'Accuracy': 1.0, 'Precision': 1.0, 'Recall': 1.0, 'desc': 'nn3', 'set': 'train'}\n",
      "TEST SET: \n",
      "{'Pos': 25, 'Neg': 1665, 'TP': 20, 'TN': 1665, 'FP': 0, 'FN': 5, 'Accuracy': 0.9970414201183432, 'Precision': 1.0, 'Recall': 0.8, 'desc': 'nn3_test', 'set': 'test'}\n"
     ]
    }
   ],
   "source": [
    "# MODEL: Multi-layer Perceptron aka neural network\n",
    "from sklearn import neural_network\n",
    "nn3 = neural_network.MLPClassifier(hidden_layer_sizes = (10000), max_iter=1000)\n",
    "print(nn3)\n",
    "nn3.fit(data_train, y_train)\n",
    "\n",
    "nn3_performance = BinaryClassificationPerformance(nn3.predict(data_train), y_train, 'nn3')\n",
    "nn3_performance.compute_measures()\n",
    "nn3_performance.performance_measures['set'] = 'train'\n",
    "print('TRAINING SET: ')\n",
    "print(nn3_performance.performance_measures)\n",
    "\n",
    "nn3_performance_test = BinaryClassificationPerformance(nn3.predict(data_test), y_test, 'nn3_test')\n",
    "nn3_performance_test.compute_measures()\n",
    "nn3_performance_test.performance_measures['set'] = 'test'\n",
    "print('TEST SET: ')\n",
    "print(nn3_performance_test.performance_measures)\n",
    "\n",
    "nn3_performance_test.img_indices()\n",
    "nn3_img_indices_to_view = nn3_performance_test.image_indices"
   ]
  },
  {
   "cell_type": "code",
   "execution_count": 18,
   "metadata": {},
   "outputs": [
    {
     "data": {
      "text/plain": [
       "\"\\nfrom sklearn import neural_network\\nnn4 = neural_network.MLPClassifier(hidden_layer_sizes = (100000), max_iter=1000)\\nprint(nn4)\\nnn4.fit(data_train, y_train)\\n\\nnn4_performance = BinaryClassificationPerformance(nn4.predict(data_train), y_train, 'nn4')\\nnn4_performance.compute_measures()\\nnn4_performance.performance_measures['set'] = 'train'\\nprint('TRAINING SET: ')\\nprint(nn4_performance.performance_measures)\\n\\nnn4_performance_test = BinaryClassificationPerformance(nn4.predict(data_test), y_test, 'nn4_test')\\nnn4_performance_test.compute_measures()\\nnn4_performance_test.performance_measures['set'] = 'test'\\nprint('TEST SET: ')\\nprint(nn4_performance_test.performance_measures)\\n\\nnn4_performance_test.img_indices()\\nnn4_img_indices_to_view = nn4_performance_test.image_indices\\n\""
      ]
     },
     "execution_count": 18,
     "metadata": {},
     "output_type": "execute_result"
    }
   ],
   "source": [
    "# MODEL: Multi-layer Perceptron aka neural network\n",
    "'''\n",
    "from sklearn import neural_network\n",
    "nn4 = neural_network.MLPClassifier(hidden_layer_sizes = (100000), max_iter=1000)\n",
    "print(nn4)\n",
    "nn4.fit(data_train, y_train)\n",
    "\n",
    "nn4_performance = BinaryClassificationPerformance(nn4.predict(data_train), y_train, 'nn4')\n",
    "nn4_performance.compute_measures()\n",
    "nn4_performance.performance_measures['set'] = 'train'\n",
    "print('TRAINING SET: ')\n",
    "print(nn4_performance.performance_measures)\n",
    "\n",
    "nn4_performance_test = BinaryClassificationPerformance(nn4.predict(data_test), y_test, 'nn4_test')\n",
    "nn4_performance_test.compute_measures()\n",
    "nn4_performance_test.performance_measures['set'] = 'test'\n",
    "print('TEST SET: ')\n",
    "print(nn4_performance_test.performance_measures)\n",
    "\n",
    "nn4_performance_test.img_indices()\n",
    "nn4_img_indices_to_view = nn4_performance_test.image_indices\n",
    "'''"
   ]
  },
  {
   "cell_type": "code",
   "execution_count": 19,
   "metadata": {
    "scrolled": true
   },
   "outputs": [
    {
     "data": {
      "text/plain": [
       "\"\\nfrom sklearn import neural_network\\nnn5 = neural_network.MLPClassifier(hidden_layer_sizes = (1000000), max_iter=1000)\\nprint(nn5)\\nnn5.fit(data_train, y_train)\\n\\nnn5_performance = BinaryClassificationPerformance(nn5.predict(data_train), y_train, 'nn5')\\nnn5_performance.compute_measures()\\nnn5_performance.performance_measures['set'] = 'train'\\nprint('TRAINING SET: ')\\nprint(nn5_performance.performance_measures)\\n\\nnn5_performance_test = BinaryClassificationPerformance(nn5.predict(data_test), y_test, 'nn5_test')\\nnn5_performance_test.compute_measures()\\nnn5_performance_test.performance_measures['set'] = 'test'\\nprint('TEST SET: ')\\nprint(nn5_performance_test.performance_measures)\\n\\nnn5_performance_test.img_indices()\\nnn5_img_indices_to_view = nn5_performance_test.image_indices\\n\""
      ]
     },
     "execution_count": 19,
     "metadata": {},
     "output_type": "execute_result"
    }
   ],
   "source": [
    "# MODEL: Multi-layer Perceptron aka neural network\n",
    "\n",
    "'''\n",
    "from sklearn import neural_network\n",
    "nn5 = neural_network.MLPClassifier(hidden_layer_sizes = (1000000), max_iter=1000)\n",
    "print(nn5)\n",
    "nn5.fit(data_train, y_train)\n",
    "\n",
    "nn5_performance = BinaryClassificationPerformance(nn5.predict(data_train), y_train, 'nn5')\n",
    "nn5_performance.compute_measures()\n",
    "nn5_performance.performance_measures['set'] = 'train'\n",
    "print('TRAINING SET: ')\n",
    "print(nn5_performance.performance_measures)\n",
    "\n",
    "nn5_performance_test = BinaryClassificationPerformance(nn5.predict(data_test), y_test, 'nn5_test')\n",
    "nn5_performance_test.compute_measures()\n",
    "nn5_performance_test.performance_measures['set'] = 'test'\n",
    "print('TEST SET: ')\n",
    "print(nn5_performance_test.performance_measures)\n",
    "\n",
    "nn5_performance_test.img_indices()\n",
    "nn5_img_indices_to_view = nn5_performance_test.image_indices\n",
    "'''\n",
    "\n"
   ]
  },
  {
   "cell_type": "markdown",
   "metadata": {},
   "source": [
    "## nLayers"
   ]
  },
  {
   "cell_type": "code",
   "execution_count": 16,
   "metadata": {
    "scrolled": false
   },
   "outputs": [
    {
     "data": {
      "text/plain": [
       "\"\\nfrom sklearn import neural_network\\nnn6 = neural_network.MLPClassifier(hidden_layer_sizes = (1000), max_iter=1000)\\nprint(nn6)\\nnn6.fit(data_train, y_train)\\n\\nnn6_performance = BinaryClassificationPerformance(nn6.predict(data_train), y_train, 'nn6')\\nnn6_performance.compute_measures()\\nnn6_performance.performance_measures['set'] = 'train'\\nprint('TRAINING SET: ')\\nprint(nn6_performance.performance_measures)\\n\\nnn6_performance_test = BinaryClassificationPerformance(nn6.predict(data_test), y_test, 'nn6_test')\\nnn6_performance_test.compute_measures()\\nnn6_performance_test.performance_measures['set'] = 'test'\\nprint('TEST SET: ')\\nprint(nn6_performance_test.performance_measures)\\n\\nnn6_performance_test.img_indices()\\nnn6_img_indices_to_view = nn6_performance_test.image_indices\\n\""
      ]
     },
     "execution_count": 16,
     "metadata": {},
     "output_type": "execute_result"
    }
   ],
   "source": [
    "# MODEL: Multi-layer Perceptron aka neural network\n",
    "'''\n",
    "from sklearn import neural_network\n",
    "nn6 = neural_network.MLPClassifier(hidden_layer_sizes = (1000), max_iter=1000)\n",
    "print(nn6)\n",
    "nn6.fit(data_train, y_train)\n",
    "\n",
    "nn6_performance = BinaryClassificationPerformance(nn6.predict(data_train), y_train, 'nn6')\n",
    "nn6_performance.compute_measures()\n",
    "nn6_performance.performance_measures['set'] = 'train'\n",
    "print('TRAINING SET: ')\n",
    "print(nn6_performance.performance_measures)\n",
    "\n",
    "nn6_performance_test = BinaryClassificationPerformance(nn6.predict(data_test), y_test, 'nn6_test')\n",
    "nn6_performance_test.compute_measures()\n",
    "nn6_performance_test.performance_measures['set'] = 'test'\n",
    "print('TEST SET: ')\n",
    "print(nn6_performance_test.performance_measures)\n",
    "\n",
    "nn6_performance_test.img_indices()\n",
    "nn6_img_indices_to_view = nn6_performance_test.image_indices\n",
    "'''"
   ]
  },
  {
   "cell_type": "code",
   "execution_count": 17,
   "metadata": {
    "scrolled": false
   },
   "outputs": [
    {
     "name": "stdout",
     "output_type": "stream",
     "text": [
      "MLPClassifier(hidden_layer_sizes=(1000, 100, 100, 100, 10), max_iter=1000)\n",
      "TRAINING SET: \n",
      "{'Pos': 76, 'Neg': 4992, 'TP': 76, 'TN': 4992, 'FP': 0, 'FN': 0, 'Accuracy': 1.0, 'Precision': 1.0, 'Recall': 1.0, 'desc': 'nn7', 'set': 'train'}\n",
      "TEST SET: \n",
      "{'Pos': 25, 'Neg': 1665, 'TP': 21, 'TN': 1664, 'FP': 1, 'FN': 4, 'Accuracy': 0.9970414201183432, 'Precision': 0.9545454545454546, 'Recall': 0.84, 'desc': 'nn7_test', 'set': 'test'}\n"
     ]
    }
   ],
   "source": [
    "# MODEL: Multi-layer Perceptron aka neural network\n",
    "\n",
    "from sklearn import neural_network\n",
    "nn7 = neural_network.MLPClassifier(hidden_layer_sizes = (1000, 100, 100, 100, 10), max_iter=1000)\n",
    "print(nn7)\n",
    "nn7.fit(data_train, y_train)\n",
    "\n",
    "nn7_performance = BinaryClassificationPerformance(nn7.predict(data_train), y_train, 'nn7')\n",
    "nn7_performance.compute_measures()\n",
    "nn7_performance.performance_measures['set'] = 'train'\n",
    "print('TRAINING SET: ')\n",
    "print(nn7_performance.performance_measures)\n",
    "\n",
    "nn7_performance_test = BinaryClassificationPerformance(nn7.predict(data_test), y_test, 'nn7_test')\n",
    "nn7_performance_test.compute_measures()\n",
    "nn7_performance_test.performance_measures['set'] = 'test'\n",
    "print('TEST SET: ')\n",
    "print(nn7_performance_test.performance_measures)\n",
    "\n",
    "nn7_performance_test.img_indices()\n",
    "nn7_img_indices_to_view = nn7_performance_test.image_indices\n"
   ]
  },
  {
   "cell_type": "code",
   "execution_count": 34,
   "metadata": {
    "scrolled": false
   },
   "outputs": [
    {
     "name": "stdout",
     "output_type": "stream",
     "text": [
      "MLPClassifier(hidden_layer_sizes=100, max_iter=1000)\n",
      "TRAINING SET: \n",
      "{'Pos': 76, 'Neg': 4992, 'TP': 75, 'TN': 4992, 'FP': 0, 'FN': 1, 'Accuracy': 0.999802683504341, 'Precision': 1.0, 'Recall': 0.9868421052631579, 'desc': 'nn7', 'set': 'train'}\n",
      "TEST SET: \n",
      "{'Pos': 25, 'Neg': 1665, 'TP': 20, 'TN': 1663, 'FP': 2, 'FN': 5, 'Accuracy': 0.9958579881656805, 'Precision': 0.9090909090909091, 'Recall': 0.8, 'desc': 'nn7_test', 'set': 'test'}\n"
     ]
    }
   ],
   "source": [
    "# MODEL: Multi-layer Perceptron aka neural network\n",
    "\n",
    "from sklearn import neural_network\n",
    "nn7 = neural_network.MLPClassifier(hidden_layer_sizes = (100), max_iter=1000)\n",
    "print(nn7)\n",
    "nn7.fit(data_train, y_train)\n",
    "\n",
    "nn7_performance = BinaryClassificationPerformance(nn7.predict(data_train), y_train, 'nn7')\n",
    "nn7_performance.compute_measures()\n",
    "nn7_performance.performance_measures['set'] = 'train'\n",
    "print('TRAINING SET: ')\n",
    "print(nn7_performance.performance_measures)\n",
    "\n",
    "nn7_performance_test = BinaryClassificationPerformance(nn7.predict(data_test), y_test, 'nn7_test')\n",
    "nn7_performance_test.compute_measures()\n",
    "nn7_performance_test.performance_measures['set'] = 'test'\n",
    "print('TEST SET: ')\n",
    "print(nn7_performance_test.performance_measures)\n",
    "\n",
    "nn7_performance_test.img_indices()\n",
    "nn7_img_indices_to_view = nn7_performance_test.image_indices\n"
   ]
  },
  {
   "cell_type": "code",
   "execution_count": 36,
   "metadata": {
    "scrolled": false
   },
   "outputs": [
    {
     "name": "stdout",
     "output_type": "stream",
     "text": [
      "MLPClassifier(hidden_layer_sizes=(100, 10), max_iter=1000)\n",
      "TRAINING SET: \n",
      "{'Pos': 76, 'Neg': 4992, 'TP': 75, 'TN': 4992, 'FP': 0, 'FN': 1, 'Accuracy': 0.999802683504341, 'Precision': 1.0, 'Recall': 0.9868421052631579, 'desc': 'nn7', 'set': 'train'}\n",
      "TEST SET: \n",
      "{'Pos': 25, 'Neg': 1665, 'TP': 20, 'TN': 1663, 'FP': 2, 'FN': 5, 'Accuracy': 0.9958579881656805, 'Precision': 0.9090909090909091, 'Recall': 0.8, 'desc': 'nn8_test', 'set': 'test'}\n"
     ]
    }
   ],
   "source": [
    "# MODEL: Multi-layer Perceptron aka neural network\n",
    "\n",
    "from sklearn import neural_network\n",
    "nn8 = neural_network.MLPClassifier(hidden_layer_sizes = ( 100, 10), max_iter=1000)\n",
    "print(nn8)\n",
    "nn8.fit(data_train, y_train)\n",
    "\n",
    "nn8_performance = BinaryClassificationPerformance(nn8.predict(data_train), y_train, 'nn8')\n",
    "nn8_performance.compute_measures()\n",
    "nn8_performance.performance_measures['set'] = 'train'\n",
    "print('TRAINING SET: ')\n",
    "print(nn7_performance.performance_measures)\n",
    "\n",
    "nn8_performance_test = BinaryClassificationPerformance(nn8.predict(data_test), y_test, 'nn8_test')\n",
    "nn8_performance_test.compute_measures()\n",
    "nn8_performance_test.performance_measures['set'] = 'test'\n",
    "print('TEST SET: ')\n",
    "print(nn8_performance_test.performance_measures)\n",
    "\n",
    "nn8_performance_test.img_indices()\n",
    "nn8_img_indices_to_view = nn8_performance_test.image_indices\n"
   ]
  },
  {
   "cell_type": "code",
   "execution_count": 74,
   "metadata": {
    "scrolled": false
   },
   "outputs": [
    {
     "name": "stdout",
     "output_type": "stream",
     "text": [
      "MLPClassifier(hidden_layer_sizes=(1000, 500, 500, 100, 100, 10), max_iter=1000)\n",
      "TRAINING SET: \n",
      "{'Pos': 76, 'Neg': 4992, 'TP': 76, 'TN': 4992, 'FP': 0, 'FN': 0, 'Accuracy': 1.0, 'Precision': 1.0, 'Recall': 1.0, 'desc': 'nnx', 'set': 'train'}\n",
      "TEST SET: \n",
      "{'Pos': 25, 'Neg': 1665, 'TP': 22, 'TN': 1665, 'FP': 0, 'FN': 3, 'Accuracy': 0.9982248520710059, 'Precision': 1.0, 'Recall': 0.88, 'desc': 'nnx_test', 'set': 'test'}\n"
     ]
    }
   ],
   "source": [
    "# MODEL: Multi-layer Perceptron aka neural network\n",
    "\n",
    "from sklearn import neural_network\n",
    "nnx = neural_network.MLPClassifier(hidden_layer_sizes = (1000, 500, 500, 100, 100, 10), max_iter=1000)\n",
    "print(nnx)\n",
    "nnx.fit(data_train, y_train)\n",
    "\n",
    "nnx_performance = BinaryClassificationPerformance(nnx.predict(data_train), y_train, 'nnx')\n",
    "nnx_performance.compute_measures()\n",
    "nnx_performance.performance_measures['set'] = 'train'\n",
    "print('TRAINING SET: ')\n",
    "print(nnx_performance.performance_measures)\n",
    "\n",
    "nnx_performance_test = BinaryClassificationPerformance(nnx.predict(data_test), y_test, 'nnx_test')\n",
    "nnx_performance_test.compute_measures()\n",
    "nnx_performance_test.performance_measures['set'] = 'test'\n",
    "print('TEST SET: ')\n",
    "print(nnx_performance_test.performance_measures)\n",
    "\n",
    "nnx_performance_test.img_indices()\n",
    "nnx_img_indices_to_view = nnx_performance_test.image_indices\n"
   ]
  },
  {
   "cell_type": "code",
   "execution_count": 79,
   "metadata": {
    "scrolled": false
   },
   "outputs": [
    {
     "name": "stdout",
     "output_type": "stream",
     "text": [
      "MLPClassifier(hidden_layer_sizes=(1000, 500, 500, 100, 100, 10), max_iter=1000)\n",
      "TRAINING SET: \n",
      "{'Pos': 76, 'Neg': 4992, 'TP': 76, 'TN': 1328, 'FP': 3664, 'FN': 0, 'Accuracy': 0.2770323599052881, 'Precision': 0.020320855614973262, 'Recall': 1.0, 'desc': 'nnxi', 'set': 'train'}\n",
      "TEST SET: \n",
      "{'Pos': 25, 'Neg': 1665, 'TP': 22, 'TN': 1665, 'FP': 0, 'FN': 3, 'Accuracy': 0.9982248520710059, 'Precision': 1.0, 'Recall': 0.88, 'desc': 'nnxi_test', 'set': 'test'}\n"
     ]
    }
   ],
   "source": [
    "# MODEL: Multi-layer Perceptron aka neural network\n",
    "\n",
    "from sklearn import neural_network\n",
    "nnxi = neural_network.MLPClassifier(hidden_layer_sizes = (5000, 1000, 500, 100, 100, 10), max_iter=1000)\n",
    "print(nnx)\n",
    "nnxi.fit(data_train, y_train)\n",
    "\n",
    "nnxi_performance = BinaryClassificationPerformance(nnxi.predict(data_train), y_train, 'nnxi')\n",
    "nnxi_performance.compute_measures()\n",
    "nnxi_performance.performance_measures['set'] = 'train'\n",
    "print('TRAINING SET: ')\n",
    "print(nnxi_performance.performance_measures)\n",
    "\n",
    "nnxi_performance_test = BinaryClassificationPerformance(nnx.predict(data_test), y_test, 'nnxi_test')\n",
    "nnxi_performance_test.compute_measures()\n",
    "nnxi_performance_test.performance_measures['set'] = 'test'\n",
    "print('TEST SET: ')\n",
    "print(nnxi_performance_test.performance_measures)\n",
    "\n",
    "nnxi_performance_test.img_indices()\n",
    "nnxi_img_indices_to_view = nnxi_performance_test.image_indices\n"
   ]
  },
  {
   "cell_type": "code",
   "execution_count": 61,
   "metadata": {
    "scrolled": false
   },
   "outputs": [
    {
     "name": "stdout",
     "output_type": "stream",
     "text": [
      "MLPClassifier(hidden_layer_sizes=(1000, 1000, 1000, 500, 500, 500, 500, 100,\n",
      "                                  10),\n",
      "              max_iter=1000)\n",
      "TRAINING SET: \n",
      "{'Pos': 76, 'Neg': 4992, 'TP': 76, 'TN': 4992, 'FP': 0, 'FN': 0, 'Accuracy': 1.0, 'Precision': 1.0, 'Recall': 1.0, 'desc': 'nn9', 'set': 'train'}\n",
      "TEST SET: \n",
      "{'Pos': 25, 'Neg': 1665, 'TP': 22, 'TN': 1663, 'FP': 2, 'FN': 3, 'Accuracy': 0.9970414201183432, 'Precision': 0.9166666666666666, 'Recall': 0.88, 'desc': 'nn9_test', 'set': 'test'}\n"
     ]
    }
   ],
   "source": [
    "# MODEL: Multi-layer Perceptron aka neural network\n",
    "# NEW FE + LAyers\n",
    "\n",
    "from sklearn import neural_network\n",
    "nn9 = neural_network.MLPClassifier(hidden_layer_sizes = (1000, 1000, 1000, 500, 500, 100, 100, 100, 10), max_iter=1000)\n",
    "print(nn9)\n",
    "nn9.fit(data_train, y_train)\n",
    "\n",
    "nn9_performance = BinaryClassificationPerformance(nn9.predict(data_train), y_train, 'nn9')\n",
    "nn9_performance.compute_measures()\n",
    "nn9_performance.performance_measures['set'] = 'train'\n",
    "print('TRAINING SET: ')\n",
    "print(nn9_performance.performance_measures)\n",
    "\n",
    "nn9_performance_test = BinaryClassificationPerformance(nn9.predict(data_test), y_test, 'nn9_test')\n",
    "nn9_performance_test.compute_measures()\n",
    "nn9_performance_test.performance_measures['set'] = 'test'\n",
    "print('TEST SET: ')\n",
    "print(nn9_performance_test.performance_measures)\n",
    "\n",
    "nn9_performance_test.img_indices()\n",
    "nn9_img_indices_to_view = nn9_performance_test.image_indices\n"
   ]
  },
  {
   "cell_type": "code",
   "execution_count": 34,
   "metadata": {
    "scrolled": false
   },
   "outputs": [
    {
     "data": {
      "text/plain": [
       "\"\\nfrom sklearn import neural_network\\nnn8 = neural_network.MLPClassifier(hidden_layer_sizes = (1000, 1000, 1000), max_iter=1000)\\nprint(nn8)\\nnn8.fit(data_train, y_train)\\n\\nnn8_performance = BinaryClassificationPerformance(nn8.predict(data_train), y_train, 'nn8')\\nnn8_performance.compute_measures()\\nnn8_performance.performance_measures['set'] = 'train'\\nprint('TRAINING SET: ')\\nprint(nn8_performance.performance_measures)\\n\\nnn8_performance_test = BinaryClassificationPerformance(nn8.predict(data_test), y_test, 'nn8_test')\\nnn8_performance_test.compute_measures()\\nnn8_performance_test.performance_measures['set'] = 'test'\\nprint('TEST SET: ')\\nprint(nn8_performance_test.performance_measures)\\n\\nnn8_performance_test.img_indices()\\nnn8_img_indices_to_view = nn8_performance_test.image_indices\\n\""
      ]
     },
     "execution_count": 34,
     "metadata": {},
     "output_type": "execute_result"
    }
   ],
   "source": [
    "# MODEL: Multi-layer Perceptron aka neural network\n",
    "'''\n",
    "from sklearn import neural_network\n",
    "nn8 = neural_network.MLPClassifier(hidden_layer_sizes = (1000, 1000, 1000), max_iter=1000)\n",
    "print(nn8)\n",
    "nn8.fit(data_train, y_train)\n",
    "\n",
    "nn8_performance = BinaryClassificationPerformance(nn8.predict(data_train), y_train, 'nn8')\n",
    "nn8_performance.compute_measures()\n",
    "nn8_performance.performance_measures['set'] = 'train'\n",
    "print('TRAINING SET: ')\n",
    "print(nn8_performance.performance_measures)\n",
    "\n",
    "nn8_performance_test = BinaryClassificationPerformance(nn8.predict(data_test), y_test, 'nn8_test')\n",
    "nn8_performance_test.compute_measures()\n",
    "nn8_performance_test.performance_measures['set'] = 'test'\n",
    "print('TEST SET: ')\n",
    "print(nn8_performance_test.performance_measures)\n",
    "\n",
    "nn8_performance_test.img_indices()\n",
    "nn8_img_indices_to_view = nn8_performance_test.image_indices\n",
    "'''"
   ]
  },
  {
   "cell_type": "code",
   "execution_count": 18,
   "metadata": {
    "scrolled": false
   },
   "outputs": [
    {
     "name": "stdout",
     "output_type": "stream",
     "text": [
      "MLPClassifier(hidden_layer_sizes=(1000, 1000, 1000, 1000), max_iter=1000)\n",
      "TRAINING SET: \n",
      "{'Pos': 76, 'Neg': 4992, 'TP': 76, 'TN': 4992, 'FP': 0, 'FN': 0, 'Accuracy': 1.0, 'Precision': 1.0, 'Recall': 1.0, 'desc': 'nn9', 'set': 'train'}\n",
      "TEST SET: \n",
      "{'Pos': 25, 'Neg': 1665, 'TP': 21, 'TN': 1662, 'FP': 3, 'FN': 4, 'Accuracy': 0.9958579881656805, 'Precision': 0.875, 'Recall': 0.84, 'desc': 'nn9_test', 'set': 'test'}\n"
     ]
    }
   ],
   "source": [
    "# MODEL: Multi-layer Perceptron aka neural network\n",
    "'''\n",
    "from sklearn import neural_network\n",
    "nn9 = neural_network.MLPClassifier(hidden_layer_sizes = (1000, 1000, 1000, 1000), max_iter=1000)\n",
    "print(nn9)\n",
    "nn9.fit(data_train, y_train)\n",
    "\n",
    "nn9_performance = BinaryClassificationPerformance(nn9.predict(data_train), y_train, 'nn9')\n",
    "nn9_performance.compute_measures()\n",
    "nn9_performance.performance_measures['set'] = 'train'\n",
    "print('TRAINING SET: ')\n",
    "print(nn9_performance.performance_measures)\n",
    "\n",
    "nn9_performance_test = BinaryClassificationPerformance(nn9.predict(data_test), y_test, 'nn9_test')\n",
    "nn9_performance_test.compute_measures()\n",
    "nn9_performance_test.performance_measures['set'] = 'test'\n",
    "print('TEST SET: ')\n",
    "print(nn9_performance_test.performance_measures)\n",
    "\n",
    "nn9_performance_test.img_indices()\n",
    "nn9_img_indices_to_view = nn9_performance_test.image_indices\n",
    "'''"
   ]
  },
  {
   "cell_type": "code",
   "execution_count": 19,
   "metadata": {
    "scrolled": false
   },
   "outputs": [
    {
     "data": {
      "text/plain": [
       "\"\\nfrom sklearn import neural_network\\nnnx = neural_network.MLPClassifier(hidden_layer_sizes = (1000, 1000, 1000, 1000, 1000), max_iter=1000)\\nprint(nnx)\\nnnx.fit(data_train, y_train)\\n\\nnnx_performance = BinaryClassificationPerformance(nnx.predict(data_train), y_train, 'nnx')\\nnnx_performance.compute_measures()\\nnnx_performance.performance_measures['set'] = 'train'\\nprint('TRAINING SET: ')\\nprint(nnx_performance.performance_measures)\\n\\nnnx_performance_test = BinaryClassificationPerformance(nnx.predict(data_test), y_test, 'nnx_test')\\nnnx_performance_test.compute_measures()\\nnnx_performance_test.performance_measures['set'] = 'test'\\nprint('TEST SET: ')\\nprint(nnx_performance_test.performance_measures)\\n\\nnnx_performance_test.img_indices()\\nnnx_img_indices_to_view = nnx_performance_test.image_indices\\n\""
      ]
     },
     "execution_count": 19,
     "metadata": {},
     "output_type": "execute_result"
    }
   ],
   "source": [
    "# MODEL: Multi-layer Perceptron aka neural network\n",
    "'''\n",
    "from sklearn import neural_network\n",
    "nnx = neural_network.MLPClassifier(hidden_layer_sizes = (1000, 1000, 1000, 1000, 1000), max_iter=1000)\n",
    "print(nnx)\n",
    "nnx.fit(data_train, y_train)\n",
    "\n",
    "nnx_performance = BinaryClassificationPerformance(nnx.predict(data_train), y_train, 'nnx')\n",
    "nnx_performance.compute_measures()\n",
    "nnx_performance.performance_measures['set'] = 'train'\n",
    "print('TRAINING SET: ')\n",
    "print(nnx_performance.performance_measures)\n",
    "\n",
    "nnx_performance_test = BinaryClassificationPerformance(nnx.predict(data_test), y_test, 'nnx_test')\n",
    "nnx_performance_test.compute_measures()\n",
    "nnx_performance_test.performance_measures['set'] = 'test'\n",
    "print('TEST SET: ')\n",
    "print(nnx_performance_test.performance_measures)\n",
    "\n",
    "nnx_performance_test.img_indices()\n",
    "nnx_img_indices_to_view = nnx_performance_test.image_indices\n",
    "'''"
   ]
  },
  {
   "cell_type": "code",
   "execution_count": 20,
   "metadata": {
    "scrolled": false
   },
   "outputs": [
    {
     "data": {
      "text/plain": [
       "\"\\nfrom sklearn import neural_network\\nnnxi = neural_network.MLPClassifier(hidden_layer_sizes = (1000, 1000, 1000, 1000, 1000, 1000), max_iter=1000)\\nprint(nnxi)\\nnnxi.fit(data_train, y_train)\\n\\nnnxi_performance = BinaryClassificationPerformance(nnxi.predict(data_train), y_train, 'nnxi')\\nnnxi_performance.compute_measures()\\nnnxi_performance.performance_measures['set'] = 'train'\\nprint('TRAINING SET: ')\\nprint(nnxi_performance.performance_measures)\\n\\nnnxi_performance_test = BinaryClassificationPerformance(nnxi.predict(data_test), y_test, 'nnxi_test')\\nnnxi_performance_test.compute_measures()\\nnnxi_performance_test.performance_measures['set'] = 'test'\\nprint('TEST SET: ')\\nprint(nnxi_performance_test.performance_measures)\\n\\nnnxi_performance_test.img_indices()\\nnnxi_img_indices_to_view = nnxi_performance_test.image_indices\\n\""
      ]
     },
     "execution_count": 20,
     "metadata": {},
     "output_type": "execute_result"
    }
   ],
   "source": [
    "# MODEL: Multi-layer Perceptron aka neural network\n",
    "'''\n",
    "from sklearn import neural_network\n",
    "nnxi = neural_network.MLPClassifier(hidden_layer_sizes = (1000, 1000, 1000, 1000, 1000, 1000), max_iter=1000)\n",
    "print(nnxi)\n",
    "nnxi.fit(data_train, y_train)\n",
    "\n",
    "nnxi_performance = BinaryClassificationPerformance(nnxi.predict(data_train), y_train, 'nnxi')\n",
    "nnxi_performance.compute_measures()\n",
    "nnxi_performance.performance_measures['set'] = 'train'\n",
    "print('TRAINING SET: ')\n",
    "print(nnxi_performance.performance_measures)\n",
    "\n",
    "nnxi_performance_test = BinaryClassificationPerformance(nnxi.predict(data_test), y_test, 'nnxi_test')\n",
    "nnxi_performance_test.compute_measures()\n",
    "nnxi_performance_test.performance_measures['set'] = 'test'\n",
    "print('TEST SET: ')\n",
    "print(nnxi_performance_test.performance_measures)\n",
    "\n",
    "nnxi_performance_test.img_indices()\n",
    "nnxi_img_indices_to_view = nnxi_performance_test.image_indices\n",
    "'''"
   ]
  },
  {
   "cell_type": "markdown",
   "metadata": {},
   "source": [
    "# look at examples of neural network classifications"
   ]
  },
  {
   "cell_type": "markdown",
   "metadata": {},
   "source": [
    "## true positives"
   ]
  },
  {
   "cell_type": "code",
   "execution_count": 550,
   "metadata": {},
   "outputs": [],
   "source": [
    "#performance_examples('TP', nn_img_indices_to_view)"
   ]
  },
  {
   "cell_type": "markdown",
   "metadata": {},
   "source": [
    "## false positives"
   ]
  },
  {
   "cell_type": "code",
   "execution_count": 551,
   "metadata": {},
   "outputs": [],
   "source": [
    "#performance_examples('FP', nn_img_indices_to_view)"
   ]
  },
  {
   "cell_type": "markdown",
   "metadata": {},
   "source": [
    "## false negatives"
   ]
  },
  {
   "cell_type": "code",
   "execution_count": 552,
   "metadata": {},
   "outputs": [],
   "source": [
    "#performance_examples('FN', nn_img_indices_to_view)"
   ]
  },
  {
   "cell_type": "markdown",
   "metadata": {},
   "source": [
    "# comparisons"
   ]
  },
  {
   "cell_type": "code",
   "execution_count": 553,
   "metadata": {},
   "outputs": [],
   "source": [
    "# list of fits to compare: \n",
    "final_fits = []\n",
    "final_fits.append(prc_performance.performance_measures)\n",
    "final_fits.append(prc_performance_test.performance_measures)\n",
    "final_fits.append(nn_performance.performance_measures)\n",
    "final_fits.append(nn_performance_test.performance_measures)"
   ]
  },
  {
   "cell_type": "code",
   "execution_count": 554,
   "metadata": {},
   "outputs": [
    {
     "data": {
      "image/png": "[encoded data removed]",
      "text/plain": [
       "<Figure size 720x720 with 1 Axes>"
      ]
     },
     "metadata": {
      "needs_background": "light"
     },
     "output_type": "display_data"
    }
   ],
   "source": [
    "plt.figure(figsize=(10,10))\n",
    "\n",
    "for fit in final_fits:\n",
    "    if fit['set'] == 'train':\n",
    "        color = 'co'\n",
    "    else:\n",
    "        color = 'ro'\n",
    "    plt.plot(fit['FP'] / fit['Neg'], \n",
    "             fit['TP'] / fit['Pos'], color, markersize=12)\n",
    "    plt.text(fit['FP'] / fit['Neg'], \n",
    "             fit['TP'] / fit['Pos'], fit['desc'] + ': ' + fit['set'], fontsize=16)\n",
    "plt.axis([0, 1, 0, 1])\n",
    "plt.title('ROC plot: test set')\n",
    "plt.xlabel('False positive rate')\n",
    "plt.ylabel('True positive rate')\n",
    "plt.show()\n"
   ]
  },
  {
   "cell_type": "code",
   "execution_count": null,
   "metadata": {},
   "outputs": [],
   "source": [
    "# list of fits to compare: \n",
    "final_fits = []\n",
    "final_fits.append(prc_performance.performance_measures)\n",
    "final_fits.append(prc_performance_test.performance_measures)\n",
    "final_fits.append(nn_performance.performance_measures)\n",
    "final_fits.append(nn_performance_test.performance_measures)"
   ]
  },
  {
   "cell_type": "code",
   "execution_count": 37,
   "metadata": {},
   "outputs": [],
   "source": [
    "# list of fits to compare:\n",
    "final_fitsN = []\n",
    "\n",
    "final_fitsN.append(prc_performance.performance_measures)\n",
    "final_fitsN.append(prc_performance_test.performance_measures)\n",
    "\n",
    "#final_fitsN.append(nn_performance.performance_measures)\n",
    "#final_fitsN.append(nn_performance_test.performance_measures)\n",
    "\n",
    "#final_fitsN.append(nn1_performance.performance_measures)\n",
    "#final_fitsN.append(nn1_performance_test.performance_measures)\n",
    "\n",
    "#final_fitsN.append(nn2_performance.performance_measures)\n",
    "#final_fitsN.append(nn2_performance_test.performance_measures)\n",
    "\n",
    "#final_fitsN.append(nn3_performance.performance_measures)\n",
    "#final_fitsN.append(nn3_performance_test.performance_measures)\n",
    "\n",
    "#final_fitsN.append(nn7_performance.performance_measures)\n",
    "#final_fitsN.append(nn7_performance_test.performance_measures)\n",
    "\n",
    "#final_fitsN.append(nn8_performance.performance_measures)\n",
    "#final_fitsN.append(nn8_performance_test.performance_measures)\n",
    "\n",
    "#final_fitsN.append(nn9_performance.performance_measures)\n",
    "#final_fitsN.append(nn9_performance_test.performance_measures)\n",
    "\n",
    "#final_fitsN.append(nnx_performance.performance_measures)\n",
    "#final_fitsN.append(nnx_performance_test.performance_measures)\n",
    "\n",
    "#final_fitsN.append(nnxi_performance.performance_measures)\n",
    "#final_fitsN.append(nnxi_performance_test.performance_measures)\n",
    "\n",
    "#final_fitsN.append(nn9_performance.performance_measures)\n",
    "#final_fitsN.append(nn9_performance_test.performance_measures)\n",
    "\n",
    "#final_fitsN.append(nn4_performance.performance_measures)\n",
    "#final_fitsN.append(nn4_performance_test.performance_measures)\n",
    "\n",
    "#final_fitsN.append(nn5_performance.performance_measures)\n",
    "#final_fitsN.append(nn5_performance_test.performance_measures)\n",
    "\n"
   ]
  },
  {
   "cell_type": "code",
   "execution_count": 38,
   "metadata": {},
   "outputs": [
    {
     "data": {
      "image/png": "[encoded data removed]",
      "text/plain": [
       "<Figure size 720x720 with 1 Axes>"
      ]
     },
     "metadata": {
      "needs_background": "light"
     },
     "output_type": "display_data"
    }
   ],
   "source": [
    "plt.figure(figsize=(10,10))\n",
    "\n",
    "for fit in final_fitsN:\n",
    "    if fit['set'] == 'train':\n",
    "        color = 'co'\n",
    "    else:\n",
    "        color = 'ro'\n",
    "    plt.plot(fit['FP'] / fit['Neg'], \n",
    "             fit['TP'] / fit['Pos'], color, markersize=12)\n",
    "    plt.text(fit['FP'] / fit['Neg'], \n",
    "             fit['TP'] / fit['Pos'], fit['desc'] + ': ' + fit['set'], fontsize=16)\n",
    "plt.axis([0, 1, 0, 1])\n",
    "plt.title('ROC plot: test set')\n",
    "plt.xlabel('False positive rate')\n",
    "plt.ylabel('True positive rate')\n",
    "plt.show()"
   ]
  },
  {
   "cell_type": "code",
   "execution_count": 20,
   "metadata": {
    "scrolled": false
   },
   "outputs": [
    {
     "data": {
      "image/png": "[encoded data removed]",
      "text/plain": [
       "<Figure size 720x720 with 1 Axes>"
      ]
     },
     "metadata": {
      "needs_background": "light"
     },
     "output_type": "display_data"
    }
   ],
   "source": [
    "plt.figure(figsize=(10,10))\n",
    "\n",
    "for fit in final_fitsN:\n",
    "    if fit['set'] == 'train':\n",
    "        color = 'co'\n",
    "    else:\n",
    "        color = 'ro'\n",
    "    plt.plot(fit['FP'] / fit['Neg'], \n",
    "             fit['TP'] / fit['Pos'], color, markersize=12)\n",
    "    plt.text(fit['FP'] / fit['Neg'], \n",
    "             fit['TP'] / fit['Pos'], fit['desc'] + ': ' + fit['set'], fontsize=16)\n",
    "plt.axis([0, 0.01, 0.6, 1])\n",
    "plt.title('ROC plot: test set')\n",
    "plt.xlabel('False positive rate')\n",
    "plt.ylabel('True positive rate')\n",
    "plt.show()\n"
   ]
  },
  {
   "cell_type": "code",
   "execution_count": 25,
   "metadata": {},
   "outputs": [],
   "source": [
    "# list of fits to compare: \n",
    "final_fitsL = []\n",
    "final_fitsL.append(nn6_performance.performance_measures)\n",
    "final_fitsL.append(nn6_performance_test.performance_measures)\n",
    "\n",
    "final_fitsL.append(nn7_performance.performance_measures)\n",
    "final_fitsL.append(nn7_performance_test.performance_measures)\n",
    "\n",
    "final_fitsL.append(nn8_performance.performance_measures)\n",
    "final_fitsL.append(nn8_performance_test.performance_measures)\n",
    "\n",
    "final_fitsL.append(nn9_performance.performance_measures)\n",
    "final_fitsL.append(nn9_performance_test.performance_measures)\n",
    "\n",
    "#final_fitsL.append(nnx_performance.performance_measures)\n",
    "#final_fitsL.append(nnx_performance_test.performance_measures)\n",
    "\n",
    "#final_fitsL.append(nnxi_performance.performance_measures)\n",
    "#final_fitsL.append(nnxi_performance_test.performance_measures)\n",
    "\n"
   ]
  },
  {
   "cell_type": "code",
   "execution_count": null,
   "metadata": {},
   "outputs": [],
   "source": []
  },
  {
   "cell_type": "code",
   "execution_count": 26,
   "metadata": {},
   "outputs": [
    {
     "data": {
      "image/png": "[encoded data removed]",
      "text/plain": [
       "<Figure size 720x720 with 1 Axes>"
      ]
     },
     "metadata": {
      "needs_background": "light"
     },
     "output_type": "display_data"
    }
   ],
   "source": [
    "plt.figure(figsize=(10,10))\n",
    "\n",
    "for fit in final_fitsL:\n",
    "    if fit['set'] == 'train':\n",
    "        color = 'co'\n",
    "    else:\n",
    "        color = 'ro'\n",
    "    plt.plot(fit['FP'] / fit['Neg'], \n",
    "             fit['TP'] / fit['Pos'], color, markersize=12)\n",
    "    plt.text(fit['FP'] / fit['Neg'], \n",
    "             fit['TP'] / fit['Pos'], fit['desc'] + ': ' + fit['set'], fontsize=16)\n",
    "plt.axis([0, 0.01, 0.6, 1])\n",
    "plt.title('ROC plot: test set')\n",
    "plt.xlabel('False positive rate')\n",
    "plt.ylabel('True positive rate')\n",
    "plt.show()\n"
   ]
  },
  {
   "cell_type": "markdown",
   "metadata": {},
   "source": [
    "# SUBMISSION\n",
    "\n",
    "### file paths and names:"
   ]
  },
  {
   "cell_type": "code",
   "execution_count": null,
   "metadata": {},
   "outputs": [],
   "source": []
  },
  {
   "cell_type": "code",
   "execution_count": null,
   "metadata": {},
   "outputs": [],
   "source": []
  },
  {
   "cell_type": "code",
   "execution_count": null,
   "metadata": {},
   "outputs": [],
   "source": []
  },
  {
   "cell_type": "code",
   "execution_count": null,
   "metadata": {},
   "outputs": [],
   "source": []
  },
  {
   "cell_type": "code",
   "execution_count": null,
   "metadata": {},
   "outputs": [],
   "source": []
  },
  {
   "cell_type": "code",
   "execution_count": null,
   "metadata": {},
   "outputs": [],
   "source": []
  },
  {
   "cell_type": "code",
   "execution_count": 39,
   "metadata": {},
   "outputs": [
    {
     "name": "stdout",
     "output_type": "stream",
     "text": [
      "\u001b[31m2016-10-10T19+44+49_610Z\u001b[m\u001b[m*\r\n",
      "\u001b[34m__pycache__\u001b[m\u001b[m/\r\n",
      "airplane_submission.csv\r\n",
      "\u001b[31mimages_starter.ipynb\u001b[m\u001b[m*\r\n",
      "\u001b[31mmy_measures.py\u001b[m\u001b[m*\r\n",
      "new_airplane_submission.csv\r\n",
      "\u001b[34mplane_data\u001b[m\u001b[m/\r\n",
      "planeimages_first_full_iteration-Copy1.ipynb\r\n",
      "\u001b[31mplaneimages_first_full_iteration.ipynb\u001b[m\u001b[m*\r\n",
      "\u001b[34mtest_data_for_grading\u001b[m\u001b[m/\r\n"
     ]
    }
   ],
   "source": [
    "ls"
   ]
  },
  {
   "cell_type": "code",
   "execution_count": 40,
   "metadata": {},
   "outputs": [],
   "source": [
    "submission_ci_path = 'test_data_for_grading/test_cropped_images/' # file path for cropped images for training\n",
    "submission_l_file = 'test_data_for_grading/test_plane_labels.csv' # file path and file name for csv with labels"
   ]
  },
  {
   "cell_type": "code",
   "execution_count": 44,
   "metadata": {},
   "outputs": [
    {
     "name": "stdout",
     "output_type": "stream",
     "text": [
      "First few lines of image labels: \n",
      "                   img_name\n",
      "0  2016-08-02T13+50+24_430Z\n",
      "1  2016-08-02T14+12+37_390Z\n",
      "2  2016-08-03T12+32+21_790Z\n",
      "3  2016-08-03T13+19+28_320Z\n",
      "4  2016-08-05T15+24+58_670Z\n",
      "Size of image label dataFrame: \n",
      "(1523, 1)\n",
      "Shape of original feature representation: \n",
      "(1523, 30, 70)\n",
      "Shape of flat feature representation: \n",
      "(1523, 2100)\n",
      "Shape of X_test for submission:\n",
      "(1523, 2100)\n",
      "SUCCESS!\n",
      "Number of rows in the submission test set (should be 1,523): \n"
     ]
    }
   ],
   "source": [
    "X_test_data, X_test_submission = process_raw_data(submission_l_file, submission_ci_path, my_random_seed=74, test=True)\n",
    "print(\"Number of rows in the submission test set (should be 1,523): \")"
   ]
  },
  {
   "cell_type": "markdown",
   "metadata": {},
   "source": [
    "### IMPORTANT CHECK: make sure that the number of columns in your training data is the same as the number of columns in this test submission!"
   ]
  },
  {
   "cell_type": "code",
   "execution_count": 45,
   "metadata": {},
   "outputs": [
    {
     "name": "stdout",
     "output_type": "stream",
     "text": [
      "(5068, 2100)\n",
      "(1523, 2100)\n"
     ]
    }
   ],
   "source": [
    "print(data_train.shape)\n",
    "print(X_test_data.shape)"
   ]
  },
  {
   "cell_type": "markdown",
   "metadata": {},
   "source": [
    "Both the training set and submission test set have 525 columns. Success!"
   ]
  },
  {
   "cell_type": "markdown",
   "metadata": {},
   "source": [
    "---\n",
    "\n",
    "Choose a *single* model for your submission. In this code, I am choosing the Perceptron model fit, which is in the prc object. But you should choose the model that is performing the best for you!"
   ]
  },
  {
   "cell_type": "code",
   "execution_count": 46,
   "metadata": {},
   "outputs": [
    {
     "ename": "ValueError",
     "evalue": "X has 2100 features per sample; expecting 8400",
     "output_type": "error",
     "traceback": [
      "\u001b[0;31m---------------------------------------------------------------------------\u001b[0m",
      "\u001b[0;31mValueError\u001b[0m                                Traceback (most recent call last)",
      "\u001b[0;32m/var/folders/qn/rnhppd716mvg1dm26kjg8jyc0000gn/T/ipykernel_25684/108391051.py\u001b[0m in \u001b[0;36m<module>\u001b[0;34m\u001b[0m\n\u001b[1;32m      1\u001b[0m \u001b[0;31m# concatenate predictions to the id\u001b[0m\u001b[0;34m\u001b[0m\u001b[0;34m\u001b[0m\u001b[0m\n\u001b[0;32m----> 2\u001b[0;31m \u001b[0mX_test_submission\u001b[0m\u001b[0;34m[\u001b[0m\u001b[0;34m\"prediction\"\u001b[0m\u001b[0;34m]\u001b[0m \u001b[0;34m=\u001b[0m \u001b[0mprc\u001b[0m\u001b[0;34m.\u001b[0m\u001b[0mpredict\u001b[0m\u001b[0;34m(\u001b[0m\u001b[0mX_test_data\u001b[0m\u001b[0;34m)\u001b[0m\u001b[0;34m\u001b[0m\u001b[0;34m\u001b[0m\u001b[0m\n\u001b[0m\u001b[1;32m      3\u001b[0m \u001b[0;31m# look at the proportion of positive predictions\u001b[0m\u001b[0;34m\u001b[0m\u001b[0;34m\u001b[0m\u001b[0m\n\u001b[1;32m      4\u001b[0m \u001b[0mprint\u001b[0m\u001b[0;34m(\u001b[0m\u001b[0mX_test_submission\u001b[0m\u001b[0;34m[\u001b[0m\u001b[0;34m'prediction'\u001b[0m\u001b[0;34m]\u001b[0m\u001b[0;34m.\u001b[0m\u001b[0mmean\u001b[0m\u001b[0;34m(\u001b[0m\u001b[0;34m)\u001b[0m\u001b[0;34m)\u001b[0m\u001b[0;34m\u001b[0m\u001b[0;34m\u001b[0m\u001b[0m\n",
      "\u001b[0;32m~/opt/anaconda3/lib/python3.9/site-packages/sklearn/linear_model/_base.py\u001b[0m in \u001b[0;36mpredict\u001b[0;34m(self, X)\u001b[0m\n\u001b[1;32m    307\u001b[0m             \u001b[0mPredicted\u001b[0m \u001b[0;32mclass\u001b[0m \u001b[0mlabel\u001b[0m \u001b[0mper\u001b[0m \u001b[0msample\u001b[0m\u001b[0;34m.\u001b[0m\u001b[0;34m\u001b[0m\u001b[0;34m\u001b[0m\u001b[0m\n\u001b[1;32m    308\u001b[0m         \"\"\"\n\u001b[0;32m--> 309\u001b[0;31m         \u001b[0mscores\u001b[0m \u001b[0;34m=\u001b[0m \u001b[0mself\u001b[0m\u001b[0;34m.\u001b[0m\u001b[0mdecision_function\u001b[0m\u001b[0;34m(\u001b[0m\u001b[0mX\u001b[0m\u001b[0;34m)\u001b[0m\u001b[0;34m\u001b[0m\u001b[0;34m\u001b[0m\u001b[0m\n\u001b[0m\u001b[1;32m    310\u001b[0m         \u001b[0;32mif\u001b[0m \u001b[0mlen\u001b[0m\u001b[0;34m(\u001b[0m\u001b[0mscores\u001b[0m\u001b[0;34m.\u001b[0m\u001b[0mshape\u001b[0m\u001b[0;34m)\u001b[0m \u001b[0;34m==\u001b[0m \u001b[0;36m1\u001b[0m\u001b[0;34m:\u001b[0m\u001b[0;34m\u001b[0m\u001b[0;34m\u001b[0m\u001b[0m\n\u001b[1;32m    311\u001b[0m             \u001b[0mindices\u001b[0m \u001b[0;34m=\u001b[0m \u001b[0;34m(\u001b[0m\u001b[0mscores\u001b[0m \u001b[0;34m>\u001b[0m \u001b[0;36m0\u001b[0m\u001b[0;34m)\u001b[0m\u001b[0;34m.\u001b[0m\u001b[0mastype\u001b[0m\u001b[0;34m(\u001b[0m\u001b[0mint\u001b[0m\u001b[0;34m)\u001b[0m\u001b[0;34m\u001b[0m\u001b[0;34m\u001b[0m\u001b[0m\n",
      "\u001b[0;32m~/opt/anaconda3/lib/python3.9/site-packages/sklearn/linear_model/_base.py\u001b[0m in \u001b[0;36mdecision_function\u001b[0;34m(self, X)\u001b[0m\n\u001b[1;32m    286\u001b[0m         \u001b[0mn_features\u001b[0m \u001b[0;34m=\u001b[0m \u001b[0mself\u001b[0m\u001b[0;34m.\u001b[0m\u001b[0mcoef_\u001b[0m\u001b[0;34m.\u001b[0m\u001b[0mshape\u001b[0m\u001b[0;34m[\u001b[0m\u001b[0;36m1\u001b[0m\u001b[0;34m]\u001b[0m\u001b[0;34m\u001b[0m\u001b[0;34m\u001b[0m\u001b[0m\n\u001b[1;32m    287\u001b[0m         \u001b[0;32mif\u001b[0m \u001b[0mX\u001b[0m\u001b[0;34m.\u001b[0m\u001b[0mshape\u001b[0m\u001b[0;34m[\u001b[0m\u001b[0;36m1\u001b[0m\u001b[0;34m]\u001b[0m \u001b[0;34m!=\u001b[0m \u001b[0mn_features\u001b[0m\u001b[0;34m:\u001b[0m\u001b[0;34m\u001b[0m\u001b[0;34m\u001b[0m\u001b[0m\n\u001b[0;32m--> 288\u001b[0;31m             raise ValueError(\"X has %d features per sample; expecting %d\"\n\u001b[0m\u001b[1;32m    289\u001b[0m                              % (X.shape[1], n_features))\n\u001b[1;32m    290\u001b[0m \u001b[0;34m\u001b[0m\u001b[0m\n",
      "\u001b[0;31mValueError\u001b[0m: X has 2100 features per sample; expecting 8400"
     ]
    }
   ],
   "source": [
    "# concatenate predictions to the id\n",
    "X_test_submission[\"prediction\"] = prc.predict(X_test_data)\n",
    "# look at the proportion of positive predictions\n",
    "print(X_test_submission['prediction'].mean())"
   ]
  },
  {
   "cell_type": "markdown",
   "metadata": {},
   "source": [
    "This is the proportion of predictions that have predicted that there is an airplane in the image."
   ]
  },
  {
   "cell_type": "code",
   "execution_count": 94,
   "metadata": {},
   "outputs": [
    {
     "name": "stdout",
     "output_type": "stream",
     "text": [
      "(1523, 2)\n"
     ]
    }
   ],
   "source": [
    "print(X_test_submission.shape) # should be (1523, 2)"
   ]
  },
  {
   "cell_type": "code",
   "execution_count": 96,
   "metadata": {},
   "outputs": [],
   "source": [
    "# export submission file as pdf\n",
    "# CHANGE FILE PATH: \n",
    "X_test_submission.to_csv('new_airplane_submission.csv', index=False)"
   ]
  },
  {
   "cell_type": "code",
   "execution_count": null,
   "metadata": {},
   "outputs": [],
   "source": []
  }
 ],
 "metadata": {
  "kernelspec": {
   "display_name": "Python 3 (ipykernel)",
   "language": "python",
   "name": "python3"
  },
  "language_info": {
   "codemirror_mode": {
    "name": "ipython",
    "version": 3
   },
   "file_extension": ".py",
   "mimetype": "text/x-python",
   "name": "python",
   "nbconvert_exporter": "python",
   "pygments_lexer": "ipython3",
   "version": "3.9.7"
  }
 },
 "nbformat": 4,
 "nbformat_minor": 2
}
