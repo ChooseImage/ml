{
 "cells": [
  {
   "cell_type": "code",
   "execution_count": 1,
   "metadata": {},
   "outputs": [],
   "source": [
    "import numpy as np\n",
    "import pandas as pd\n",
    "import matplotlib.pyplot as plt\n",
    "%matplotlib inline"
   ]
  },
  {
   "cell_type": "markdown",
   "metadata": {},
   "source": [
    "### read the raw data"
   ]
  },
  {
   "cell_type": "code",
   "execution_count": 7,
   "metadata": {},
   "outputs": [
    {
     "name": "stdout",
     "output_type": "stream",
     "text": [
      "term          object\n",
      "definition    object\n",
      "ml              bool\n",
      "dtype: object\n",
      "               term                                         definition    ml\n",
      "0  machine learning                        Machine do the work for me.  True\n",
      "1  machine learning  The process of teaching a computer over iterat...  True\n",
      "2  machine learning  Machine learning is using quantitative data cl...  True\n",
      "3  machine learning  Training machine to understand human's cognition.  True\n",
      "4  machine learning  the use of algorithms to inform a program of i...  True\n",
      "5  machine learning  machine learning is the process of analyzing d...  True\n",
      "6  machine learning                                training to predict  True\n",
      "7  machine learning  synthetically adjusting future behaviors based...  True\n",
      "8  machine learning  A series of algorithmic procedures that proces...  True\n",
      "9  machine learning  The process of artificial programs' iteration ...  True\n"
     ]
    }
   ],
   "source": [
    "data = pd.read_csv('definitions22.csv', encoding='latin1')\n",
    "\n",
    "# create a boolean indicator =True if the definition is of \"machine learning\"\n",
    "data['ml'] = data['term'] == 'machine learning'\n",
    "\n",
    "print(data.dtypes)\n",
    "print(data.head(10))"
   ]
  },
  {
   "cell_type": "markdown",
   "metadata": {},
   "source": [
    "### <span style=\"color:red\">create feature set X (matrix) and vector of labels L</span>\n",
    "\n",
    "Use [feature extraction methods in scikit-learn](http://scikit-learn.org/stable/modules/feature_extraction.html#text-feature-extraction) to *vectorize* the text of machine learning/AI definitions into an X matrix. "
   ]
  },
  {
   "cell_type": "code",
   "execution_count": 8,
   "metadata": {},
   "outputs": [
    {
     "name": "stdout",
     "output_type": "stream",
     "text": [
      "(57, 358)\n"
     ]
    }
   ],
   "source": [
    "from sklearn.feature_extraction.text import CountVectorizer\n",
    "\n",
    "L = data[\"ml\"] # labels\n",
    "corpus = data['definition'] # corpus of reviews in words\n",
    "vectorizer = CountVectorizer()\n",
    "X = vectorizer.fit_transform(corpus)\n",
    "print(X.shape)"
   ]
  },
  {
   "cell_type": "markdown",
   "metadata": {},
   "source": [
    "### let's look at the words in the corpus of \"definition\""
   ]
  },
  {
   "cell_type": "code",
   "execution_count": 9,
   "metadata": {},
   "outputs": [
    {
     "name": "stdout",
     "output_type": "stream",
     "text": [
      "358\n",
      "* * * * *\n",
      "{'machine': 190, 'do': 96, 'the': 313, 'work': 353, 'for': 119, 'me': 199, 'process': 257, 'of': 224, 'teaching': 306, 'computer': 74, 'over': 238, 'iteration': 168, 'how': 141, 'to': 325, 'think': 321, 'learning': 180, 'is': 166, 'using': 338, 'quantitative': 263, 'data': 84, 'classification': 65, 'and': 22, 'analysis': 20, 'help': 138, 'people': 242, 'better': 45, 'making': 195, 'descions': 90, 'training': 328, 'understand': 330, 'human': 142, 'cognition': 67, 'use': 335, 'algorithms': 14, 'inform': 154, 'program': 259, 'its': 169, 'next': 222, 'action': 6, 'or': 229, 'manipulate': 197, 'single': 290, 'purpose': 262, 'analyzing': 21, 'in': 151, 'order': 230, 'synthesize': 299, 'result': 274, 'prediction': 253, 'predict': 251, 'synthetically': 300, 'adjusting': 7, 'future': 128, 'behaviors': 40, 'based': 34, 'on': 226, 'past': 240, 'mistakes': 208, 'reach': 264, 'certain': 62, 'desired': 92, 'outcome': 235, 'series': 285, 'algorithmic': 13, 'procedures': 256, 'that': 311, 'input': 158, 'produce': 258, 'output': 236, 'artificial': 27, 'programs': 260, 'understanding': 331, 'predicting': 252, 'defined': 88, 'domain': 97, 'some': 295, 'results': 275, 'came': 56, 'out': 234, 'from': 123, 'with': 351, 'ordered': 231, 'algorism': 12, 'ability': 2, 'infer': 153, 'information': 155, 'meaning': 200, 'own': 239, 'have': 136, 'recognize': 267, 'patterns': 241, 'set': 286, 'finding': 117, 'large': 178, 'amount': 18, 'it': 167, 'could': 76, 'be': 35, 'form': 120, 'knowledge': 177, 'been': 36, 'trained': 327, 'by': 53, 'intelligence': 161, 'creating': 80, 'machines': 191, 'ai': 11, 'which': 349, 'allow': 15, 'them': 315, 'user': 336, 'behavior': 39, 'improve': 149, 'initial': 157, 'model': 211, 'they': 318, 'humans': 144, 'are': 26, 'believed': 43, 'born': 46, 'natural': 218, 'if': 146, 'you': 356, 'will': 350, 'led': 181, 'build': 49, 'devices': 93, 'were': 347, 'theorized': 316, 'act': 5, 'their': 314, 'behalf': 37, 'these': 317, 'got': 133, 'really': 266, 'sophisticated': 296, 'eventually': 107, 'given': 132, 'an': 19, 'so': 292, 'carry': 59, 'functions': 126, 'internally': 163, 'without': 352, 'needing': 219, 'routine': 277, 'check': 64, 'ins': 159, 'outside': 237, 'world': 354, 'made': 193, 'as': 28, 'collecting': 68, 'informations': 156, 'decisions': 87, 'executing': 109, 'independently': 152, 'would': 355, 'what': 348, 'call': 54, 'computers': 75, 'can': 57, 'learn': 179, 'users': 337, 'experience': 110, 'models': 212, 'method': 203, 'generate': 130, 'applying': 25, 'different': 95, 'statistical': 298, 'computations': 73, 'dataset': 85, 'imitate': 147, 'behave': 38, 'accord': 4, 'rules': 278, 'experiences': 111, 'created': 79, 'thing': 319, 'operating': 227, 'instructions': 160, 'itself': 170, 'intervention': 164, 'computational': 72, 'technique': 307, 'simulate': 288, 'beings': 41, 'designed': 91, 'like': 183, 'than': 310, 'systems': 302, 'attempt': 30, 'at': 29, 'allowing': 16, 'teach': 305, 'complete': 69, 'task': 304, 'occasionally': 223, 'mixed': 209, 'may': 198, 'jumbled': 173, 'definition': 89, 'seen': 283, 'previous': 254, 'response': 273, 'believe': 42, 'more': 213, 'advanced': 9, 'foundation': 121, 'upon': 333, 'gets': 131, 'built': 51, 'both': 47, 'belong': 44, 'same': 279, 'branch': 48, 'automation': 31, 'technology': 308, 'thoroughly': 322, 'multiple': 215, 'facets': 112, 'able': 3, 'interact': 162, 'back': 33, 'us': 334, 'framework': 122, 'has': 135, 'utilized': 340, 'code': 66, 'fulfill': 124, 'mimics': 205, 'person': 243, 'utilizing': 341, 'educate': 101, 'thus': 323, 'having': 137, 'sense': 284, 'improving': 150, 'software': 293, 'implement': 148, 'create': 78, 'update': 332, 'specific': 297, 'science': 282, 'mimic': 204, 'solve': 294, 'problem': 255, 'we': 346, 'find': 116, 'living': 188, 'organisms': 232, 'animal': 23, 'but': 52, 'plants': 246, 'fungi': 127, 'etc': 106, 'also': 17, 'posses': 248, 'repetitive': 272, 'machining': 192, 'building': 50, 'system': 301, 'real': 265, 'humanbeings': 143, 'ml': 210, 'computation': 71, 'powers': 249, 'complex': 70, 'datasets': 86, 'idea': 145, 'practice': 250, 'entities': 105, 'abilities': 1, 'make': 194, 'judgements': 172, 'literably': 185, 'cute': 83, 'fluffy': 118, 'lol': 189, 'little': 186, 'cat': 61, 'baby': 32, 'guess': 134, 'saw': 280, 'kitty': 175, 'your': 357, 'shoulder': 287, 'few': 114, 'minutes': 206, 'ago': 10, 'vs': 343, 'general': 129, 'saying': 281, 'creature': 81, 'filled': 115, 'simultaneously': 289, 'mischief': 207, 'pointy': 247, 'things': 320, 'cuddles': 82, 'mammals': 196, 'tip': 324, 'ears': 100, 'tail': 303, 'new': 221, 'virtual': 342, 'promises': 261, 'never': 220, 'die': 94, 'lick': 182, 'toes': 326, 'much': 214, 'want': 344, 'japanese': 171, 'cartoon': 60, 'character': 63, 'feline': 113, 'meow': 202, 'oh': 225, 'thats': 312, 'adorable': 8, 'lives': 187, 'home': 139, 'name': 217, 'usually': 339, 'house': 140, 'pet': 244, 'my': 216, 'roomate': 276, '__': 0, 'fun': 125, 'way': 345, 'domesticated': 99, 'likes': 184, 'pets': 245, 'treats': 329, 'related': 271, 'canõt': 58, 'relate': 270, 'anything': 24, 'know': 176, 'otherwise': 233, 'small': 291, 'term': 309, 'endearment': 104, 'opposed': 228, 'just': 174, 'emotive': 103, 'element': 102, 'involved': 165, 'refers': 269, 'course': 77, 'domestic': 98, 'referring': 268, 'means': 201, 'calling': 55, 'excitement': 108}\n"
     ]
    }
   ],
   "source": [
    "print(len(vectorizer.vocabulary_))\n",
    "print(\"* * * * *\")\n",
    "print(vectorizer.vocabulary_)"
   ]
  },
  {
   "cell_type": "markdown",
   "metadata": {},
   "source": [
    "### <span style=\"color:red\">fit X, L to SVM using gradient descent</span>\n",
    "\n",
    "[gradient descent documentation](http://scikit-learn.org/stable/modules/generated/sklearn.linear_model.SGDClassifier.html)"
   ]
  },
  {
   "cell_type": "code",
   "execution_count": 10,
   "metadata": {},
   "outputs": [
    {
     "data": {
      "text/plain": [
       "SGDClassifier(alpha=0.0001, average=False, class_weight=None,\n",
       "              early_stopping=False, epsilon=0.1, eta0=0.0, fit_intercept=True,\n",
       "              l1_ratio=0.15, learning_rate='optimal', loss='hinge',\n",
       "              max_iter=1000, n_iter_no_change=5, n_jobs=None, penalty='l2',\n",
       "              power_t=0.5, random_state=None, shuffle=True, tol=0.001,\n",
       "              validation_fraction=0.1, verbose=0, warm_start=False)"
      ]
     },
     "execution_count": 10,
     "metadata": {},
     "output_type": "execute_result"
    }
   ],
   "source": [
    "# fit SVM linear classifier\n",
    "from sklearn import linear_model\n",
    "sgd = linear_model.SGDClassifier()\n",
    "sgd.fit(X, L)"
   ]
  },
  {
   "cell_type": "markdown",
   "metadata": {},
   "source": [
    "### assess performance"
   ]
  },
  {
   "cell_type": "code",
   "execution_count": 11,
   "metadata": {},
   "outputs": [
    {
     "name": "stdout",
     "output_type": "stream",
     "text": [
      "{'Pos': 19, 'Neg': 38, 'TP': 19, 'TN': 38, 'FP': 0, 'FN': 0, 'Accuracy': 1.0, 'Precision': 1.0, 'Recall': 1.0, 'desc': 'sgd'}\n"
     ]
    }
   ],
   "source": [
    "# look at performance measures\n",
    "import my_measures\n",
    "\n",
    "performance_measures = my_measures.BinaryClassificationPerformance(sgd.predict(X), L, 'sgd')\n",
    "performance_measures.compute_measures()\n",
    "print(performance_measures.performance_measures)"
   ]
  },
  {
   "cell_type": "markdown",
   "metadata": {},
   "source": [
    "![](https://upload.wikimedia.org/wikipedia/commons/thumb/2/26/Precisionrecall.svg/350px-Precisionrecall.svg.png)\n",
    "\n",
    "[source](https://en.wikipedia.org/wiki/Precision_and_recall)"
   ]
  },
  {
   "cell_type": "markdown",
   "metadata": {
    "collapsed": true
   },
   "source": [
    "### test model on unseen definitions"
   ]
  },
  {
   "cell_type": "code",
   "execution_count": 12,
   "metadata": {},
   "outputs": [
    {
     "name": "stdout",
     "output_type": "stream",
     "text": [
      "Machine learning is a field of computer science that gives computers the ability to learn without being explicitly programmed.\n",
      "* * *\n",
      "Machine learning is an application of artificial intelligence (AI) that provides systems the ability to automatically learn and improve from experience without being explicitly programmed. Machine learning focuses on the development of computer programs that can access data and use it learn for themselves.\n",
      "* * *\n",
      "Machine Learning is the science of getting computers to learn and act like humans do, and improve their learning over time in autonomous fashion, by feeding them data and information in the form of observations and real-world interactions.\n",
      "* * *\n"
     ]
    }
   ],
   "source": [
    "# machine learning definitions\n",
    "# Wikipedia, Expert System, Tech Emergence\n",
    "ml_defs = [\"Machine learning is a field of computer science that gives computers the ability to learn without being explicitly programmed.\",\n",
    "          \"Machine learning is an application of artificial intelligence (AI) that provides systems the ability to automatically learn and improve from experience without being explicitly programmed. Machine learning focuses on the development of computer programs that can access data and use it learn for themselves.\",\n",
    "          \"Machine Learning is the science of getting computers to learn and act like humans do, and improve their learning over time in autonomous fashion, by feeding them data and information in the form of observations and real-world interactions.\"]\n",
    "\n",
    "for d in ml_defs:\n",
    "    print(d)\n",
    "    print(\"* * *\")"
   ]
  },
  {
   "cell_type": "code",
   "execution_count": 13,
   "metadata": {},
   "outputs": [
    {
     "name": "stdout",
     "output_type": "stream",
     "text": [
      "Artificial intelligence (AI, also machine intelligence, MI) is intelligence demonstrated by machines, in contrast to the natural intelligence (NI) displayed by humans and other animals.\n",
      "* * *\n",
      "the theory and development of computer systems able to perform tasks that normally require human intelligence, such as visual perception, speech recognition, decision-making, and translation between languages\n",
      "* * *\n"
     ]
    }
   ],
   "source": [
    "# AI definitions\n",
    "# Wikipedia, Oxford dictionary\n",
    "ai_defs = [\"Artificial intelligence (AI, also machine intelligence, MI) is intelligence demonstrated by machines, in contrast to the natural intelligence (NI) displayed by humans and other animals.\",\n",
    "          \"the theory and development of computer systems able to perform tasks that normally require human intelligence, such as visual perception, speech recognition, decision-making, and translation between languages\"]\n",
    "\n",
    "for d in ai_defs:\n",
    "    print(d)\n",
    "    print(\"* * *\")"
   ]
  },
  {
   "cell_type": "code",
   "execution_count": 14,
   "metadata": {},
   "outputs": [
    {
     "name": "stdout",
     "output_type": "stream",
     "text": [
      "A kitten, also known as a kitty or kitty cat, is a juvenile cat.\n",
      "* * *\n",
      "The piano is an acoustic, stringed musical instrument invented in Italy by Bartolomeo Cristofori around the year 1700 in which the strings are struck by hammers.\n",
      "* * *\n",
      "a small gadget or mechanical device, especially one whose name is unknown or unspecified\n",
      "* * *\n"
     ]
    }
   ],
   "source": [
    "# Definitions of unrelated things: kitten, piano, widget\n",
    "other_defs = [\"A kitten, also known as a kitty or kitty cat, is a juvenile cat.\",\n",
    "             \"The piano is an acoustic, stringed musical instrument invented in Italy by Bartolomeo Cristofori around the year 1700 in which the strings are struck by hammers.\",\n",
    "             \"a small gadget or mechanical device, especially one whose name is unknown or unspecified\"]\n",
    "\n",
    "for d in other_defs:\n",
    "    print(d)\n",
    "    print(\"* * *\")"
   ]
  },
  {
   "cell_type": "markdown",
   "metadata": {},
   "source": [
    "### function to transform new definitions to a X vector"
   ]
  },
  {
   "cell_type": "code",
   "execution_count": 15,
   "metadata": {},
   "outputs": [],
   "source": [
    "def get_prediction(definition):\n",
    "    text_x = vectorizer.transform([definition]).toarray()\n",
    "    return(sgd.predict(text_x))"
   ]
  },
  {
   "cell_type": "markdown",
   "metadata": {},
   "source": [
    "### view predicted classifications of new definitions"
   ]
  },
  {
   "cell_type": "code",
   "execution_count": 16,
   "metadata": {},
   "outputs": [
    {
     "name": "stdout",
     "output_type": "stream",
     "text": [
      "Model predictions for 'machine learning' definitions:\n",
      "[False]\n",
      "[ True]\n",
      "[ True]\n",
      "* * *\n",
      "Model predictions for 'AI' definitions:\n",
      "[False]\n",
      "[False]\n",
      "* * *\n",
      "Model predictions for other definitions (kitten, piano, widget):\n",
      "[False]\n",
      "[False]\n",
      "[ True]\n"
     ]
    }
   ],
   "source": [
    "print(\"Model predictions for 'machine learning' definitions:\")\n",
    "for mld in ml_defs:\n",
    "    print(get_prediction(mld))\n",
    "    \n",
    "print(\"* * *\")\n",
    "print(\"Model predictions for 'AI' definitions:\")\n",
    "for aid in ai_defs:\n",
    "    print(get_prediction(aid))\n",
    "\n",
    "print(\"* * *\")\n",
    "print(\"Model predictions for other definitions (kitten, piano, widget):\")\n",
    "for otherd in other_defs:\n",
    "    print(get_prediction(otherd))"
   ]
  },
  {
   "cell_type": "code",
   "execution_count": null,
   "metadata": {},
   "outputs": [],
   "source": []
  }
 ],
 "metadata": {
  "kernelspec": {
   "display_name": "Python 3",
   "language": "python",
   "name": "python3"
  },
  "language_info": {
   "codemirror_mode": {
    "name": "ipython",
    "version": 3
   },
   "file_extension": ".py",
   "mimetype": "text/x-python",
   "name": "python",
   "nbconvert_exporter": "python",
   "pygments_lexer": "ipython3",
   "version": "3.7.6"
  }
 },
 "nbformat": 4,
 "nbformat_minor": 1
}
