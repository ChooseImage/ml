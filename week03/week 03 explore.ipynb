{
 "cells": [
  {
   "cell_type": "markdown",
   "metadata": {},
   "source": [
    "## week 3\n",
    "\n",
    "* read ML Assignment 1 data (options A and B)  \n",
    "* get to know the data"
   ]
  },
  {
   "cell_type": "code",
   "execution_count": 3,
   "metadata": {},
   "outputs": [],
   "source": [
    "# imports and specifications\n",
    "import numpy as np\n",
    "import pandas as pd\n",
    "import matplotlib.pyplot as plt\n",
    "%matplotlib inline"
   ]
  },
  {
   "cell_type": "markdown",
   "metadata": {},
   "source": [
    "# ML Assignment 1, option A\n",
    "\n",
    "`toxiccomments_train.csv` download [here](https://drive.google.com/open?id=1bX5UL2_xwPJHjt8lmtkw1IznjupTP97C) (*must be logged into newschool.edu Google account to access*)"
   ]
  },
  {
   "cell_type": "code",
   "execution_count": 6,
   "metadata": {},
   "outputs": [],
   "source": [
    "f = 'src/toxiccomments_train.csv'\n",
    "toxic_data = pd.read_csv(f)"
   ]
  },
  {
   "cell_type": "markdown",
   "metadata": {},
   "source": [
    "### get to know the data"
   ]
  },
  {
   "cell_type": "code",
   "execution_count": 13,
   "metadata": {},
   "outputs": [
    {
     "name": "stdout",
     "output_type": "stream",
     "text": [
      "toxic_data is: <class 'pandas.core.frame.DataFrame'>\n",
      "toxic_data has 159571 rows and 9 columns \n",
      "\n",
      "the data types for each of the columns in toxic_data:\n",
      "id               object\n",
      "comment_text     object\n",
      "toxic             int64\n",
      "severe_toxic      int64\n",
      "obscene           int64\n",
      "threat            int64\n",
      "insult            int64\n",
      "identity_hate     int64\n",
      "word_count        int64\n",
      "dtype: object \n",
      "\n",
      "the first 10 rows in toxic_data:\n",
      "                 id                                       comment_text  toxic  \\\n",
      "0  0000997932d777bf  Explanation\\nWhy the edits made under my usern...      0   \n",
      "1  000103f0d9cfb60f  D'aww! He matches this background colour I'm s...      0   \n",
      "2  000113f07ec002fd  Hey man, I'm really not trying to edit war. It...      0   \n",
      "3  0001b41b1c6bb37e  \"\\nMore\\nI can't make any real suggestions on ...      0   \n",
      "4  0001d958c54c6e35  You, sir, are my hero. Any chance you remember...      0   \n",
      "5  00025465d4725e87  \"\\n\\nCongratulations from me as well, use the ...      0   \n",
      "6  0002bcb3da6cb337       COCKSUCKER BEFORE YOU PISS AROUND ON MY WORK      1   \n",
      "7  00031b1e95af7921  Your vandalism to the Matt Shirvington article...      0   \n",
      "8  00037261f536c51d  Sorry if the word 'nonsense' was offensive to ...      0   \n",
      "9  00040093b2687caa  alignment on this subject and which are contra...      0   \n",
      "\n",
      "   severe_toxic  obscene  threat  insult  identity_hate  word_count  \n",
      "0             0        0       0       0              0          42  \n",
      "1             0        0       0       0              0          18  \n",
      "2             0        0       0       0              0          42  \n",
      "3             0        0       0       0              0         112  \n",
      "4             0        0       0       0              0          13  \n",
      "5             0        0       0       0              0          12  \n",
      "6             1        1       0       1              0           8  \n",
      "7             0        0       0       0              0          21  \n",
      "8             0        0       0       0              0          83  \n",
      "9             0        0       0       0              0          12  \n"
     ]
    }
   ],
   "source": [
    "print(\"toxic_data is:\", type(toxic_data))\n",
    "print(\"toxic_data has\", toxic_data.shape[0], \"rows and\", toxic_data.shape[1], \"columns\", \"\\n\")\n",
    "print(\"the data types for each of the columns in toxic_data:\")\n",
    "print(toxic_data.dtypes, \"\\n\")\n",
    "print(\"the first 10 rows in toxic_data:\")\n",
    "print(toxic_data.head(10))"
   ]
  },
  {
   "cell_type": "markdown",
   "metadata": {},
   "source": [
    "### Create a feature that contains the quantity of the number of words in a comment (word count)"
   ]
  },
  {
   "cell_type": "code",
   "execution_count": 8,
   "metadata": {},
   "outputs": [
    {
     "name": "stdout",
     "output_type": "stream",
     "text": [
      "                                        comment_text  word_count\n",
      "0  Explanation\\nWhy the edits made under my usern...          42\n",
      "1  D'aww! He matches this background colour I'm s...          18\n",
      "2  Hey man, I'm really not trying to edit war. It...          42\n",
      "3  \"\\nMore\\nI can't make any real suggestions on ...         112\n",
      "4  You, sir, are my hero. Any chance you remember...          13\n"
     ]
    }
   ],
   "source": [
    "toxic_data['word_count'] = toxic_data['comment_text'].str.split(' ').str.len()\n",
    "print(toxic_data[[\"comment_text\", \"word_count\"]].head())"
   ]
  },
  {
   "cell_type": "markdown",
   "metadata": {},
   "source": [
    "### Is there a relationship between word count and toxic?"
   ]
  },
  {
   "cell_type": "code",
   "execution_count": 9,
   "metadata": {},
   "outputs": [
    {
     "data": {
      "text/plain": [
       "<matplotlib.collections.PathCollection at 0x7f798d4c7220>"
      ]
     },
     "execution_count": 9,
     "metadata": {},
     "output_type": "execute_result"
    },
    {
     "data": {
      "image/png": "[encoded data removed]",
      "text/plain": [
       "<Figure size 432x288 with 1 Axes>"
      ]
     },
     "metadata": {
      "needs_background": "light"
     },
     "output_type": "display_data"
    }
   ],
   "source": [
    "plt.scatter(toxic_data[\"word_count\"], toxic_data[\"toxic\"])"
   ]
  },
  {
   "cell_type": "markdown",
   "metadata": {},
   "source": [
    "### Let's get to know the \"toxic\" label"
   ]
  },
  {
   "cell_type": "code",
   "execution_count": 10,
   "metadata": {},
   "outputs": [
    {
     "data": {
      "text/plain": [
       "159571"
      ]
     },
     "execution_count": 10,
     "metadata": {},
     "output_type": "execute_result"
    }
   ],
   "source": [
    "toxic_data[\"toxic\"].count()"
   ]
  },
  {
   "cell_type": "code",
   "execution_count": 11,
   "metadata": {},
   "outputs": [
    {
     "data": {
      "text/plain": [
       "0.09584448302009764"
      ]
     },
     "execution_count": 11,
     "metadata": {},
     "output_type": "execute_result"
    }
   ],
   "source": [
    "toxic_data[\"toxic\"].mean()"
   ]
  },
  {
   "cell_type": "markdown",
   "metadata": {},
   "source": [
    "### Create a subset of non-toxic comments"
   ]
  },
  {
   "cell_type": "code",
   "execution_count": 16,
   "metadata": {},
   "outputs": [
    {
     "name": "stdout",
     "output_type": "stream",
     "text": [
      "Bye! \n",
      "\n",
      "Don't look, come or think of comming back! Tosser.\n"
     ]
    }
   ],
   "source": [
    "toxic = toxic_data.loc[toxic_data[\"toxic\"]==1]\n",
    "print(toxic[\"comment_text\"][16])"
   ]
  },
  {
   "cell_type": "code",
   "execution_count": null,
   "metadata": {},
   "outputs": [],
   "source": []
  },
  {
   "cell_type": "code",
   "execution_count": 8,
   "metadata": {},
   "outputs": [
    {
     "name": "stdout",
     "output_type": "stream",
     "text": [
      "(144277, 9)\n"
     ]
    }
   ],
   "source": [
    "non_toxic = toxic_data.loc[toxic_data[\"toxic\"]==0]\n",
    "print(non_toxic.shape)"
   ]
  },
  {
   "cell_type": "markdown",
   "metadata": {},
   "source": [
    "Let's look at some non-toxic comments: "
   ]
  },
  {
   "cell_type": "code",
   "execution_count": 9,
   "metadata": {},
   "outputs": [
    {
     "name": "stdout",
     "output_type": "stream",
     "text": [
      "Hello there, \n",
      "\n",
      " Is there any specific reason why you targeted and gutted all the articles I had helpfully contributed to?  There didn't seem to be  a legitimate reason to remove any of the accurate and useful information I added to individual articles off the Ring of Honor employee page. While I am sure you had your reasons I respectfully request you refresh your memory by going to Wikipedia's articles pertaining to Good Faith Edits and remaining civil. Thank you very much and have a great day! \n",
      "\n",
      "* * * * * * *\n",
      "That makes three experienced admins that you take issue with upon the proper application of WP policy. Since you are not Galileo and we are not the Spanish Inquisition then you may wish to deliberate upon the concept that you might be wrong (or the concept of admitting the possibility that there may be times when you could be wrong, if the former is too much of a leap for you). \n",
      "\n",
      "* * * * * * *\n",
      "Barrett on Corporal Clegg \n",
      "\n",
      "Some source I've read in the late 15 years and over (since I'm a Floyd Fan), refer to the presence of Barrett playing guitar with Gilmour also in CORPORAL CLEGG. Is it true? \n",
      "\n",
      "* * * * * * *\n",
      "Well you're the only one that is contradicting against me, a lot of other people have posted information which they believed were correct and it's always you that reverts the information they edited. \n",
      "\n",
      "Therefore I don't trust you, I believe that you're deliberately harassing other users. \n",
      "\n",
      "* * * * * * *\n",
      "\"\n",
      "\n",
      "Murtha calls U.S. Marines \"\"cold-blooded killers\"\"\n",
      "\n",
      "Someone needs to type up a section on this.  I think it's a pretty big deal when an elected representive calls our soldiers war criminals before their American right to a fair trial even begins.  Regardless of your pro-war/anti-war position, Murtha is a total disgrace.\" \n",
      "\n",
      "* * * * * * *\n"
     ]
    }
   ],
   "source": [
    "this_sample = non_toxic['comment_text'].sample(n=5, random_state=10)\n",
    "for sample in this_sample: \n",
    "    print(sample, '\\n')\n",
    "    print('* * * * * * *')"
   ]
  },
  {
   "cell_type": "markdown",
   "metadata": {},
   "source": [
    "### What is the datatype of `toxic_data`?"
   ]
  },
  {
   "cell_type": "code",
   "execution_count": 10,
   "metadata": {},
   "outputs": [
    {
     "name": "stdout",
     "output_type": "stream",
     "text": [
      "<class 'pandas.core.frame.DataFrame'>\n",
      "<class 'numpy.ndarray'>\n"
     ]
    }
   ],
   "source": [
    "print(type(toxic_data))\n",
    "print(type(toxic_data.values))"
   ]
  },
  {
   "cell_type": "markdown",
   "metadata": {},
   "source": [
    "### What are the datatypes of the features in `toxic_data`?"
   ]
  },
  {
   "cell_type": "code",
   "execution_count": 11,
   "metadata": {},
   "outputs": [
    {
     "name": "stdout",
     "output_type": "stream",
     "text": [
      "id               object\n",
      "comment_text     object\n",
      "toxic             int64\n",
      "severe_toxic      int64\n",
      "obscene           int64\n",
      "threat            int64\n",
      "insult            int64\n",
      "identity_hate     int64\n",
      "word_count        int64\n",
      "dtype: object\n"
     ]
    }
   ],
   "source": [
    "print(toxic_data.dtypes)"
   ]
  },
  {
   "cell_type": "markdown",
   "metadata": {},
   "source": [
    "_ _ _\n",
    "\n",
    "# ML Assignment 1, option B\n",
    "\n",
    "`moviereviews_train.csv` download [here](https://drive.google.com/open?id=1bX5UL2_xwPJHjt8lmtkw1IznjupTP97C) (*must be logged into newschool.edu Google account to access*)"
   ]
  },
  {
   "cell_type": "code",
   "execution_count": 17,
   "metadata": {},
   "outputs": [],
   "source": [
    "f2 = 'src/moviereviews_train.tsv'\n",
    "movie_data = pd.read_csv(f2, sep='\\t')"
   ]
  },
  {
   "cell_type": "markdown",
   "metadata": {},
   "source": [
    "### get to know the data"
   ]
  },
  {
   "cell_type": "code",
   "execution_count": 18,
   "metadata": {},
   "outputs": [
    {
     "name": "stdout",
     "output_type": "stream",
     "text": [
      "movie_data is: <class 'pandas.core.frame.DataFrame'>\n",
      "movie_data has 25000 rows and 3 columns \n",
      "\n",
      "the data types for each of the columns in movie_data:\n",
      "id           object\n",
      "sentiment     int64\n",
      "review       object\n",
      "dtype: object \n",
      "\n",
      "the first 10 rows in movie_data:\n",
      "       id  sentiment                                             review\n",
      "0  5814_8          1  With all this stuff going down at the moment w...\n",
      "1  2381_9          1  \\The Classic War of the Worlds\\\" by Timothy Hi...\n",
      "2  7759_3          0  The film starts with a manager (Nicholas Bell)...\n",
      "3  3630_4          0  It must be assumed that those who praised this...\n",
      "4  9495_8          1  Superbly trashy and wondrously unpretentious 8...\n"
     ]
    }
   ],
   "source": [
    "print(\"movie_data is:\", type(movie_data))\n",
    "print(\"movie_data has\", movie_data.shape[0], \"rows and\", movie_data.shape[1], \"columns\", \"\\n\")\n",
    "print(\"the data types for each of the columns in movie_data:\")\n",
    "print(movie_data.dtypes, \"\\n\")\n",
    "print(\"the first 10 rows in movie_data:\")\n",
    "print(movie_data.head(5))"
   ]
  },
  {
   "cell_type": "markdown",
   "metadata": {},
   "source": [
    "### Create a feature that contains the quantity of the number of words in a comment (word count)"
   ]
  },
  {
   "cell_type": "code",
   "execution_count": 19,
   "metadata": {},
   "outputs": [
    {
     "name": "stdout",
     "output_type": "stream",
     "text": [
      "                                              review  word_count\n",
      "0  With all this stuff going down at the moment w...         433\n",
      "1  \\The Classic War of the Worlds\\\" by Timothy Hi...         158\n",
      "2  The film starts with a manager (Nicholas Bell)...         378\n",
      "3  It must be assumed that those who praised this...         379\n",
      "4  Superbly trashy and wondrously unpretentious 8...         367\n"
     ]
    }
   ],
   "source": [
    "movie_data['word_count'] = movie_data['review'].str.split(' ').str.len()\n",
    "print(movie_data[[\"review\", \"word_count\"]].head())"
   ]
  },
  {
   "cell_type": "markdown",
   "metadata": {},
   "source": [
    "### Is there a relationship between word count and good/bad review? "
   ]
  },
  {
   "cell_type": "code",
   "execution_count": 20,
   "metadata": {},
   "outputs": [
    {
     "data": {
      "text/plain": [
       "<matplotlib.collections.PathCollection at 0x7f798d47e880>"
      ]
     },
     "execution_count": 20,
     "metadata": {},
     "output_type": "execute_result"
    },
    {
     "data": {
      "image/png": "[encoded data removed]",
      "text/plain": [
       "<Figure size 432x288 with 1 Axes>"
      ]
     },
     "metadata": {
      "needs_background": "light"
     },
     "output_type": "display_data"
    }
   ],
   "source": [
    "plt.scatter(movie_data[\"word_count\"], movie_data[\"sentiment\"])"
   ]
  },
  {
   "cell_type": "markdown",
   "metadata": {},
   "source": [
    "### Let's get to know the \"sentiment\" label (1=good review, 0=bad review)"
   ]
  },
  {
   "cell_type": "code",
   "execution_count": 21,
   "metadata": {},
   "outputs": [
    {
     "data": {
      "text/plain": [
       "25000"
      ]
     },
     "execution_count": 21,
     "metadata": {},
     "output_type": "execute_result"
    }
   ],
   "source": [
    "movie_data[\"sentiment\"].count()"
   ]
  },
  {
   "cell_type": "code",
   "execution_count": 22,
   "metadata": {},
   "outputs": [
    {
     "data": {
      "text/plain": [
       "0.5"
      ]
     },
     "execution_count": 22,
     "metadata": {},
     "output_type": "execute_result"
    }
   ],
   "source": [
    "movie_data[\"sentiment\"].mean()"
   ]
  },
  {
   "cell_type": "markdown",
   "metadata": {},
   "source": [
    "### Create a subset of \"bad\" reviews"
   ]
  },
  {
   "cell_type": "code",
   "execution_count": 23,
   "metadata": {
    "scrolled": true
   },
   "outputs": [
    {
     "name": "stdout",
     "output_type": "stream",
     "text": [
      "(12500, 4)\n"
     ]
    }
   ],
   "source": [
    "bad_reviews = movie_data.loc[movie_data[\"sentiment\"]==0]\n",
    "print(bad_reviews.shape)"
   ]
  },
  {
   "cell_type": "markdown",
   "metadata": {},
   "source": [
    "### Let's look at some bad reviews: "
   ]
  },
  {
   "cell_type": "code",
   "execution_count": 19,
   "metadata": {},
   "outputs": [
    {
     "name": "stdout",
     "output_type": "stream",
     "text": [
      "I have to admit that i liked the first half of Sleepers. It looked good, the acting was even better, the story of childhood, pain and revenge was interesting and moving. A superior hollywood film. But...No one mentioned this so far (at least in the latest 20 comments), when it came to the courtroom scenes and Brat Pitt´s character followed his plan to rescue his two friends, who are rightly accused of murder, i felt cheated. This movie insulted my intelligence. <br /><br />Warning spoilers!!<br /><br />Why did anyone accept their false alibi, witnessed by the priest? If these two guys had been with him, why shouldn´t they tell this during the investigation? Amnesia? If you were the judge or member of the jury, would you believe it? Is it wise to give the motif of the murderers away?<br /><br />I am sorry, but in the end, the story is very weak, and this angers me. This movie had great potential. 4/10 \n",
      "\n",
      "* * * * * * *\n",
      "If there was ever a call to make a bad film that reflected how stupid humanity could become, this one would take the prize. The plot centers around bible prophecies that lie in hidden messages of the scriptures that prompt a group of power-seeking thugs to attempt total control of the world. Just how stupid does this writer believe people to actually be? <br /><br /> The acting was bad at best. Casper Van Dien wasted his talent doing this film. Michael York's work was a fair match for the role, since he was the center of the film, and did a good job. <br /><br /> This plot was sickening and very disturbing. No tender or immature minds should see this film. This is how a basic good vs. evil plot can go astray.<br /><br /> There must be a lot of mental disease floating around the film circles, who look for ways to market this type of junk. There must have been something censored out to get a PG-13 rating, but it was still awful. \n",
      "\n",
      "* * * * * * *\n",
      "The question, when one sees a movie this bad, is not necessarily, \\How did a movie this bad get made?\\\" or even, \\\"Why did I see this awful in the first place?\\\" but, \\\"What have I learned from this experience?\\\" Here's what I learned:<br /><br />- Just because the \\\"rules\\\" of horror movies have been catalogued and satirized countless times in the last ten years doesn't mean someone won't go ahead and make a movie that uses ALL of them, without a shred of humor or irony.<br /><br />- If your movie has to be described as **loosely** based on the video game, you have script problems.<br /><br />- The black character may not always die first, but the Asian character does always know kung-fu.<br /><br />- While you may be proud that you figured out how to do the \\\"the Matrix effect\\\" on a budget, that doesn't necessarily mean you should use it over and over again ad nausea.<br /><br />- Being Ron Howard's brother does not guarantee choice roles.<br /><br />- Whenever a scene doesn't edit together, just use some footage from the video game, no one will notice.<br /><br />- If your cousin's rap-metal band offers to write your movie's theme for free, politely decline.<br /><br />- Zombie movies are not about people killing zombies. They're about zombies killing people, preferably in the most gruesome way possible. That's what makes them SCARY.<br /><br />- White people who can pay $1600 to get to a rave deserve to die.<br /><br />- If you find an old book, it will tell you everything you need to know. Anything else you will figure out on your own two lines after someone asks, \\\"What was that?\\\" or, \\\"Where are we?\\\"<br /><br />- Bare breasts are not horror movie panacea.<br /><br />- A helicopter boom shot and a licensing deal with Sega magically transforms your movie from \\\"student film\\\" to \\\"major studio release\\\". Try it!<br /><br />- Just because you can name-drop all three \\\"Living Dead\\\" movies, that does not make you George Romero. Or even Paul W. S. Anderson.<br /><br />I've seen worse movies, but only because I've seen \\\"Mortal Kombat: Annihilation.\\\"\" \n",
      "\n",
      "* * * * * * *\n",
      "What is most striking about this semi-musical set in 1920s Berlin is the marvelous cinematography and editing. It's top of the line from First National in these departments. The story is mildly engaging and similar to the plots of Miller's other two films (SUNNY, SALLY) where working girl is romanced by rich boy with family disapproval, complications and final clinch. All the four musical numbers are bunched at the beginning of the film and we go for a long stretch without any further musical buoyancy. Miller sings parts of I THINK OF BABY and reprises BECAUSE OF YOU. There are also DON'T EVER BE BLUE and THOUGH YOU'RE NOT THE FIRST ONE.<br /><br />Miller here is very engaging and delightful, quite reminiscent of Irene Dunne in manner and delivery. Sad she does not dance as that is her forte. SALLY remains her finest film, with this trailing as second and the rather poor SUNNY a vastly inferior runner up. Her life was tragically cut short by a sinus infection before the days when hospitals and antibiotics made such tragedies preventable. It's worth visiting these films though to see Ziegfeld's top star of the twenties. \n",
      "\n",
      "* * * * * * *\n",
      "Primal Species (1996, Dir. Jonathan Winfrey) <br /><br />International terrorists get a surprise when their cargo turn out to contain living dinosaurs. The army commando team now have to think fast, if they want to prevent the extinction of the human species, instead of the reptiles.<br /><br />You look at the cover and you gain your first impressions of the film. That is pretty much it. The acting is only just acceptable from a few characters. The story is poor, with the whole film based on the army and the marines trying to kill the dinosaurs. This film came out three years after 'Jurassic Park'. Instead, this film looks to have come out 13 years before 'Jurassic Park'. The dinosaurs costumes are so poorly made, and i do mean costumes. There are obviously people dressed up, and this film makes no attempts at hiding this. A scene when a dinosaur runs down a corridor is created in a way, in which it looks like someone is riding the creature. The is one good thing, which comes out of this film. The short running time. At only 1 hour and 15 minutes, it doesn't waste too much of your life, but still try to avoid it altogether.<br /><br />\\It's like a Friday the 13th Nightmare.\\\" - Officer (Brian Currie)\" \n",
      "\n",
      "* * * * * * *\n"
     ]
    }
   ],
   "source": [
    "this_sample2 = bad_reviews['review'].sample(n=5, random_state=555)\n",
    "for sample in this_sample2: \n",
    "    print(sample, '\\n')\n",
    "    print('* * * * * * *')"
   ]
  },
  {
   "cell_type": "markdown",
   "metadata": {},
   "source": [
    "### What is the datatype of `movie_data`?\n"
   ]
  },
  {
   "cell_type": "code",
   "execution_count": 20,
   "metadata": {},
   "outputs": [
    {
     "name": "stdout",
     "output_type": "stream",
     "text": [
      "<class 'pandas.core.frame.DataFrame'>\n",
      "<class 'numpy.ndarray'>\n"
     ]
    }
   ],
   "source": [
    "print(type(movie_data))\n",
    "print(type(movie_data.values))"
   ]
  },
  {
   "cell_type": "markdown",
   "metadata": {},
   "source": [
    "### What are the datatypes of the features in `movie_data`?"
   ]
  },
  {
   "cell_type": "code",
   "execution_count": 21,
   "metadata": {},
   "outputs": [
    {
     "name": "stdout",
     "output_type": "stream",
     "text": [
      "id            object\n",
      "sentiment      int64\n",
      "review        object\n",
      "word_count     int64\n",
      "dtype: object\n"
     ]
    }
   ],
   "source": [
    "print(movie_data.dtypes)"
   ]
  },
  {
   "cell_type": "code",
   "execution_count": null,
   "metadata": {},
   "outputs": [],
   "source": []
  }
 ],
 "metadata": {
  "kernelspec": {
   "display_name": "Python 3 (ipykernel)",
   "language": "python",
   "name": "python3"
  },
  "language_info": {
   "codemirror_mode": {
    "name": "ipython",
    "version": 3
   },
   "file_extension": ".py",
   "mimetype": "text/x-python",
   "name": "python",
   "nbconvert_exporter": "python",
   "pygments_lexer": "ipython3",
   "version": "3.9.7"
  }
 },
 "nbformat": 4,
 "nbformat_minor": 2
}
