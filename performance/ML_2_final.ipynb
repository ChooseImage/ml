{
 "cells": [
  {
   "cell_type": "code",
   "execution_count": 1,
   "metadata": {},
   "outputs": [],
   "source": [
    "grades = [\n",
    "    {'Pos': 23, 'Neg': 1500, 'TP': 17, 'TN': 1499, 'FP': 1, 'FN': 6, 'Accuracy': 0.9954038082731451, 'Precision': 0.9444444444444444, 'Recall': 0.7391304347826086, 'desc': 'nn Aaditi', 'set': 'test'},\n",
    "    {'Pos': 23, 'Neg': 1500, 'TP': 18, 'TN': 1500, 'FP': 0, 'FN': 5, 'Accuracy': 0.9967170059093894, 'Precision': 1.0, 'Recall': 0.782608695652174, 'desc': 'nn Aarati', 'set': 'train'},\n",
    "    {'Pos': 23, 'Neg': 1500, 'TP': 14, 'TN': 1477, 'FP': 23, 'FN': 9, 'Accuracy': 0.9789888378200919, 'Precision': 0.3783783783783784, 'Recall': 0.6086956521739131, 'desc': 'nn Alya', 'set': 'train'},\n",
    "    {'Pos': 23, 'Neg': 1500, 'TP': 21, 'TN': 1500, 'FP': 0, 'FN': 2, 'Accuracy': 0.9986868023637557, 'Precision': 1.0, 'Recall': 0.9130434782608695, 'desc': 'nn Andrew', 'set': 'train'},\n",
    "    {'Pos': 23, 'Neg': 1500, 'TP': 18, 'TN': 1495, 'FP': 5, 'FN': 5, 'Accuracy': 0.9934340118187788, 'Precision': 0.782608695652174, 'Recall': 0.782608695652174, 'desc': 'nn Batool', 'set': 'train'},\n",
    "    {'Pos': 23, 'Neg': 1500, 'TP': 22, 'TN': 1500, 'FP': 0, 'FN': 1, 'Accuracy': 0.9993434011818779, 'Precision': 1.0, 'Recall': 0.9565217391304348, 'desc': 'nn Dan', 'set': 'test'},\n",
    "    {'Pos': 23, 'Neg': 1500, 'TP': 22, 'TN': 1499, 'FP': 1, 'FN': 1, 'Accuracy': 0.9986868023637557, 'Precision': 0.9565217391304348, 'Recall': 0.9565217391304348, 'desc': 'nn Fady', 'set': 'train'},\n",
    "    {'Pos': 23, 'Neg': 1500, 'TP': 22, 'TN': 1499, 'FP': 1, 'FN': 1, 'Accuracy': 0.9986868023637557, 'Precision': 0.9565217391304348, 'Recall': 0.9565217391304348, 'desc': 'nn Felix'},\n",
    "    {'Pos': 23, 'Neg': 1500, 'TP': 22, 'TN': 1494, 'FP': 6, 'FN': 1, 'Accuracy': 0.9954038082731451, 'Precision': 0.7857142857142857, 'Recall': 0.9565217391304348, 'desc': 'prc Fifi', 'set': 'test'},\n",
    "    {'Pos': 23, 'Neg': 1500, 'TP': 14, 'TN': 1499, 'FP': 1, 'FN': 9, 'Accuracy': 0.9934340118187788, 'Precision': 0.9333333333333333, 'Recall': 0.6086956521739131, 'desc': 'nn Jerry', 'set': 'train'},\n",
    "    {'Pos': 23, 'Neg': 1500, 'TP': 16, 'TN': 1416, 'FP': 84, 'FN': 7, 'Accuracy': 0.9402495075508864, 'Precision': 0.16, 'Recall': 0.6956521739130435, 'desc': 'prc Juan', 'set': 'train'},\n",
    "    {'Pos': 23, 'Neg': 1500, 'TP': 23, 'TN': 1500, 'FP': 0, 'FN': 0, 'Accuracy': 1.0, 'Precision': 1.0, 'Recall': 1.0, 'desc': 'nn Tima', 'set': 'train'},\n",
    "    {'Pos': 23, 'Neg': 1500, 'TP': 20, 'TN': 1499, 'FP': 1, 'FN': 3, 'Accuracy': 0.9973736047275115, 'Precision': 0.9523809523809523, 'Recall': 0.8695652173913043, 'desc': 'nn Karen', 'set': 'train'},\n",
    "    {'Pos': 23, 'Neg': 1500, 'TP': 2, 'TN': 1499, 'FP': 1, 'FN': 21, 'Accuracy': 0.9855548260013132, 'Precision': 0.6666666666666666, 'Recall': 0.08695652173913043, 'desc': 'nn Nicole', 'set': 'train'},\n",
    "    {'Pos': 23, 'Neg': 1500, 'TP': 21, 'TN': 1496, 'FP': 4, 'FN': 2, 'Accuracy': 0.9960604070912672, 'Precision': 0.84, 'Recall': 0.9130434782608695, 'desc': 'prc Shirley', 'set': 'train'},\n",
    "    {'Pos': 23, 'Neg': 1500, 'TP': 22, 'TN': 1500, 'FP': 0, 'FN': 1, 'Accuracy': 0.9993434011818779, 'Precision': 1.0, 'Recall': 0.9565217391304348, 'desc': 'nn Shuyu', 'set': 'test'},\n",
    "    {'Pos': 23, 'Neg': 1500, 'TP': 13, 'TN': 1499, 'FP': 1, 'FN': 10, 'Accuracy': 0.9927774130006566, 'Precision': 0.9285714285714286, 'Recall': 0.5652173913043478, 'desc': 'nn Simone', 'set': 'train'},\n",
    "    {'Pos': 23, 'Neg': 1500, 'TP': 19, 'TN': 1497, 'FP': 3, 'FN': 4, 'Accuracy': 0.9954038082731451, 'Precision': 0.8636363636363636, 'Recall': 0.8260869565217391, 'desc': 'nn Tresson', 'set': 'train'},\n",
    "    {'Pos': 23, 'Neg': 1500, 'TP': 20, 'TN': 1498, 'FP': 2, 'FN': 3, 'Accuracy': 0.9967170059093894, 'Precision': 0.9090909090909091, 'Recall': 0.8695652173913043, 'desc': 'nn Yashwanth', 'set': 'test'},\n",
    "    {'Pos': 23, 'Neg': 1500, 'TP': 19, 'TN': 1499, 'FP': 1, 'FN': 4, 'Accuracy': 0.9967170059093894, 'Precision': 0.95, 'Recall': 0.8260869565217391, 'desc': 'nn Zui', 'set': 'test'},\n",
    "    {'Pos': 23, 'Neg': 1500, 'TP': 13, 'TN': 1500, 'FP': 0, 'FN': 10, 'Accuracy': 0.9934340118187788, 'Precision': 1.0, 'Recall': 0.5652173913043478, 'desc': 'prc', 'set': 'train'},\n",
    "    {'Pos': 23, 'Neg': 1500, 'TP': 23, 'TN': 1498, 'FP': 2, 'FN': 0, 'Accuracy': 0.9986868023637557, 'Precision': 0.92, 'Recall': 1.0, 'desc': 'nn Mio', 'set': 'test'},\n",
    "    {'Pos': 23, 'Neg': 1500, 'TP': 19, 'TN': 1499, 'FP': 1, 'FN': 4, 'Accuracy': 0.9967170059093894, 'Precision': 0.95, 'Recall': 0.8260869565217391, 'desc': 'nn June', 'set': 'train'},\n",
    "    {'Pos': 23, 'Neg': 1500, 'TP': 14, 'TN': 1495, 'FP': 5, 'FN': 9, 'Accuracy': 0.9908076165462902, 'Precision': 0.7368421052631579, 'Recall': 0.6086956521739131, 'desc': 'nn Mahsa', 'set': 'train'}\n",
    "]"
   ]
  },
  {
   "cell_type": "code",
   "execution_count": 2,
   "metadata": {},
   "outputs": [
    {
     "data": {
      "text/plain": [
       "<Figure size 1500x1500 with 1 Axes>"
      ]
     },
     "metadata": {},
     "output_type": "display_data"
    },
    {
     "data": {
      "text/plain": [
       "<Figure size 5000x5000 with 0 Axes>"
      ]
     },
     "metadata": {},
     "output_type": "display_data"
    }
   ],
   "source": [
    "# displace labels\n",
    "lengths = [[], [], [], [], [], [], [], [], [], [], [], [], [], [], [], [], [], [], [], [], [], [], [], []]\n",
    "\n",
    "import matplotlib.pyplot as plt\n",
    "plt.rcParams['figure.figsize'] = (15, 15)\n",
    "\n",
    "for fit in grades:\n",
    "    plt.plot(fit['FP'] / fit['Neg'], \n",
    "             fit['TP'] / fit['Pos'], 'ro')\n",
    "#     plt.text(fit['FP'] / fit['Neg'], \n",
    "    plt.text(fit['FP'] / fit['Neg'] + len(lengths[fit['TP']]) * 0.1, \n",
    "             fit['TP'] / fit['Pos'], fit['desc'])\n",
    "    lengths[fit['TP']].append(True)\n",
    "plt.axis([0, 1, 0, 1])\n",
    "plt.title('ROC plot: test set')\n",
    "plt.xlabel('False positive rate')\n",
    "plt.ylabel('True positive rate')\n",
    "plt.figure(figsize=(50,50))\n",
    "plt.show()"
   ]
  },
  {
   "cell_type": "code",
   "execution_count": null,
   "metadata": {},
   "outputs": [],
   "source": []
  }
 ],
 "metadata": {
  "kernelspec": {
   "display_name": "Python 3",
   "language": "python",
   "name": "python3"
  },
  "language_info": {
   "codemirror_mode": {
    "name": "ipython",
    "version": 3
   },
   "file_extension": ".py",
   "mimetype": "text/x-python",
   "name": "python",
   "nbconvert_exporter": "python",
   "pygments_lexer": "ipython3",
   "version": "3.7.1"
  }
 },
 "nbformat": 4,
 "nbformat_minor": 2
}
