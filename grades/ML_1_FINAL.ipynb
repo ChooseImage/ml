{
 "cells": [
  {
   "cell_type": "markdown",
   "metadata": {},
   "source": [
    "## [skip past data to results](#final-models-submitted)"
   ]
  },
  {
   "cell_type": "code",
   "execution_count": 1,
   "metadata": {
    "collapsed": true
   },
   "outputs": [],
   "source": [
    "grades = {'Andrew': [{'model': 'nbs', 'FP': 13349, 'name': 'Andrew', 'TN': 91678, 'TP': 3094, 'Recall': 0.3671531980538745, 'color': 'bo', 'Accuracy': 0.8353341442346678, 'Pos': 8427, 'desc': 'nbs Andrew', 'Neg': 105027, 'Precision': 0.1881651766709238, 'FN': 5333}, {'model': 'nbs', 'Recall': 0.5201139195443218, 'name': 'Andrew', 'TN': 83406, 'TP': 4383, 'FP': 21621, 'Accuracy': 0.7737849701200487, 'color': 'bo', 'Pos': 8427, 'FN': 4044, 'Neg': 105027, 'Precision': 0.16855099215505306, 'desc': 'nbs Andrew'}, {'model': 'prc', 'FP': 4281, 'name': 'Andrew', 'TN': 47016, 'color': 'mo', 'TP': 3015, 'Recall': 0.35777856888572446, 'Accuracy': 0.8377034358047016, 'Pos': 8427, 'desc': 'Andrew prc', 'Neg': 51297, 'Precision': 0.41324013157894735, 'FN': 5412}, {'model_params': {'max_iter': 100, 'random_state': None, 'intercept_scaling': 1, 'fit_intercept': True, 'n_jobs': 1, 'dual': False, 'class_weight': None, 'method': 'LogisticRegression', 'multi_class': 'ovr', 'solver': 'liblinear', 'verbose': 0, 'C': 1, 'tol': 1e-07, 'penalty': 'l2', 'warm_start': False}, 'Recall': 0.46267948261540287, 'name': 'Andrew', 'Accuracy': 0.7730046571382688, 'TP': 3899, 'FP': 3953, 'TN': 24982, 'Pos': 8427, 'FN': 4528, 'Neg': 28935, 'Precision': 0.4965613856342333, 'desc': 'lgs Andrew'}], 'George': [{'model': 'prc', 'FP': 5089, 'name': 'George', 'TN': 99938, 'TP': 3109, 'Recall': 0.3689331909339029, 'color': 'mo', 'Accuracy': 0.9082711936115078, 'Pos': 8427, 'desc': 'prc George', 'Neg': 105027, 'Precision': 0.3792388387411564, 'FN': 5318}, {'model': 'rdg', 'Recall': 0.307938768244927, 'name': 'George', 'Accuracy': 0.9468242635781903, 'TP': 2595, 'FP': 201, 'color': 'ro', 'TN': 104826, 'Pos': 8427, 'FN': 5832, 'Neg': 105027, 'Precision': 0.9281115879828327, 'desc': 'rdg George'}, {'model': 'rdg', 'Recall': 0.515248605672244, 'name': 'George', 'TN': 86707, 'TP': 4342, 'FP': 18320, 'Accuracy': 0.8025190826237947, 'color': 'ro', 'Pos': 8427, 'FN': 4085, 'Neg': 105027, 'Precision': 0.1915982702321066, 'desc': 'rdg George'}, {'model_params': {'random_state': None, 'alpha': 1.0, 'normalize': False, 'method': 'RidgeClassifier', 'class_weight': None, 'max_iter': None, 'solver': 'auto', 'tol': 0.001, 'copy_X': True, 'fit_intercept': True}, 'Recall': 0.515248605672244, 'name': 'George', 'Accuracy': 0.8025190826237947, 'TP': 4342, 'FP': 18320, 'TN': 86707, 'Pos': 8427, 'FN': 4085, 'Neg': 105027, 'Precision': 0.1915982702321066, 'desc': 'rdg George'}], 'Alonso': [{'model': 'nbs', 'FP': 9146, 'name': 'Alonso', 'TN': 95881, 'TP': 3183, 'Recall': 0.3777144891420434, 'color': 'bo', 'Accuracy': 0.8731644543162868, 'Pos': 8427, 'desc': 'nbs Alonso', 'Neg': 105027, 'Precision': 0.25817179008840946, 'FN': 5244}, {'model': 'lgs', 'Recall': 0.8517859261896286, 'name': 'Alonso', 'TN': 24157, 'TP': 7178, 'FP': 80870, 'Accuracy': 0.27619123168861387, 'color': 'go', 'Pos': 8427, 'FN': 1249, 'Neg': 105027, 'Precision': 0.08152371433763402, 'desc': 'lgs Alonso'}, {'model_params': {'shuffle': True, 'max_iter': None, 'random_state': None, 'power_t': 0.5, 'penalty': 'l2', 'fit_intercept': True, 'average': False, 'alpha': 0.0001, 'class_weight': None, 'n_jobs': 1, 'C': 1.0, 'tol': None, 'loss': 'hinge', 't_': 1592501.0, 'epsilon': 0.1, 'n_iter': None, 'learning_rate': 'optimal', 'warm_start': False, 'eta0': 0.0, 'method': 'SGDClassifier', 'n_iter_': 5, 'l1_ratio': 0.15, '_max_iter': 5, 'verbose': 0, '_tol': None}, 'Recall': 0.4260116292868162, 'name': 'Alonso', 'Accuracy': 0.8746716731009925, 'TP': 3590, 'FP': 9382, 'TN': 95645, 'Pos': 8427, 'FN': 4837, 'Neg': 105027, 'Precision': 0.27674992291088496, 'desc': 'svm Alonso'}], 'Flavio': [{'model': 'svm', 'FP': 7059, 'name': 'Flavio', 'TN': 97968, 'TP': 2150, 'Recall': 0.2551323128040821, 'color': 'co', 'Accuracy': 0.8824545630828353, 'Pos': 8427, 'desc': 'svm Flavio', 'Neg': 105027, 'Precision': 0.23346726028884787, 'FN': 6277}, {'model': 'nbs', 'Recall': 0.362999881333808, 'name': 'Flavio', 'TN': 92148, 'TP': 3059, 'FP': 12879, 'Accuracy': 0.8391682972834805, 'color': 'bo', 'Pos': 8427, 'FN': 5368, 'Neg': 105027, 'Precision': 0.19193123352992847, 'desc': 'nbs Flavio'}, {'model_params': {'fit_prior': True, 'alpha': 1.0, 'method': 'MultinomialNB', 'class_prior': None}, 'Recall': 0.3092440963569479, 'name': 'Flavio', 'Accuracy': 0.8443245720732632, 'TP': 2606, 'FP': 11841, 'TN': 93186, 'Pos': 8427, 'FN': 5821, 'Neg': 105027, 'Precision': 0.18038347061673704, 'desc': 'nbs Flavio'}], 'Yicen': [{'model': 'rdg', 'FP': 1869, 'name': 'Yicen', 'TN': 103158, 'TP': 1357, 'Recall': 0.16103002254657647, 'color': 'ro', 'Accuracy': 0.9212103583831333, 'Pos': 8427, 'desc': 'rdg Yicen', 'Neg': 105027, 'Precision': 0.42064476131432116, 'FN': 7070}, {'model': 'lgs', 'Recall': 0.2894268422926308, 'name': 'Yicen', 'Accuracy': 0.9145909355333439, 'TP': 2439, 'FP': 3702, 'color': 'go', 'TN': 101325, 'Pos': 8427, 'FN': 5988, 'Neg': 105027, 'Precision': 0.3971665852467025, 'desc': 'lgs Yicen'}, {'model': 'nbs', 'Recall': 0.37569716387801116, 'name': 'Yicen', 'TN': 91324, 'TP': 3166, 'FP': 13703, 'Accuracy': 0.8328485553616444, 'color': 'bo', 'Pos': 8427, 'FN': 5261, 'Neg': 105027, 'Precision': 0.18768154603118145, 'desc': 'nbs Yicen'}, {'model_params': {'fit_prior': True, 'alpha': 0.1, 'method': 'MultinomialNB', 'class_prior': None}, 'Recall': 0.40037973181440606, 'name': 'Yicen', 'Accuracy': 0.8162074497153031, 'TP': 3374, 'FP': 15799, 'TN': 89228, 'Pos': 8427, 'FN': 5053, 'Neg': 105027, 'Precision': 0.1759766338079591, 'desc': 'nbs Yicen'}], 'Benz': [{'model': 'unspecified', 'Pos': 18898, 'name': 'Benz', 'desc': 'unspecified Benz', 'Neg': 94556, 'Accuracy': 0.7819733107691222, 'TN': 84053, 'TP': 4665, 'FP': 14233, 'FN': 10503, 'color': 'yo'}, {'TN': 100300, 'Pos': 7288, 'name': 'Benz', 'FN': 5866, 'Neg': 106166, 'Accuracy': 0.9214042695718089, 'model': 'unspecified', 'TP': 4237, 'FP': 3051, 'desc': 'unspecified Benz', 'color': 'yo'}, {'model': 'unspecified', 'Pos': 9949, 'name': 'Benz', 'desc': 'unspecified Benz', 'Neg': 103505, 'color': 'yo', 'TN': 93716, 'TP': 5379, 'FP': 4570, 'FN': 9789, 'Accuracy': 0.8734376928094205}, {'model': 'unspecified', 'FP': 9658, 'name': 'Benz', 'FN': 10857, 'Neg': 78538, 'color': 'yo', 'TN': 67681, 'TP': 25258, 'Pos': 34916, 'desc': 'Benz unspecified', 'Accuracy': 0.8191778165600155}, {'model_params': {'shuffle': True, 'max_iter': None, 'random_state': None, 'power_t': 0.5, 'penalty': 'l2', 'fit_intercept': True, 'average': False, 'alpha': 1e-05, 'class_weight': None, 'n_jobs': 1, 'C': 1.0, 'tol': None, 'loss': 'log', 't_': 13650001.0, 'epsilon': 0.1, 'n_iter': 50, 'learning_rate': 'optimal', 'warm_start': False, 'eta0': 0.0, 'method': 'SGDClassifier', 'n_iter_': 50, 'l1_ratio': 0.15, '_max_iter': 50, 'verbose': 0, '_tol': None}, 'Recall': 0.2845464135021097, 'name': 'Benz', 'Accuracy': 0.8781532603522132, 'TP': 4316, 'FP': 2972, 'TN': 95314, 'Pos': 15168, 'FN': 10852, 'Neg': 98286, 'Precision': 0.5922063666300769, 'desc': 'lgs Benz'}], 'Jason': [{'model': 'rdg', 'FP': 1744, 'name': 'Jason', 'TN': 103283, 'TP': 1219, 'Recall': 0.14465408805031446, 'color': 'ro', 'Accuracy': 0.9210957744989159, 'Pos': 8427, 'desc': 'rdg Jason', 'Neg': 105027, 'Precision': 0.4114073574080324, 'FN': 7208}, {'model': 'nbs', 'Recall': 0.3978877417823662, 'name': 'Jason', 'Accuracy': 0.8101345038517813, 'TP': 3353, 'FP': 16467, 'color': 'bo', 'TN': 88560, 'Pos': 8427, 'FN': 5074, 'Neg': 105027, 'Precision': 0.16917255297679112, 'desc': 'nbs Jason'}, {'model': 'lgs', 'Recall': 0.43123294173489973, 'name': 'Jason', 'TN': 96378, 'TP': 3634, 'FP': 8649, 'Accuracy': 0.8815202637192165, 'color': 'go', 'Pos': 8427, 'FN': 4793, 'Neg': 105027, 'Precision': 0.2958560612228283, 'desc': 'lgs Jason'}, {'model_params': {'shuffle': True, 'max_iter': None, 'random_state': None, 'power_t': 0.5, 'penalty': 'l2', 'fit_intercept': True, 'average': False, 'alpha': 5e-05, 'class_weight': None, 'n_jobs': 1, 'C': 1.0, 'tol': None, 'loss': 'log', 't_': 25480001.0, 'epsilon': 0.1, 'n_iter': 70, 'learning_rate': 'optimal', 'warm_start': False, 'eta0': 0.0, 'method': 'SGDClassifier', 'n_iter_': 70, 'l1_ratio': 0.15, '_max_iter': 70, 'verbose': 0, '_tol': None}, 'Recall': 0.43123294173489973, 'name': 'Jason', 'Accuracy': 0.8815202637192165, 'TP': 3634, 'FP': 8649, 'TN': 96378, 'Pos': 8427, 'FN': 4793, 'Neg': 105027, 'Precision': 0.2958560612228283, 'desc': 'lgs Jason'}], 'Emily': [{'model': 'clf', 'Recall': 0.30010679957280173, 'name': 'Emily', 'Accuracy': 0.9472120859555414, 'TP': 2529, 'FP': 91, 'color': 'bo', 'TN': 104936, 'Pos': 8427, 'FN': 5898, 'Neg': 105027, 'Precision': 0.9652671755725191, 'desc': 'clf Emily'}, {'model': 'rdg', 'Recall': 0.855939242909695, 'name': 'Emily', 'TN': 58617, 'TP': 7213, 'FP': 46410, 'Accuracy': 0.5802351613869938, 'color': 'ro', 'Pos': 8427, 'FN': 1214, 'Neg': 105027, 'Precision': 0.13451317531656193, 'desc': 'rdg Emily'}, {'model': 'rdg', 'FP': 7782, 'name': 'Emily', 'TN': 14357, 'color': 'ro', 'TP': 31460, 'Recall': 0.8370360516163363, 'Accuracy': 0.767145536132878, 'Pos': 37585, 'desc': 'Emily rdg', 'Neg': 22139, 'Precision': 0.8016920646246368, 'FN': 6125}, {'model_params': {'random_state': 10, 'alpha': 0.001, 'normalize': True, 'method': 'RidgeClassifier', 'class_weight': None, 'max_iter': 5, 'solver': 'auto', 'tol': 0.0001, 'copy_X': True, 'fit_intercept': True}, 'Recall': 0.8370360516163363, 'name': 'Emily', 'Accuracy': 0.767145536132878, 'TP': 31460, 'FP': 7782, 'TN': 14357, 'Pos': 37585, 'FN': 6125, 'Neg': 22139, 'Precision': 0.8016920646246368, 'desc': 'rdg Emily'}], 'Aucher': [{'model': 'nbs', 'FP': 15009, 'name': 'Aucher', 'TN': 90018, 'TP': 3315, 'Recall': 0.39337842648629406, 'color': 'bo', 'Accuracy': 0.8226505896662965, 'Pos': 8427, 'desc': 'nbs Aucher', 'Neg': 105027, 'Precision': 0.1809102815979044, 'FN': 5112}, {'model': 'nbs', 'Recall': 0.41343301293461493, 'name': 'Aucher', 'Accuracy': 0.8211609991714703, 'TP': 3484, 'FP': 15347, 'color': 'bo', 'TN': 89680, 'Pos': 8427, 'FN': 4943, 'Neg': 105027, 'Precision': 0.18501407253996072, 'desc': 'nbs Aucher'}, {'model': 'nbs', 'Recall': 0.4263676278628219, 'name': 'Aucher', 'TN': 92272, 'TP': 3593, 'FP': 12755, 'Accuracy': 0.8449680046538686, 'color': 'bo', 'Pos': 8427, 'FN': 4834, 'Neg': 105027, 'Precision': 0.21978223635918767, 'desc': 'nbs Aucher'}, {'model': 'nbs', 'FP': 18590, 'name': 'Aucher', 'TN': 86437, 'color': 'bo', 'TP': 3947, 'Recall': 0.46837545983149403, 'Accuracy': 0.7966576762388281, 'Pos': 8427, 'desc': 'Aucher nbs', 'Neg': 105027, 'Precision': 0.17513422372099213, 'FN': 4480}, {'model_params': {'fit_prior': True, 'alpha': 0, 'method': 'MultinomialNB', 'class_prior': None}, 'Recall': 0.46837545983149403, 'name': 'Aucher', 'Accuracy': 0.7966576762388281, 'TP': 3947, 'FP': 18590, 'TN': 86437, 'Pos': 8427, 'FN': 4480, 'Neg': 105027, 'Precision': 0.17513422372099213, 'desc': 'nbs Aucher'}], 'Rik': [{'Accuracy': 0.9276975690588256, 'Pos': 2844, 'name': 'Rik', 'Neg': 110610, 'TN': 103717, 'model': 'unspecified', 'desc': 'unspecified Rik', 'TP': 1534, 'FP': 1310, 'FN': 6893, 'color': 'yo'}, {'TN': 103715, 'Pos': 2847, 'name': 'Rik', 'FN': 6892, 'Neg': 110607, 'Accuracy': 0.9276887549138858, 'model': 'unspecified', 'TP': 1535, 'FP': 1312, 'desc': 'unspecified Rik', 'color': 'yo'}, {'model': 'unspecified', 'Pos': 2847, 'name': 'Rik', 'desc': 'unspecified Rik', 'Neg': 110607, 'color': 'yo', 'TN': 103715, 'TP': 1535, 'FP': 1312, 'FN': 6892, 'Accuracy': 0.9276887549138858}, {'model': 'unspecified', 'Pos': 3090, 'name': 'Rik', 'FN': 6813, 'TN': 103551, 'Accuracy': 0.9269395525940028, 'Neg': 110364, 'TP': 1614, 'FP': 1476, 'desc': 'Rik unspecified', 'color': 'yo'}, {'model_params': {'random_state': None, 'alpha': 1.0, 'normalize': False, 'method': 'RidgeClassifier', 'class_weight': None, 'max_iter': None, 'solver': 'auto', 'tol': 0.001, 'copy_X': True, 'fit_intercept': True}, 'Recall': 0.18215260472291445, 'name': 'Rik', 'Accuracy': 0.9276887549138858, 'TP': 1535, 'FP': 1312, 'TN': 103715, 'Pos': 8427, 'FN': 6892, 'Neg': 105027, 'Precision': 0.5391640323147172, 'desc': 'rdg Rik'}], 'Philipp': [{'model': 'mlp_sgd', 'Recall': 0.3866144535421858, 'name': 'Philipp', 'Accuracy': 0.9130749026036984, 'TP': 3258, 'FP': 4693, 'color': 'bo', 'TN': 100334, 'Pos': 8427, 'FN': 5169, 'Neg': 105027, 'Precision': 0.4097597786441957, 'desc': 'mlp_sgd Philipp'}, {'model': 'rdg', 'Recall': 0.5665124006170642, 'name': 'Philipp', 'TN': 72800, 'TP': 4774, 'FP': 32227, 'Accuracy': 0.6837484795599978, 'color': 'ro', 'Pos': 8427, 'FN': 3653, 'Neg': 105027, 'Precision': 0.1290235399043269, 'desc': 'rdg Philipp'}, {'model_params': {'random_state': None, 'alpha': 1.0, 'normalize': False, 'method': 'RidgeClassifier', 'class_weight': None, 'max_iter': 1000, 'solver': 'auto', 'tol': 0.0001, 'copy_X': True, 'fit_intercept': True}, 'Recall': 0.5195205885843124, 'name': 'Philipp', 'Accuracy': 0.7533625962945335, 'TP': 4378, 'FP': 23933, 'TN': 81094, 'Pos': 8427, 'FN': 4049, 'Neg': 105027, 'Precision': 0.15463953940164601, 'desc': 'rdg Philipp'}], 'Kevin': [{'model': 'rdg', 'FP': 1759, 'name': 'Kevin', 'TN': 103268, 'TP': 1189, 'Recall': 0.1410941022902575, 'color': 'ro', 'Accuracy': 0.9206991379766248, 'Pos': 8427, 'desc': 'rdg Kevin', 'Neg': 105027, 'Precision': 0.4033242876526459, 'FN': 7238}, {'model': 'lgs', 'Recall': 0.5481191408567699, 'name': 'Kevin', 'Accuracy': 0.7065418583743192, 'TP': 4619, 'FP': 29486, 'color': 'go', 'TN': 75541, 'Pos': 8427, 'FN': 3808, 'Neg': 105027, 'Precision': 0.13543468699604164, 'desc': 'lgs Kevin'}, {'model': 'lgs', 'Recall': 0.6566987065385071, 'name': 'Kevin', 'TN': 66814, 'TP': 5534, 'FP': 38213, 'Accuracy': 0.6376857581046063, 'color': 'go', 'Pos': 8427, 'FN': 2893, 'Neg': 105027, 'Precision': 0.1265001028641964, 'desc': 'lgs Kevin'}, {'model': 'unspecified', 'FP': 72, 'name': 'Kevin', 'TN': 113298, 'color': 'yo', 'TP': 45, 'Recall': 0.5357142857142857, 'Accuracy': 0.9990216299116823, 'Pos': 84, 'desc': 'Kevin unspecified', 'Neg': 113370, 'Precision': 0.38461538461538464, 'FN': 39}, {'model_params': {'shuffle': True, 'max_iter': 300, 'random_state': 49, 'power_t': 0.5, 'penalty': 'l2', 'fit_intercept': True, 'average': False, 'alpha': 0.0001, 'class_weight': None, 'n_jobs': 1, 'C': 1.0, 'tol': None, 'loss': 'hinge', 't_': 109200001.0, 'epsilon': 0.1, 'n_iter': None, 'learning_rate': 'optimal', 'warm_start': False, 'eta0': 0.0, 'method': 'SGDClassifier', 'n_iter_': 300, 'l1_ratio': 0.15, '_max_iter': 300, 'verbose': 0, '_tol': None}, 'Recall': 0.5357142857142857, 'name': 'Kevin', 'Accuracy': 0.9990216299116823, 'TP': 45, 'FP': 72, 'TN': 113298, 'Pos': 84, 'FN': 39, 'Neg': 113370, 'Precision': 0.38461538461538464, 'desc': 'unspecified Kevin'}], 'Michael': [{'model': 'lgs', 'FP': 685, 'name': 'Michael', 'TN': 104342, 'TP': 2186, 'Recall': 0.2594042957161505, 'color': 'go', 'Accuracy': 0.9389532321469495, 'Pos': 8427, 'desc': 'lgs Michael', 'Neg': 105027, 'Precision': 0.7614071752002787, 'FN': 6241}, {'model': 'rdg', 'Recall': 0.3540999169336656, 'name': 'Michael', 'Accuracy': 0.9318842879052304, 'TP': 2984, 'FP': 2285, 'color': 'ro', 'TN': 102742, 'Pos': 8427, 'FN': 5443, 'Neg': 105027, 'Precision': 0.5663313721768837, 'desc': 'rdg Michael'}, {'model': 'rdg', 'Recall': 0.40299038803844783, 'name': 'Michael', 'TN': 98254, 'TP': 3396, 'FP': 6773, 'Accuracy': 0.895957833130608, 'color': 'ro', 'Pos': 8427, 'FN': 5031, 'Neg': 105027, 'Precision': 0.333956141213492, 'desc': 'rdg Michael'}, {'model': 'rdg', 'FP': 7535, 'name': 'Michael', 'TN': 14445, 'color': 'ro', 'TP': 30627, 'Recall': 0.8114402289105553, 'Accuracy': 0.754671488848704, 'Pos': 37744, 'desc': 'Michael rdg', 'Neg': 21980, 'Precision': 0.8025522771343221, 'FN': 7117}, {'model_params': {'random_state': None, 'alpha': 1.0, 'normalize': False, 'method': 'RidgeClassifier', 'class_weight': None, 'max_iter': None, 'solver': 'auto', 'tol': 0.001, 'copy_X': True, 'fit_intercept': True}, 'Recall': 0.8114402289105553, 'name': 'Michael', 'Accuracy': 0.754671488848704, 'TP': 30627, 'FP': 7535, 'TN': 14445, 'Pos': 37744, 'FN': 7117, 'Neg': 21980, 'Precision': 0.8025522771343221, 'desc': 'rdg Michael'}], 'Nic': [{'model': 'rdg', 'FP': 1782, 'name': 'Nic', 'TN': 103245, 'TP': 1208, 'Recall': 0.14334875993829357, 'color': 'ro', 'Accuracy': 0.9206638813968657, 'Pos': 8427, 'desc': 'rdg Nic', 'Neg': 105027, 'Precision': 0.4040133779264214, 'FN': 7219}, {'model': 'rdg', 'FP': 18383, 'name': 'Nic', 'Accuracy': 0.804176141872477, 'TP': 4593, 'Recall': 0.5450338198647205, 'color': 'ro', 'TN': 86644, 'Pos': 8427, 'FN': 3834, 'Neg': 105027, 'Precision': 0.1999042479108635, 'desc': 'rdg Nic'}, {'model': 'rdg', 'FP': 8490, 'name': 'Nic', 'TN': 96537, 'color': 'ro', 'TP': 3910, 'Recall': 0.46398481072742376, 'Accuracy': 0.8853544167680293, 'Pos': 8427, 'desc': 'Nic rdg', 'Neg': 105027, 'Precision': 0.3153225806451613, 'FN': 4517}, {'model_params': {'random_state': None, 'alpha': 0.5, 'normalize': False, 'method': 'RidgeClassifier', 'class_weight': None, 'max_iter': None, 'solver': 'auto', 'tol': 0.001, 'copy_X': True, 'fit_intercept': True}, 'Recall': 0.4689687907915035, 'name': 'Nic', 'Accuracy': 0.8156656779580964, 'TP': 3952, 'FP': 5282, 'TN': 39222, 'Pos': 8427, 'FN': 4475, 'Neg': 44504, 'Precision': 0.4279835390946502, 'desc': 'rdg Nic'}], 'Rye': [{'model': 'rdg', 'FP': 1781, 'name': 'Rye', 'TN': 103246, 'TP': 1208, 'Recall': 0.14334875993829357, 'color': 'ro', 'Accuracy': 0.9206726955418055, 'Pos': 8427, 'desc': 'rdg Rye', 'Neg': 105027, 'Precision': 0.40414854466376715, 'FN': 7219}, {'model': 'lgs', 'Recall': 0.24397769075590364, 'name': 'Rye', 'Accuracy': 0.9210869603539761, 'TP': 2056, 'FP': 2582, 'color': 'go', 'TN': 102445, 'Pos': 8427, 'FN': 6371, 'Neg': 105027, 'Precision': 0.4432945235015093, 'desc': 'lgs Rye'}, {'model': 'unspecified', 'FP': 13787, 'name': 'Rye', 'TN': 91240, 'color': 'yo', 'TP': 3189, 'Recall': 0.37842648629405484, 'Accuracy': 0.8323108925203166, 'Pos': 8427, 'desc': 'Rye TOP_SECRET', 'Neg': 105027, 'Precision': 0.18785344015080113, 'FN': 5238}, {'model_params': {'fit_prior': True, 'alpha': 1.0, 'method': 'MultinomialNB', 'class_prior': None}, 'Recall': 0.37842648629405484, 'name': 'Rye', 'Accuracy': 0.8323108925203166, 'TP': 3189, 'FP': 13787, 'TN': 91240, 'Pos': 8427, 'FN': 5238, 'Neg': 105027, 'Precision': 0.18785344015080113, 'desc': 'nbs Rye'}], 'Eduardo': [{'model': 'rdg', 'FP': 1737, 'name': 'Eduardo', 'TN': 103290, 'TP': 1338, 'Recall': 0.1587753648985404, 'color': 'ro', 'Accuracy': 0.9222063567613306, 'Pos': 8427, 'desc': 'ridge_1 Eduardo', 'Neg': 105027, 'Precision': 0.4351219512195122, 'FN': 7089}, {'model': 'multilayer', 'Recall': 0.4060757090304972, 'name': 'Eduardo', 'Accuracy': 0.902110106298588, 'TP': 3422, 'FP': 6101, 'color': 'bo', 'TN': 98926, 'Pos': 8427, 'FN': 5005, 'Neg': 105027, 'Precision': 0.35934054394623544, 'desc': 'multilayer Eduardo'}, {'model': 'multilayer', 'Recall': 0.4060757090304972, 'name': 'Eduardo', 'TN': 98926, 'TP': 3422, 'FP': 6101, 'Accuracy': 0.902110106298588, 'color': 'bo', 'Pos': 8427, 'FN': 5005, 'Neg': 105027, 'Precision': 0.35934054394623544, 'desc': 'multilayer Eduardo'}, {'model_params': {'learning_rate_init': 0.001, 'max_iter': 200, 'random_state': 1, 'power_t': 0.5, 'nesterovs_momentum': True, 'warm_start': False, 'early_stopping': False, 'batch_size': 'auto', 'n_layers_': 4, 'alpha': 1e-05, 'hidden_layer_sizes': (5, 2), 'tol': 0.0001, 'momentum': 0.9, 'n_iter_': 201, 'loss': 'log_loss', 'beta_1': 0.9, 't_': 0, 'loss_': 0.022695794362907973, 'out_activation_': 'logistic', 'beta_2': 0.999, 'shuffle': True, 'learning_rate': 'constant', 'activation': 'relu', 'n_outputs_': 1, 'method': 'MLPClassifier', 'validation_fraction': 0.1, 'solver': 'lbfgs', 'verbose': False, 'epsilon': 1e-08}, 'Recall': 0.4060757090304972, 'name': 'Eduardo', 'Accuracy': 0.902110106298588, 'TP': 3422, 'FP': 6101, 'TN': 98926, 'Pos': 8427, 'FN': 5005, 'Neg': 105027, 'Precision': 0.35934054394623544, 'desc': 'multilayer Eduardo'}], 'Steve': [{'model': 'svm', 'FP': 1261, 'name': 'Steve', 'TN': 103766, 'TP': 962, 'Recall': 0.11415687670582651, 'color': 'co', 'Accuracy': 0.9230877712553105, 'Pos': 8427, 'desc': 'svm Steve', 'Neg': 105027, 'Precision': 0.4327485380116959, 'FN': 7465}, {'model': 'prc', 'Recall': 0.5468375299760192, 'name': 'Steve', 'Accuracy': 0.7365892784740953, 'TP': 7297, 'FP': 23838, 'color': 'mo', 'TN': 76272, 'Pos': 13344, 'FN': 6047, 'Neg': 100110, 'Precision': 0.23436646860446442, 'desc': 'prc Steve'}, {'model': 'prc', 'Recall': 0.4518030244280729, 'name': 'Steve', 'TN': 85812, 'TP': 5826, 'FP': 14747, 'Accuracy': 0.8077106139933365, 'color': 'mo', 'Pos': 12895, 'FN': 7069, 'Neg': 100559, 'Precision': 0.2831867010158946, 'desc': 'prc Steve'}, {'model': 'prc', 'FP': 6328, 'name': 'Steve', 'TN': 46227, 'color': 'mo', 'TP': 3405, 'Recall': 0.4749616403961501, 'Accuracy': 0.8310227044404259, 'Pos': 7169, 'desc': 'Steve prc', 'Neg': 52555, 'Precision': 0.34984074797082093, 'FN': 3764}, {'model_params': {'shuffle': True, 'max_iter': 42, 'random_state': None, 'power_t': 0.5, 'penalty': 'l2', 'fit_intercept': True, 'average': False, 'alpha': 10, 'class_weight': None, 'n_jobs': 1, 'C': 1.0, 'tol': None, 'loss': 'perceptron', 't_': 8018137.0, 'epsilon': 0.1, 'n_iter': None, 'learning_rate': 'optimal', 'warm_start': False, 'eta0': 4, 'method': 'SGDClassifier', 'n_iter_': 42, 'l1_ratio': 0.15, '_max_iter': 42, 'verbose': 0, '_tol': None}, 'Recall': 0.4632445250383596, 'name': 'Steve', 'Accuracy': 0.8408847364543567, 'TP': 3321, 'FP': 5655, 'TN': 46900, 'Pos': 7169, 'FN': 3848, 'Neg': 52555, 'Precision': 0.3699866310160428, 'desc': 'prc Steve'}], 'Ellie': [{'model': 'lgs', 'FP': 3491, 'name': 'Ellie', 'TN': 101536, 'TP': 2234, 'Recall': 0.2651002729322416, 'color': 'go', 'Accuracy': 0.9146438204029828, 'Pos': 8427, 'desc': 'lgs_001 Ellie', 'Neg': 105027, 'Precision': 0.3902183406113537, 'FN': 6193}, {'model': 'lgs', 'Recall': 0.05233179067283731, 'name': 'Ellie', 'Accuracy': 0.9047190932007686, 'TP': 441, 'FP': 2824, 'color': 'go', 'TN': 102203, 'Pos': 8427, 'FN': 7986, 'Neg': 105027, 'Precision': 0.13506891271056662, 'desc': 'lgs Ellie'}, {'model': 'nbs', 'Recall': 0.3141094102290258, 'name': 'Ellie', 'TN': 70598, 'TP': 2647, 'FP': 34429, 'Accuracy': 0.6455920461156063, 'color': 'bo', 'Pos': 8427, 'FN': 5780, 'Neg': 105027, 'Precision': 0.07139389362390765, 'desc': 'nbs Ellie'}]}\n",
    "people = ['Alonso', 'Andrew', 'Aucher', 'Benz', 'Eduardo', 'Ellie', 'Emily', 'Flavio', 'George', 'Jason', 'Kevin', 'Michael', 'Nic', 'Philipp', 'Rik', 'Rye', 'Steve', 'Yicen']"
   ]
  },
  {
   "cell_type": "markdown",
   "metadata": {},
   "source": [
    "## final models submitted"
   ]
  },
  {
   "cell_type": "code",
   "execution_count": 2,
   "metadata": {},
   "outputs": [
    {
     "name": "stdout",
     "output_type": "stream",
     "text": [
      "Alonso > SGDClassifier, hinge (SVM)\n",
      "Andrew > LogisticRegression\n",
      "Aucher > MultinomialNB\n",
      "Benz > SGDClassifier, log\n",
      "Eduardo > MLPClassifier\n",
      "Emily > RidgeClassifier\n",
      "Flavio > MultinomialNB\n",
      "George > RidgeClassifier\n",
      "Jason > SGDClassifier, log\n",
      "Kevin > SGDClassifier, hinge (SVM)\n",
      "Michael > RidgeClassifier\n",
      "Nic > RidgeClassifier\n",
      "Philipp > RidgeClassifier\n",
      "Rik > RidgeClassifier\n",
      "Rye > MultinomialNB\n",
      "Steve > SGDClassifier, perceptron\n",
      "Yicen > MultinomialNB\n"
     ]
    }
   ],
   "source": [
    "for p in people:\n",
    "    if 'model_params' in grades[p][-1]:\n",
    "        grades[p][-1]['model_params']\n",
    "        M = grades[p][-1]['model_params']['method']\n",
    "        if grades[p][-1]['model_params']['method'] == 'SGDClassifier':\n",
    "            if grades[p][-1]['model_params']['loss'] == 'hinge':\n",
    "                M += ', ' + grades[p][-1]['model_params']['loss'] + ' (SVM)'\n",
    "            else:\n",
    "                M += ', ' + grades[p][-1]['model_params']['loss']\n",
    "        print(p, '>', M)\n"
   ]
  },
  {
   "cell_type": "markdown",
   "metadata": {},
   "source": [
    "## number of submissions"
   ]
  },
  {
   "cell_type": "code",
   "execution_count": 3,
   "metadata": {},
   "outputs": [
    {
     "name": "stdout",
     "output_type": "stream",
     "text": [
      "Alonso 3\n",
      "Andrew 4\n",
      "Aucher 5\n",
      "Benz 5\n",
      "Eduardo 4\n",
      "Ellie 3\n",
      "Emily 4\n",
      "Flavio 3\n",
      "George 4\n",
      "Jason 4\n",
      "Kevin 5\n",
      "Michael 5\n",
      "Nic 4\n",
      "Philipp 3\n",
      "Rik 5\n",
      "Rye 4\n",
      "Steve 5\n",
      "Yicen 4\n"
     ]
    }
   ],
   "source": [
    "for p in people:\n",
    "    print(p, len(grades[p]))"
   ]
  },
  {
   "cell_type": "markdown",
   "metadata": {},
   "source": [
    "## over all submissions, what was the highest precision, recall, or [F1 score](https://towardsdatascience.com/beyond-accuracy-precision-and-recall-3da06bea9f6c) for each person?"
   ]
  },
  {
   "cell_type": "code",
   "execution_count": 4,
   "metadata": {},
   "outputs": [
    {
     "name": "stdout",
     "output_type": "stream",
     "text": [
      "Alonso 0.8517859261896286\n",
      "Andrew 0.5201139195443218\n",
      "Aucher 0.46837545983149403\n",
      "Benz 0.7233932867453317\n",
      "Eduardo 0.4351219512195122\n",
      "Ellie 0.3902183406113537\n",
      "Emily 0.9652671755725191\n",
      "Flavio 0.362999881333808\n",
      "George 0.9281115879828327\n",
      "Jason 0.43123294173489973\n",
      "Kevin 0.6566987065385071\n",
      "Michael 0.8114402289105553\n",
      "Nic 0.5450338198647205\n",
      "Philipp 0.5665124006170642\n",
      "Rik 0.539381153305204\n",
      "Rye 0.4432945235015093\n",
      "Steve 0.5468375299760192\n",
      "Yicen 0.42064476131432116\n"
     ]
    }
   ],
   "source": [
    "for p in people:\n",
    "    these_measures = []\n",
    "    for sub in grades[p]:\n",
    "        prec = sub['TP'] / (sub['TP'] + sub['FP'])\n",
    "        recl = sub['TP'] / sub['Pos']\n",
    "        F1 = 2 * ((prec * recl)/(prec + recl))\n",
    "        these_measures.append(F1)\n",
    "        these_measures.append(prec)\n",
    "        these_measures.append(recl)\n",
    "    print(p, max(these_measures))"
   ]
  }
 ],
 "metadata": {
  "kernelspec": {
   "display_name": "Python 3",
   "language": "python",
   "name": "python3"
  },
  "language_info": {
   "codemirror_mode": {
    "name": "ipython",
    "version": 3
   },
   "file_extension": ".py",
   "mimetype": "text/x-python",
   "name": "python",
   "nbconvert_exporter": "python",
   "pygments_lexer": "ipython3",
   "version": "3.5.3"
  }
 },
 "nbformat": 4,
 "nbformat_minor": 2
}
