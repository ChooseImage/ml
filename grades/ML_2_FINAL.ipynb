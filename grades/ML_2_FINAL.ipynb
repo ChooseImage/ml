{
 "cells": [
  {
   "cell_type": "code",
   "execution_count": 1,
   "metadata": {
    "collapsed": true
   },
   "outputs": [],
   "source": [
    "grades = {'Emily': [{'set': 'test', 'desc': 'nn_test Emily', 'Pos': 23, 'FN': 7, 'Accuracy': 0.9927774130006566, 'Recall': 0.6956521739130435, 'TP': 16, 'TN': 1496, 'FP': 4, 'Precision': 0.8, 'Neg': 1500}, {'Neg': 1500, 'set': 'test', 'Pos': 23, 'TN': 1500, 'TP': 23, 'Accuracy': 1.0, 'Recall': 1.0, 'desc': 'nn_test Emily', 'Precision': 1.0, 'FP': 0, 'FN': 0}, {'set': 'test', 'Accuracy': 1.0, 'Recall': 1.0, 'TP': 23, 'Precision': 1.0, 'Neg': 1500, 'model_params': {'max_iter': 2000, 'method': 'MLPClassifier', 'alpha': 0.0001, 'hidden_layer_sizes': (200, 200, 100)}, 'Pos': 23, 'TN': 1500, 'desc': 'nn_test Emily', 'FP': 0, 'FN': 0}], 'Michael': [{'FN': 11, 'desc': 'nn_test Michael', 'Pos': 23, 'TN': 1499, 'Accuracy': 0.9921208141825345, 'Recall': 0.5217391304347826, 'TP': 12, 'Precision': 0.9230769230769231, 'FP': 1, 'set': 'test', 'Neg': 1500}, {'Neg': 1500, 'set': 'test', 'Pos': 23, 'TN': 1496, 'TP': 20, 'Accuracy': 0.9954038082731451, 'Recall': 0.8695652173913043, 'desc': 'nn_test Michael', 'Precision': 0.8333333333333334, 'FP': 4, 'FN': 3}, {'set': 'test', 'Accuracy': 0.9940906106369009, 'Recall': 0.8260869565217391, 'TP': 19, 'Precision': 0.7916666666666666, 'Neg': 1500, 'model_params': {'max_iter': 10000, 'method': 'MLPClassifier', 'alpha': 0.0001, 'hidden_layer_sizes': (600, 200, 100)}, 'Pos': 23, 'FN': 4, 'desc': 'nn_test Michael', 'FP': 5, 'TN': 1495}], 'Aucher': [{'set': 'test', 'desc': 'nn_test Aucher', 'Pos': 23, 'TN': 1499, 'Accuracy': 0.9954038082731451, 'Recall': 0.7391304347826086, 'TP': 17, 'Precision': 0.9444444444444444, 'FP': 1, 'Neg': 1500, 'FN': 6}, {'TN': 1499, 'set': 'test', 'desc': 'nn_test Aucher', 'Pos': 23, 'Neg': 1499, 'Accuracy': 0.9954007884362681, 'Recall': 0.6956521739130435, 'TP': 16, 'Precision': 1.0, 'FP': 0, 'FN': 7}, {'set': 'test', 'Accuracy': 0.9960604070912672, 'Recall': 0.7391304347826086, 'TP': 17, 'Precision': 1.0, 'Neg': 1500, 'model_params': {'max_iter': 3000, 'method': 'MLPClassifier', 'alpha': 2, 'hidden_layer_sizes': (300, 100, 50)}, 'Pos': 23, 'TN': 1500, 'desc': 'nn_test Aucher', 'FP': 0, 'FN': 6}], 'Rik': [{'TN': 1500, 'set': 'test', 'desc': 'nn_test Rik', 'Pos': 23, 'FN': 5, 'Accuracy': 0.9967170059093894, 'Recall': 0.782608695652174, 'TP': 18, 'Precision': 1.0, 'FP': 0, 'Neg': 1500}, {'Neg': 1500, 'set': 'test Rik', 'Pos': 23, 'TN': 1500, 'desc': 'nn_test Rik', 'Recall': 0.782608695652174, 'TP': 18, 'Precision': 1.0, 'FP': 0, 'Accuracy': 0.9967170059093894, 'FN': 5}, {'set': 'test', 'Accuracy': 0.9967170059093894, 'Recall': 0.782608695652174, 'TP': 18, 'Precision': 1.0, 'Neg': 1500, 'model_params': {'max_iter': 1000, 'method': 'MLPClassifier', 'alpha': 0.0001, 'hidden_layer_sizes': (20, 10, 10, 20, 100)}, 'Pos': 23, 'TN': 1500, 'desc': 'nn_test Rik', 'FP': 0, 'FN': 5}], 'Alonso': [{'set': 'test', 'desc': 'nn_test Alonso', 'Pos': 23, 'FN': 4, 'Accuracy': 0.9973736047275115, 'Recall': 0.8260869565217391, 'TP': 19, 'Neg': 1500, 'FP': 0, 'Precision': 1.0, 'TN': 1500}, {'Neg': 1500, 'set': 'test', 'Pos': 23, 'TN': 1499, 'desc': 'nn_test Alonso', 'Recall': 0.8260869565217391, 'TP': 19, 'Precision': 0.95, 'FP': 1, 'Accuracy': 0.9967170059093894, 'FN': 4}, {'set': 'test', 'Accuracy': 0.9986868023637557, 'Recall': 0.9565217391304348, 'TP': 22, 'Precision': 0.9565217391304348, 'Neg': 1500, 'model_params': {'max_iter': 15000, 'method': 'MLPClassifier', 'alpha': 0.0001, 'hidden_layer_sizes': (450, 350, 250)}, 'Pos': 23, 'TN': 1499, 'desc': 'nn_test Alonso', 'FP': 1, 'FN': 1}], 'Jason': [{'set': 'test', 'FN': 11, 'Pos': 23, 'Neg': 1500, 'desc': 'nn_test Jason', 'Recall': 0.5217391304347826, 'TP': 12, 'Precision': 0.9230769230769231, 'FP': 1, 'Accuracy': 0.9921208141825345, 'TN': 1499}, {'Neg': 1500, 'set': 'test', 'Pos': 23, 'TN': 1499, 'TP': 10, 'Accuracy': 0.9908076165462902, 'Recall': 0.43478260869565216, 'desc': 'prc Jason', 'Precision': 0.9090909090909091, 'FP': 1, 'FN': 13}, {'set': 'test', 'Accuracy': 0.9908076165462902, 'Recall': 0.43478260869565216, 'TP': 10, 'Precision': 0.9090909090909091, 'Neg': 1500, 'model_params': {'max_iter': None, 'method': 'SGDClassifier', 'alpha': 0.0001}, 'Pos': 23, 'TN': 1499, 'desc': 'prc Jason', 'FP': 1, 'FN': 13}], 'Flavio': [{'Neg': 1500, 'set': 'test', 'desc': 'nn_test Flavio', 'Pos': 23, 'FN': 10, 'Accuracy': 0.9934340118187788, 'Recall': 0.5652173913043478, 'TP': 13, 'Precision': 1.0, 'FP': 0, 'TN': 1500}, {'Neg': 1500, 'set': 'test', 'Pos': 23, 'TN': 1498, 'TP': 17, 'Accuracy': 0.9947472094550229, 'Recall': 0.7391304347826086, 'desc': 'nn Flavio', 'Precision': 0.8947368421052632, 'FP': 2, 'FN': 6}, {'set': 'test', 'Accuracy': 0.9947472094550229, 'Recall': 0.7391304347826086, 'TP': 17, 'Precision': 0.8947368421052632, 'Neg': 1500, 'model_params': {'max_iter': 10000, 'method': 'MLPClassifier', 'alpha': 0.0001, 'hidden_layer_sizes': (100, 100, 100)}, 'Pos': 23, 'FN': 6, 'desc': 'nn Flavio', 'FP': 2, 'TN': 1498}], 'Yicen': [{'FN': 6, 'desc': 'nn_test Yicen', 'Pos': 23, 'TN': 1495, 'Accuracy': 0.9927774130006566, 'Recall': 0.7391304347826086, 'TP': 17, 'Precision': 0.7727272727272727, 'FP': 5, 'set': 'test', 'Neg': 1500}, {'TN': 1492, 'set': 'test', 'desc': 'nn_test Yicen', 'Pos': 23, 'Neg': 1500, 'Accuracy': 0.9914642153644123, 'Recall': 0.782608695652174, 'TP': 18, 'Precision': 0.6923076923076923, 'FP': 8, 'FN': 5}, {'set': 'test', 'Accuracy': 0.9914642153644123, 'Recall': 0.8695652173913043, 'TP': 20, 'Precision': 0.6666666666666666, 'Neg': 1500, 'model_params': {'max_iter': 1000, 'method': 'MLPClassifier', 'alpha': 0.0001, 'hidden_layer_sizes': (50, 800, 500, 200)}, 'Pos': 23, 'FN': 3, 'desc': 'nn_test Yicen', 'FP': 10, 'TN': 1490}], 'Kevin': [{'set': 'test', 'desc': 'nn_test Kevin', 'Pos': 23, 'Neg': 1500, 'Accuracy': 0.9993434011818779, 'Recall': 0.9565217391304348, 'TP': 22, 'Precision': 1.0, 'FP': 0, 'TN': 1500, 'FN': 1}, {'TN': 1500, 'set': 'test', 'desc': 'nn_test Kevin', 'Pos': 23, 'Neg': 1500, 'Accuracy': 0.9993434011818779, 'Recall': 0.9565217391304348, 'TP': 22, 'Precision': 1.0, 'FP': 0, 'FN': 1}, {'set': 'test', 'Accuracy': 0.9993434011818779, 'Recall': 0.9565217391304348, 'TP': 22, 'Precision': 1.0, 'Neg': 1500, 'model_params': {'max_iter': 5000, 'method': 'MLPClassifier', 'alpha': 0.0001, 'hidden_layer_sizes': (2, 3, 4, 2)}, 'Pos': 23, 'FN': 1, 'desc': 'nn_test Kevin', 'FP': 0, 'TN': 1500}], 'Andrew': [{'set': 'test', 'desc': 'nn_test Andrew', 'Pos': 23, 'Neg': 1500, 'Accuracy': 0.9980302035456337, 'Recall': 0.8695652173913043, 'TP': 20, 'TN': 1500, 'FP': 0, 'Precision': 1.0, 'FN': 3}, {'Neg': 1500, 'set': 'test', 'Pos': 23, 'TN': 1500, 'desc': 'nn_test Andrew', 'Recall': 0.8695652173913043, 'TP': 20, 'Precision': 1.0, 'FP': 0, 'Accuracy': 0.9980302035456337, 'FN': 3}, {'set': 'test', 'Accuracy': 0.9980302035456337, 'Recall': 0.8695652173913043, 'TP': 20, 'Precision': 1.0, 'Neg': 1500, 'model_params': {'max_iter': 1000, 'method': 'MLPClassifier', 'alpha': 1e-05, 'hidden_layer_sizes': (12, 10, 8, 6)}, 'Pos': 23, 'FN': 3, 'desc': 'nn_test Andrew', 'FP': 0, 'TN': 1500}], 'Steve': [{'set': 'test', 'Pos': 23, 'FN': 11, 'TP': 12, 'Accuracy': 0.990151017728168, 'Recall': 0.5217391304347826, 'desc': 'nn_test Steve', 'TN': 1496, 'FP': 4, 'Precision': 0.75, 'Neg': 1500}, {'TN': 1495, 'set': 'test Steve', 'desc': 'nn_test Steve', 'Pos': 23, 'Neg': 1500, 'Accuracy': 0.989494418910046, 'Recall': 0.5217391304347826, 'TP': 12, 'Precision': 0.7058823529411765, 'FP': 5, 'FN': 11}, {'set': 'test', 'Accuracy': 0.9993434011818779, 'Recall': 0.9565217391304348, 'TP': 22, 'Precision': 1.0, 'Neg': 1500, 'model_params': {'max_iter': 1000, 'method': 'MLPClassifier', 'alpha': 0.001, 'hidden_layer_sizes': (40, 40, 60)}, 'Pos': 23, 'FN': 1, 'desc': 'nn_test Steve', 'FP': 0, 'TN': 1500}], 'Philipp': [{'set': 'test', 'FN': 3, 'Pos': 23, 'TN': 1499, 'TP': 20, 'Recall': 0.8695652173913043, 'desc': 'nn_test Philipp', 'Precision': 0.9523809523809523, 'FP': 1, 'Accuracy': 0.9973736047275115, 'Neg': 1500}, {'TN': 1498, 'set': 'test', 'Pos': 23, 'Neg': 1500, 'TP': 21, 'Accuracy': 0.9973736047275115, 'Recall': 0.9130434782608695, 'desc': 'nn_test Philipp', 'Precision': 0.9130434782608695, 'FP': 2, 'FN': 2}, {'set': 'train', 'Accuracy': 0.9980302035456337, 'Recall': 0.9130434782608695, 'TP': 21, 'Precision': 0.9545454545454546, 'Neg': 1500, 'model_params': {'max_iter': 5000, 'method': 'MLPClassifier', 'alpha': 0.0005, 'hidden_layer_sizes': (90, 40)}, 'Pos': 23, 'FN': 2, 'desc': 'nn Philipp', 'FP': 1, 'TN': 1499}], 'Ellie': [{'FN': 6, 'desc': 'nn Ellie', 'Pos': 23, 'TN': 1495, 'Accuracy': 0.9927774130006566, 'Recall': 0.7391304347826086, 'TP': 17, 'Precision': 0.7727272727272727, 'FP': 5, 'set': 'test', 'Neg': 1500}], 'George': [{'TN': 1496, 'set': 'test', 'Pos': 23, 'FN': 4, 'TP': 19, 'Accuracy': 0.9947472094550229, 'Recall': 0.8260869565217391, 'desc': 'nn_test George', 'Precision': 0.8260869565217391, 'FP': 4, 'Neg': 1500}, {'TN': 1496, 'set': 'test', 'desc': 'nn_test George', 'Pos': 23, 'Neg': 1500, 'Accuracy': 0.9940906106369009, 'Recall': 0.782608695652174, 'TP': 18, 'Precision': 0.8181818181818182, 'FP': 4, 'FN': 5}, {'set': 'test', 'Accuracy': 0.9940906106369009, 'Recall': 0.782608695652174, 'TP': 18, 'Precision': 0.8181818181818182, 'Neg': 1500, 'model_params': {'max_iter': 10000, 'method': 'MLPClassifier', 'alpha': 0.001, 'hidden_layer_sizes': (275, 275, 275, 275)}, 'Pos': 23, 'TN': 1496, 'desc': 'nn_test George', 'FP': 4, 'FN': 5}], 'Nic': [{'Neg': 1500, 'set': 'test', 'Pos': 23, 'TN': 1494, 'desc': 'nn Nic', 'Recall': 0.6521739130434783, 'TP': 15, 'Precision': 0.7142857142857143, 'FP': 6, 'Accuracy': 0.9908076165462902, 'FN': 8}, {'set': 'Final', 'Accuracy': 0.9914642153644123, 'Recall': 0.4782608695652174, 'TP': 11, 'Precision': 0.9166666666666666, 'Neg': 1500, 'model_params': {'max_iter': 19000, 'method': 'MLPClassifier', 'alpha': 0.0001, 'hidden_layer_sizes': (150, 50, 25, 12, 7)}, 'Pos': 23, 'TN': 1499, 'desc': 'nn Nic', 'FP': 1, 'FN': 12}], 'Rye': [{'set': 'test', 'Accuracy': 0.9967170059093894, 'Recall': 0.782608695652174, 'TP': 18, 'Precision': 1.0, 'Neg': 1500, 'model_params': {'max_iter': 1000, 'method': 'MLPClassifier', 'alpha': 0.0001, 'hidden_layer_sizes': (100,)}, 'Pos': 23, 'FN': 5, 'desc': 'nn_test Rye', 'FP': 0, 'TN': 1500}], 'Benz': [{'set': 'test', 'Pos': 23, 'FN': 5, 'TP': 18, 'Accuracy': 0.9619172685489166, 'Recall': 0.782608695652174, 'desc': 'prc Benz', 'Neg': 1500, 'FP': 53, 'Precision': 0.2535211267605634, 'TN': 1447}, {'Neg': 1500, 'set': 'test', 'Pos': 23, 'TN': 1492, 'desc': 'nn_test Benz', 'Recall': 0.6956521739130435, 'TP': 16, 'Precision': 0.6666666666666666, 'FP': 8, 'Accuracy': 0.990151017728168, 'FN': 7}, {'set': 'test', 'Accuracy': 0.9914642153644123, 'Recall': 0.7391304347826086, 'TP': 17, 'Precision': 0.7083333333333334, 'Neg': 1500, 'model_params': {'max_iter': 3000, 'method': 'MLPClassifier', 'alpha': 1e-05, 'hidden_layer_sizes': (6, 4, 2)}, 'Pos': 23, 'FN': 6, 'desc': 'nn_test Benz', 'FP': 7, 'TN': 1493}], 'Eduardo': [{'Neg': 375, 'set': 'test', 'Pos': 6, 'TN': 375, 'desc': 'Multi-layer Eduardo', 'Recall': 0.3333333333333333, 'TP': 2, 'Precision': 1.0, 'FP': 0, 'Accuracy': 0.989501312335958, 'FN': 4}, {'set': 'test', 'Accuracy': 0.9921208141825345, 'Recall': 0.7391304347826086, 'TP': 17, 'Precision': 0.7391304347826086, 'Neg': 1500, 'model_params': {'max_iter': 1000, 'method': 'MLPClassifier', 'alpha': 1e-05, 'hidden_layer_sizes': (150, 150, 150, 150)}, 'Pos': 23, 'FN': 6, 'desc': 'nn_test Eduardo', 'FP': 6, 'TN': 1494}]}\n",
    "people = ['Alonso', 'Andrew', 'Aucher', 'Benz', 'Eduardo', 'Ellie', 'Emily', 'Flavio', 'George', 'Jason', 'Kevin', 'Michael', 'Nic', 'Philipp', 'Rik', 'Rye', 'Steve', 'Yicen']"
   ]
  },
  {
   "cell_type": "markdown",
   "metadata": {},
   "source": [
    "## best recall score over all submissions"
   ]
  },
  {
   "cell_type": "code",
   "execution_count": 2,
   "metadata": {},
   "outputs": [
    {
     "name": "stdout",
     "output_type": "stream",
     "text": [
      "Alonso 0.9565217391304348\n",
      "Andrew 0.8695652173913043\n",
      "Aucher 0.7391304347826086\n",
      "Benz 0.782608695652174\n",
      "Eduardo 0.7391304347826086\n",
      "Ellie 0.7391304347826086\n",
      "Emily 1.0\n",
      "Flavio 0.7391304347826086\n",
      "George 0.8260869565217391\n",
      "Jason 0.5217391304347826\n",
      "Kevin 0.9565217391304348\n",
      "Michael 0.8695652173913043\n",
      "Nic 0.6521739130434783\n",
      "Philipp 0.9130434782608695\n",
      "Rik 0.782608695652174\n",
      "Rye 0.782608695652174\n",
      "Steve 0.9565217391304348\n",
      "Yicen 0.8695652173913043\n"
     ]
    }
   ],
   "source": [
    "for p in people:\n",
    "    these_grades = []\n",
    "    for grade in grades[p]:\n",
    "        these_grades.append(grade['Recall'])\n",
    "    print(p, max(these_grades))\n"
   ]
  },
  {
   "cell_type": "markdown",
   "metadata": {},
   "source": [
    "## number of submissions"
   ]
  },
  {
   "cell_type": "code",
   "execution_count": 3,
   "metadata": {},
   "outputs": [
    {
     "name": "stdout",
     "output_type": "stream",
     "text": [
      "Alonso 3\n",
      "Andrew 3\n",
      "Aucher 3\n",
      "Benz 3\n",
      "Eduardo 2\n",
      "Ellie 1\n",
      "Emily 3\n",
      "Flavio 3\n",
      "George 3\n",
      "Jason 3\n",
      "Kevin 3\n",
      "Michael 3\n",
      "Nic 2\n",
      "Philipp 3\n",
      "Rik 3\n",
      "Rye 1\n",
      "Steve 3\n",
      "Yicen 3\n"
     ]
    }
   ],
   "source": [
    "for p in people:\n",
    "    print(p, len(grades[p]))\n"
   ]
  },
  {
   "cell_type": "markdown",
   "metadata": {
    "collapsed": true
   },
   "source": [
    "## how many hidden layers did everyone use in their final models and how does that compare to their Recall score on my test set? "
   ]
  },
  {
   "cell_type": "code",
   "execution_count": 4,
   "metadata": {},
   "outputs": [
    {
     "name": "stdout",
     "output_type": "stream",
     "text": [
      "(450, 350, 250) 0.9565217391304348\n",
      "(12, 10, 8, 6) 0.8695652173913043\n",
      "(300, 100, 50) 0.7391304347826086\n",
      "(6, 4, 2) 0.7391304347826086\n",
      "(150, 150, 150, 150) 0.7391304347826086\n",
      "(200, 200, 100) 1.0\n",
      "(100, 100, 100) 0.7391304347826086\n",
      "(275, 275, 275, 275) 0.782608695652174\n",
      "(0, Perceptron) 0.43478260869565216\n",
      "(2, 3, 4, 2) 0.9565217391304348\n",
      "(600, 200, 100) 0.8260869565217391\n",
      "(150, 50, 25, 12, 7) 0.4782608695652174\n",
      "(90, 40) 0.9130434782608695\n",
      "(20, 10, 10, 20, 100) 0.782608695652174\n",
      "(100,) 0.782608695652174\n",
      "(40, 40, 60) 0.9565217391304348\n",
      "(50, 800, 500, 200) 0.8695652173913043\n"
     ]
    }
   ],
   "source": [
    "for p in people:\n",
    "    if 'model_params' in grades[p][-1]:\n",
    "        if 'hidden_layer_sizes' in grades[p][-1]['model_params']:\n",
    "            print(grades[p][-1]['model_params']['hidden_layer_sizes'], grades[p][-1]['Recall'])\n",
    "        else:\n",
    "            print('(0, Perceptron)', grades[p][-1]['Recall'])"
   ]
  }
 ],
 "metadata": {
  "kernelspec": {
   "display_name": "Python 3",
   "language": "python",
   "name": "python3"
  },
  "language_info": {
   "codemirror_mode": {
    "name": "ipython",
    "version": 3
   },
   "file_extension": ".py",
   "mimetype": "text/x-python",
   "name": "python",
   "nbconvert_exporter": "python",
   "pygments_lexer": "ipython3",
   "version": "3.5.3"
  }
 },
 "nbformat": 4,
 "nbformat_minor": 2
}
