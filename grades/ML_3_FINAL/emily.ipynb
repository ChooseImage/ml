{
 "cells": [
  {
   "cell_type": "code",
   "execution_count": 1,
   "metadata": {
    "collapsed": true
   },
   "outputs": [],
   "source": [
    "import numpy as np\n",
    "import pandas as pd\n",
    "import matplotlib.pyplot as plt\n",
    "%matplotlib inline"
   ]
  },
  {
   "cell_type": "markdown",
   "metadata": {},
   "source": [
    "## read and describe the metadata"
   ]
  },
  {
   "cell_type": "code",
   "execution_count": 2,
   "metadata": {
    "collapsed": true
   },
   "outputs": [],
   "source": [
    "fpn_csv = '/Volumes/Samsung_t3/machinelearning/personal_ml/ML_assignment_3/cluster_images.csv'\n",
    "data = pd.read_csv(fpn_csv, encoding='ISO-8859-1')"
   ]
  },
  {
   "cell_type": "code",
   "execution_count": 3,
   "metadata": {},
   "outputs": [
    {
     "data": {
      "text/plain": [
       "['s_no',\n",
       " 'artist',\n",
       " 'title',\n",
       " 'art_movement',\n",
       " 'museum_venue',\n",
       " 'country_of_origin',\n",
       " 'has_text',\n",
       " 'primary_medium',\n",
       " 'medium',\n",
       " 'work_size',\n",
       " 'date',\n",
       " 'representation',\n",
       " 'representation_semi',\n",
       " 'kinetic',\n",
       " 'map',\n",
       " 'map2',\n",
       " 'spatial_dimension',\n",
       " 'spatial_dimension2',\n",
       " 'pl',\n",
       " 'si',\n",
       " 'va',\n",
       " 'te',\n",
       " 'co',\n",
       " 'or',\n",
       " 'sh',\n",
       " 'reflection',\n",
       " 'po',\n",
       " 'li',\n",
       " 'ar',\n",
       " 'notes']"
      ]
     },
     "execution_count": 3,
     "metadata": {},
     "output_type": "execute_result"
    }
   ],
   "source": [
    "# get column names\n",
    "list(data)"
   ]
  },
  {
   "cell_type": "code",
   "execution_count": 4,
   "metadata": {},
   "outputs": [
    {
     "data": {
      "text/html": [
       "<div>\n",
       "<style>\n",
       "    .dataframe thead tr:only-child th {\n",
       "        text-align: right;\n",
       "    }\n",
       "\n",
       "    .dataframe thead th {\n",
       "        text-align: left;\n",
       "    }\n",
       "\n",
       "    .dataframe tbody tr th {\n",
       "        vertical-align: top;\n",
       "    }\n",
       "</style>\n",
       "<table border=\"1\" class=\"dataframe\">\n",
       "  <thead>\n",
       "    <tr style=\"text-align: right;\">\n",
       "      <th></th>\n",
       "      <th>s_no</th>\n",
       "      <th>artist</th>\n",
       "      <th>title</th>\n",
       "      <th>art_movement</th>\n",
       "      <th>museum_venue</th>\n",
       "      <th>country_of_origin</th>\n",
       "      <th>has_text</th>\n",
       "      <th>primary_medium</th>\n",
       "      <th>medium</th>\n",
       "      <th>work_size</th>\n",
       "      <th>...</th>\n",
       "      <th>va</th>\n",
       "      <th>te</th>\n",
       "      <th>co</th>\n",
       "      <th>or</th>\n",
       "      <th>sh</th>\n",
       "      <th>reflection</th>\n",
       "      <th>po</th>\n",
       "      <th>li</th>\n",
       "      <th>ar</th>\n",
       "      <th>notes</th>\n",
       "    </tr>\n",
       "  </thead>\n",
       "  <tbody>\n",
       "    <tr>\n",
       "      <th>0</th>\n",
       "      <td>2</td>\n",
       "      <td>Giorgio de Chirico</td>\n",
       "      <td>The Uncertainty of the Poet</td>\n",
       "      <td>surrealism</td>\n",
       "      <td>Tate</td>\n",
       "      <td>Italy</td>\n",
       "      <td>False</td>\n",
       "      <td>painting</td>\n",
       "      <td>painting, oil on canvas</td>\n",
       "      <td>106 x 94 cm</td>\n",
       "      <td>...</td>\n",
       "      <td>3</td>\n",
       "      <td>0</td>\n",
       "      <td>0</td>\n",
       "      <td>4</td>\n",
       "      <td>3</td>\n",
       "      <td>False</td>\n",
       "      <td>0</td>\n",
       "      <td>0</td>\n",
       "      <td>5</td>\n",
       "      <td>distorted perspective, shadow, signification o...</td>\n",
       "    </tr>\n",
       "    <tr>\n",
       "      <th>1</th>\n",
       "      <td>3</td>\n",
       "      <td>Giovanni Anselmo</td>\n",
       "      <td>Direction</td>\n",
       "      <td>arte povera</td>\n",
       "      <td>Tate</td>\n",
       "      <td>Italy</td>\n",
       "      <td>False</td>\n",
       "      <td>sculpture</td>\n",
       "      <td>sculpture, fabric, glass &amp; metal</td>\n",
       "      <td>24 x 420 x 335 cm</td>\n",
       "      <td>...</td>\n",
       "      <td>1</td>\n",
       "      <td>3</td>\n",
       "      <td>0</td>\n",
       "      <td>3</td>\n",
       "      <td>2</td>\n",
       "      <td>False</td>\n",
       "      <td>0</td>\n",
       "      <td>0</td>\n",
       "      <td>5</td>\n",
       "      <td>hard to understand the viewpoint, sense of for...</td>\n",
       "    </tr>\n",
       "    <tr>\n",
       "      <th>2</th>\n",
       "      <td>4</td>\n",
       "      <td>Milton Avery</td>\n",
       "      <td>Yellow Sky</td>\n",
       "      <td>modernism</td>\n",
       "      <td>Tate</td>\n",
       "      <td>America</td>\n",
       "      <td>False</td>\n",
       "      <td>painting</td>\n",
       "      <td>painting, oil on canvas</td>\n",
       "      <td>156 x 184 cm</td>\n",
       "      <td>...</td>\n",
       "      <td>2</td>\n",
       "      <td>4</td>\n",
       "      <td>4</td>\n",
       "      <td>2</td>\n",
       "      <td>4</td>\n",
       "      <td>False</td>\n",
       "      <td>0</td>\n",
       "      <td>0</td>\n",
       "      <td>5</td>\n",
       "      <td>flatish, textured shapes &amp; specific colors-lin...</td>\n",
       "    </tr>\n",
       "    <tr>\n",
       "      <th>3</th>\n",
       "      <td>5</td>\n",
       "      <td>Gillian Avery</td>\n",
       "      <td>Distillation</td>\n",
       "      <td>abstraction</td>\n",
       "      <td>Tate</td>\n",
       "      <td>UK</td>\n",
       "      <td>False</td>\n",
       "      <td>painting</td>\n",
       "      <td>painting, oil, household paint on hardboard</td>\n",
       "      <td>213 x 152 cm</td>\n",
       "      <td>...</td>\n",
       "      <td>1</td>\n",
       "      <td>2</td>\n",
       "      <td>0</td>\n",
       "      <td>2</td>\n",
       "      <td>4</td>\n",
       "      <td>False</td>\n",
       "      <td>0</td>\n",
       "      <td>0</td>\n",
       "      <td>5</td>\n",
       "      <td>shapes, layers, paint handlng/texture, orienta...</td>\n",
       "    </tr>\n",
       "    <tr>\n",
       "      <th>4</th>\n",
       "      <td>6</td>\n",
       "      <td>Joseph (Jef) Banc</td>\n",
       "      <td>Pair-Bearing Matrix</td>\n",
       "      <td>abstraction</td>\n",
       "      <td>Tate</td>\n",
       "      <td>France</td>\n",
       "      <td>False</td>\n",
       "      <td>painting</td>\n",
       "      <td>painting, mixed media on canvas</td>\n",
       "      <td>73 x 60 cm</td>\n",
       "      <td>...</td>\n",
       "      <td>1</td>\n",
       "      <td>4</td>\n",
       "      <td>1</td>\n",
       "      <td>0</td>\n",
       "      <td>4</td>\n",
       "      <td>False</td>\n",
       "      <td>0</td>\n",
       "      <td>0</td>\n",
       "      <td>5</td>\n",
       "      <td>ambiguity through abstraction, odd shape, v te...</td>\n",
       "    </tr>\n",
       "  </tbody>\n",
       "</table>\n",
       "<p>5 rows × 30 columns</p>\n",
       "</div>"
      ],
      "text/plain": [
       "   s_no              artist                         title art_movement  \\\n",
       "0     2  Giorgio de Chirico  The Uncertainty of the Poet    surrealism   \n",
       "1     3    Giovanni Anselmo                     Direction  arte povera   \n",
       "2     4        Milton Avery                   Yellow Sky     modernism   \n",
       "3     5       Gillian Avery                  Distillation  abstraction   \n",
       "4     6   Joseph (Jef) Banc          Pair-Bearing Matrix   abstraction   \n",
       "\n",
       "  museum_venue country_of_origin  has_text primary_medium  \\\n",
       "0         Tate             Italy     False       painting   \n",
       "1         Tate             Italy     False      sculpture   \n",
       "2         Tate           America     False       painting   \n",
       "3         Tate                UK     False       painting   \n",
       "4         Tate            France     False       painting   \n",
       "\n",
       "                                        medium          work_size  \\\n",
       "0                      painting, oil on canvas        106 x 94 cm   \n",
       "1             sculpture, fabric, glass & metal  24 x 420 x 335 cm   \n",
       "2                      painting, oil on canvas       156 x 184 cm   \n",
       "3  painting, oil, household paint on hardboard       213 x 152 cm   \n",
       "4              painting, mixed media on canvas         73 x 60 cm   \n",
       "\n",
       "                         ...                         va  te  co  or  sh  \\\n",
       "0                        ...                          3   0   0   4   3   \n",
       "1                        ...                          1   3   0   3   2   \n",
       "2                        ...                          2   4   4   2   4   \n",
       "3                        ...                          1   2   0   2   4   \n",
       "4                        ...                          1   4   1   0   4   \n",
       "\n",
       "   reflection  po  li  ar                                              notes  \n",
       "0       False   0   0   5  distorted perspective, shadow, signification o...  \n",
       "1       False   0   0   5  hard to understand the viewpoint, sense of for...  \n",
       "2       False   0   0   5  flatish, textured shapes & specific colors-lin...  \n",
       "3       False   0   0   5  shapes, layers, paint handlng/texture, orienta...  \n",
       "4       False   0   0   5  ambiguity through abstraction, odd shape, v te...  \n",
       "\n",
       "[5 rows x 30 columns]"
      ]
     },
     "execution_count": 4,
     "metadata": {},
     "output_type": "execute_result"
    }
   ],
   "source": [
    "data.head()"
   ]
  },
  {
   "cell_type": "markdown",
   "metadata": {},
   "source": [
    "## create a subset of the columns you will use to fit KMeans\n",
    "\n",
    "Here, I am **arbitrarily** choosing the seven [visual variables defined by Bertin](http://www.infovis-wiki.net/index.php?title=Visual_Variables#Jaques_Bertin). Variable descriptions [here](https://github.com/visualizedata/ml/blob/master/ML_assignment_3/contents-of-cluster_images.csv). \n",
    "\n",
    "You should choose the columns that you decide will best define the clusters. You may need to make transformations on existing variables. "
   ]
  },
  {
   "cell_type": "code",
   "execution_count": 5,
   "metadata": {},
   "outputs": [
    {
     "data": {
      "text/plain": [
       "(404, 30)"
      ]
     },
     "execution_count": 5,
     "metadata": {},
     "output_type": "execute_result"
    }
   ],
   "source": [
    "data.shape"
   ]
  },
  {
   "cell_type": "code",
   "execution_count": 6,
   "metadata": {},
   "outputs": [
    {
     "data": {
      "text/plain": [
       "array(['surrealism', 'arte povera', 'modernism', 'abstraction',\n",
       "       'conceptual', 'representation', 'postminimal', 'postmod', 'pop art',\n",
       "       'cubism', 'Unknown', 'collage', 'COBRA', 'constructivism',\n",
       "       'minimalism', 'suprematism', 'kinetic art', 'dada',\n",
       "       'pre-raphaelite', 'Neo-Concrete Movement', 'abstract expressionism',\n",
       "       'op art', 'gutai', 'land art', 'assemblage', 'ZERO', 'fluxus',\n",
       "       'futurism', 'supports/surfaces'], dtype=object)"
      ]
     },
     "execution_count": 6,
     "metadata": {},
     "output_type": "execute_result"
    }
   ],
   "source": [
    "data.art_movement.unique()"
   ]
  },
  {
   "cell_type": "code",
   "execution_count": 7,
   "metadata": {},
   "outputs": [
    {
     "name": "stdout",
     "output_type": "stream",
     "text": [
      "(404, 8860)\n"
     ]
    }
   ],
   "source": [
    "# Run for surrealism\n",
    "from sklearn.feature_extraction.text import HashingVectorizer\n",
    "from sklearn.feature_extraction.text import CountVectorizer\n",
    "\n",
    "hv = CountVectorizer(analyzer=\"word\", ngram_range=(1,2))\n",
    "X_hv = hv.fit_transform(data.notes)\n",
    "print(X_hv.shape)"
   ]
  },
  {
   "cell_type": "code",
   "execution_count": 8,
   "metadata": {},
   "outputs": [
    {
     "data": {
      "text/plain": [
       "['hv.pkl']"
      ]
     },
     "execution_count": 8,
     "metadata": {},
     "output_type": "execute_result"
    }
   ],
   "source": [
    "from sklearn.externals import joblib\n",
    "joblib.dump(hv, 'hv.pkl')"
   ]
  },
  {
   "cell_type": "code",
   "execution_count": 9,
   "metadata": {},
   "outputs": [
    {
     "data": {
      "text/plain": [
       "['transformer.pkl']"
      ]
     },
     "execution_count": 9,
     "metadata": {},
     "output_type": "execute_result"
    }
   ],
   "source": [
    "from sklearn.feature_extraction.text import TfidfTransformer\n",
    "transformer = TfidfTransformer()\n",
    "X_tfidf = transformer.fit_transform(X_hv)\n",
    "\n",
    "joblib.dump(transformer, 'transformer.pkl') # pickle"
   ]
  },
  {
   "cell_type": "code",
   "execution_count": 10,
   "metadata": {},
   "outputs": [
    {
     "name": "stdout",
     "output_type": "stream",
     "text": [
      "<class 'scipy.sparse.csr.csr_matrix'>\n"
     ]
    }
   ],
   "source": [
    "print(type(X_tfidf))"
   ]
  },
  {
   "cell_type": "code",
   "execution_count": 11,
   "metadata": {
    "collapsed": true
   },
   "outputs": [],
   "source": [
    "# surrealism['representation'] = np.where(surrealism['representation']==True, 1, 0)\n",
    "X_quant_features = data[['co','or', 'sh']]"
   ]
  },
  {
   "cell_type": "code",
   "execution_count": 12,
   "metadata": {},
   "outputs": [
    {
     "data": {
      "text/html": [
       "<div>\n",
       "<style>\n",
       "    .dataframe thead tr:only-child th {\n",
       "        text-align: right;\n",
       "    }\n",
       "\n",
       "    .dataframe thead th {\n",
       "        text-align: left;\n",
       "    }\n",
       "\n",
       "    .dataframe tbody tr th {\n",
       "        vertical-align: top;\n",
       "    }\n",
       "</style>\n",
       "<table border=\"1\" class=\"dataframe\">\n",
       "  <thead>\n",
       "    <tr style=\"text-align: right;\">\n",
       "      <th></th>\n",
       "      <th>co</th>\n",
       "      <th>or</th>\n",
       "      <th>sh</th>\n",
       "    </tr>\n",
       "  </thead>\n",
       "  <tbody>\n",
       "    <tr>\n",
       "      <th>0</th>\n",
       "      <td>0</td>\n",
       "      <td>4</td>\n",
       "      <td>3</td>\n",
       "    </tr>\n",
       "    <tr>\n",
       "      <th>1</th>\n",
       "      <td>0</td>\n",
       "      <td>3</td>\n",
       "      <td>2</td>\n",
       "    </tr>\n",
       "    <tr>\n",
       "      <th>2</th>\n",
       "      <td>4</td>\n",
       "      <td>2</td>\n",
       "      <td>4</td>\n",
       "    </tr>\n",
       "    <tr>\n",
       "      <th>3</th>\n",
       "      <td>0</td>\n",
       "      <td>2</td>\n",
       "      <td>4</td>\n",
       "    </tr>\n",
       "    <tr>\n",
       "      <th>4</th>\n",
       "      <td>1</td>\n",
       "      <td>0</td>\n",
       "      <td>4</td>\n",
       "    </tr>\n",
       "  </tbody>\n",
       "</table>\n",
       "</div>"
      ],
      "text/plain": [
       "   co  or  sh\n",
       "0   0   4   3\n",
       "1   0   3   2\n",
       "2   4   2   4\n",
       "3   0   2   4\n",
       "4   1   0   4"
      ]
     },
     "execution_count": 12,
     "metadata": {},
     "output_type": "execute_result"
    }
   ],
   "source": [
    "X_quant_features.head()"
   ]
  },
  {
   "cell_type": "code",
   "execution_count": 13,
   "metadata": {},
   "outputs": [
    {
     "name": "stdout",
     "output_type": "stream",
     "text": [
      "(404, 8863)\n"
     ]
    }
   ],
   "source": [
    "from scipy.sparse import csr_matrix, hstack\n",
    "X_quant_features_csr = csr_matrix(X_quant_features)\n",
    "X_combined = hstack([X_tfidf, X_quant_features_csr])\n",
    "X_matrix = csr_matrix(X_combined) # convert to sparse matrix\n",
    "print(X_matrix.shape)"
   ]
  },
  {
   "cell_type": "code",
   "execution_count": 14,
   "metadata": {
    "collapsed": true
   },
   "outputs": [],
   "source": [
    "# feature scaling\n",
    "# from sklearn.preprocessing import StandardScaler\n",
    "# sc = StandardScaler(with_mean=False)\n",
    "# X = sc.fit_transform(X_matrix)\n",
    "# print(X.shape)\n",
    "\n",
    "# joblib.dump(sc, 'sc.pkl') # pickle\n",
    "\n",
    "X = X_matrix"
   ]
  },
  {
   "cell_type": "markdown",
   "metadata": {},
   "source": [
    "# KMeans"
   ]
  },
  {
   "cell_type": "code",
   "execution_count": 15,
   "metadata": {
    "collapsed": true
   },
   "outputs": [],
   "source": [
    "from sklearn.cluster import KMeans"
   ]
  },
  {
   "cell_type": "markdown",
   "metadata": {},
   "source": [
    "## plot inertia scores by number of clusters"
   ]
  },
  {
   "cell_type": "code",
   "execution_count": 16,
   "metadata": {},
   "outputs": [
    {
     "data": {
      "image/png": "[encoded data removed]",
      "text/plain": [
       "<matplotlib.figure.Figure at 0x11d9a1f98>"
      ]
     },
     "metadata": {},
     "output_type": "display_data"
    }
   ],
   "source": [
    "# first attempt at fitting K means to view change in Inertia\n",
    "\n",
    "# container to store inertia scores over iterations\n",
    "distortions = []\n",
    "\n",
    "# fit KMeans iteratively to begin to assess the appropriate number of clusters\n",
    "for i in range(1, 101):\n",
    "    km = KMeans(n_clusters=i)\n",
    "    km.fit(X)\n",
    "    distortions.append(km.inertia_)\n",
    "    \n",
    "# vizualize change in inertia\n",
    "plt.plot(range(1, 101), distortions, marker='o')\n",
    "plt.xlabel('Number of clusters')\n",
    "plt.ylabel('Inertia')\n",
    "plt.show()"
   ]
  },
  {
   "cell_type": "markdown",
   "metadata": {},
   "source": [
    "## create silhouette plots to assess various specifications for `n_clusters` in `KMeans`"
   ]
  },
  {
   "cell_type": "code",
   "execution_count": 17,
   "metadata": {
    "collapsed": true
   },
   "outputs": [],
   "source": [
    "# modify this list to include the numbers of clusters you want to see\n",
    "# I have *arbitrarily* chosen these values\n",
    "range_n_clusters = [5,6,7,8,9,10]"
   ]
  },
  {
   "cell_type": "code",
   "execution_count": 18,
   "metadata": {},
   "outputs": [
    {
     "name": "stdout",
     "output_type": "stream",
     "text": [
      "For n_clusters = 5 The average silhouette_score is : 0.302852962606\n"
     ]
    },
    {
     "data": {
      "image/png": "[encoded data removed]",
      "text/plain": [
       "<matplotlib.figure.Figure at 0x11dcacac8>"
      ]
     },
     "metadata": {},
     "output_type": "display_data"
    },
    {
     "name": "stdout",
     "output_type": "stream",
     "text": [
      "For n_clusters = 6 The average silhouette_score is : 0.248275118953\n"
     ]
    },
    {
     "data": {
      "image/png": "[encoded data removed]",
      "text/plain": [
       "<matplotlib.figure.Figure at 0x11da7b748>"
      ]
     },
     "metadata": {},
     "output_type": "display_data"
    },
    {
     "name": "stdout",
     "output_type": "stream",
     "text": [
      "For n_clusters = 7 The average silhouette_score is : 0.215584056901\n"
     ]
    },
    {
     "data": {
      "image/png": "[encoded data removed]",
      "text/plain": [
       "<matplotlib.figure.Figure at 0x11de19f98>"
      ]
     },
     "metadata": {},
     "output_type": "display_data"
    },
    {
     "name": "stdout",
     "output_type": "stream",
     "text": [
      "For n_clusters = 8 The average silhouette_score is : 0.182002574371\n"
     ]
    },
    {
     "data": {
      "image/png": "[encoded data removed]",
      "text/plain": [
       "<matplotlib.figure.Figure at 0x11de42da0>"
      ]
     },
     "metadata": {},
     "output_type": "display_data"
    },
    {
     "name": "stdout",
     "output_type": "stream",
     "text": [
      "For n_clusters = 9 The average silhouette_score is : 0.221879336618\n"
     ]
    },
    {
     "data": {
      "image/png": "[encoded data removed]",
      "text/plain": [
       "<matplotlib.figure.Figure at 0x11f457518>"
      ]
     },
     "metadata": {},
     "output_type": "display_data"
    },
    {
     "name": "stdout",
     "output_type": "stream",
     "text": [
      "For n_clusters = 10 The average silhouette_score is : 0.197985798243\n"
     ]
    },
    {
     "data": {
      "image/png": "[encoded data removed]",
      "text/plain": [
       "<matplotlib.figure.Figure at 0x11f1866a0>"
      ]
     },
     "metadata": {},
     "output_type": "display_data"
    }
   ],
   "source": [
    "# modified from: http://scikit-learn.org/stable/auto_examples/cluster/plot_kmeans_silhouette_analysis.html\n",
    "\n",
    "from sklearn.metrics import silhouette_samples, silhouette_score\n",
    "import matplotlib.cm as cm\n",
    "import random\n",
    "\n",
    "for n_clusters in range_n_clusters:\n",
    "    # Create a subplot\n",
    "    fig, (ax1) = plt.subplots(1, 1)\n",
    "    fig.set_size_inches(9, 17)\n",
    "\n",
    "    # The silhouette coefficient can range from -1, 1 but in this example all lie within [-0.1, 1]\n",
    "    ax1.set_xlim([-0.1, 1])\n",
    "    # The (n_clusters+1)*10 is for inserting blank space between silhouette plots of individual clusters, to demarcate them clearly.\n",
    "    ax1.set_ylim([0, X.shape[0] + (n_clusters + 1) * 10])\n",
    "\n",
    "    # Initialize the clusterer with n_clusters value and a random generator seed of 10 for reproducibility.\n",
    "    clusterer = KMeans(n_clusters=n_clusters, random_state=10)\n",
    "    cluster_labels = clusterer.fit_predict(X)\n",
    "\n",
    "    # The silhouette_score gives the average value for all the samples.\n",
    "    silhouette_avg = silhouette_score(X, cluster_labels)\n",
    "    print(\"For n_clusters =\", n_clusters, \"The average silhouette_score is :\", silhouette_avg)\n",
    "\n",
    "    # Compute the silhouette scores for each sample\n",
    "    sample_silhouette_values = silhouette_samples(X, cluster_labels)\n",
    "\n",
    "    y_lower = 10\n",
    "    for i in range(n_clusters):\n",
    "        # Aggregate the silhouette scores for samples belonging to cluster i, and sort them\n",
    "        ith_cluster_silhouette_values = \\\n",
    "            sample_silhouette_values[cluster_labels == i]\n",
    "\n",
    "        ith_cluster_silhouette_values.sort()\n",
    "\n",
    "        size_cluster_i = ith_cluster_silhouette_values.shape[0]\n",
    "        y_upper = y_lower + size_cluster_i\n",
    "\n",
    "        # select a random color for this cluster\n",
    "        r = lambda: random.randint(0,255)\n",
    "        color = '#%02X%02X%02X' % (r(),r(),r())\n",
    "        ax1.fill_betweenx(np.arange(y_lower, y_upper),\n",
    "                          0, ith_cluster_silhouette_values,\n",
    "                          facecolor=color, edgecolor=color, alpha=0.7)\n",
    "\n",
    "        # Label the silhouette plots with their cluster numbers at the middle\n",
    "        ax1.text(-0.05, y_lower + 0.5 * size_cluster_i, str(i))\n",
    "\n",
    "        # Compute the new y_lower for next plot\n",
    "        y_lower = y_upper + 10  # 10 for the 0 samples\n",
    "\n",
    "    ax1.set_title(\"The silhouette plot for the various clusters.\")\n",
    "    ax1.set_xlabel(\"The silhouette coefficient values\")\n",
    "    ax1.set_ylabel(\"Cluster label\")\n",
    "\n",
    "    # The vertical line for average silhouette score of all the values\n",
    "    ax1.axvline(x=silhouette_avg, color=\"red\", linestyle=\"--\")\n",
    "\n",
    "    ax1.set_yticks([])  # Clear the yaxis labels / ticks\n",
    "    ax1.set_xticks([-0.1, 0, 0.2, 0.4, 0.6, 0.8, 1])\n",
    "\n",
    "    plt.suptitle((\"Silhouette analysis for KMeans clustering on sample data \"\n",
    "                  \"with n_clusters = %d\" % n_clusters),\n",
    "                 fontsize=14, fontweight='bold')\n",
    "\n",
    "    plt.show()"
   ]
  },
  {
   "cell_type": "markdown",
   "metadata": {},
   "source": [
    "## final fit\n",
    "\n",
    "After you have decided which features to include and the number of clusters you want, fit your final KMeans model. I have **arbitrarily** chosen 5. "
   ]
  },
  {
   "cell_type": "code",
   "execution_count": 19,
   "metadata": {
    "collapsed": true
   },
   "outputs": [],
   "source": [
    "# set the number of clusters in the final model\n",
    "my_n_clusters = 8"
   ]
  },
  {
   "cell_type": "code",
   "execution_count": 20,
   "metadata": {},
   "outputs": [
    {
     "name": "stdout",
     "output_type": "stream",
     "text": [
      "[4 2 6 0 5 1 7 1 4 1 4 1 3 1 6 5 7 5 5 5 0 5 0 6 5 5 2 5 5 7 5 4 5 2 5 5 0\n",
      " 0 0 1 3 4 2 0 2 2 5 2 5 0 4 4 4 4 4 0 2 4 5 4 7 4 3 3 1 5 7 1 0 1 1 7 2 1\n",
      " 7 4 7 3 4 7 5 3 5 2 3 0 1 7 7 7 2 1 2 3 4 7 6 4 2 6 6 1 1 5 2 3 2 5 4 0 2\n",
      " 4 5 6 5 0 3 5 0 5 3 5 4 3 4 0 4 7 5 5 5 7 3 7 4 4 5 2 4 3 3 5 3 4 2 4 5 0\n",
      " 2 0 3 5 0 0 3 4 7 4 5 1 0 4 5 7 1 1 4 6 4 4 3 0 6 5 5 4 4 7 0 0 0 5 6 0 5\n",
      " 5 3 3 4 6 1 0 3 5 4 3 6 5 5 0 4 5 6 4 6 5 3 5 3 5 5 6 4 3 0 5 2 1 6 4 3 5\n",
      " 3 1 3 4 4 4 4 5 3 4 6 3 4 0 5 5 6 1 7 6 1 5 3 2 5 1 5 3 5 3 5 3 5 3 3 5 5\n",
      " 4 1 2 3 3 5 2 0 3 3 5 5 5 0 5 5 0 5 3 1 4 3 5 6 3 5 2 0 4 4 5 4 4 6 4 4 4\n",
      " 7 7 5 6 0 6 4 2 4 1 1 1 4 3 1 4 1 3 7 1 2 6 2 4 4 1 2 3 5 5 3 5 5 5 7 0 3\n",
      " 2 0 5 0 3 3 6 3 6 5 0 0 0 1 5 0 5 4 4 0 0 0 4 7 1 6 3 3 7 6 5 3 3 5 6 4 4\n",
      " 5 0 5 2 3 4 4 1 4 6 4 3 5 1 4 5 6 5 3 4 7 4 4 0 3 3 4 5 1 5 1 7 1 3]\n"
     ]
    }
   ],
   "source": [
    "km = KMeans(n_clusters=my_n_clusters)\n",
    "km.fit(X)\n",
    "results = km.fit_predict(X)\n",
    "print(results)"
   ]
  },
  {
   "cell_type": "markdown",
   "metadata": {},
   "source": [
    "## look at results\n",
    "\n",
    "The key to knowing if you have chosen the right features and clusters: looking at the images in each cluster and deciding whether they seem to belong together. You could extend this starter code to display the images in this notebook, or you may decide to use Python to write an html file/files to view the images by cluster."
   ]
  },
  {
   "cell_type": "code",
   "execution_count": 21,
   "metadata": {},
   "outputs": [
    {
     "data": {
      "text/html": [
       "<div>\n",
       "<style>\n",
       "    .dataframe thead tr:only-child th {\n",
       "        text-align: right;\n",
       "    }\n",
       "\n",
       "    .dataframe thead th {\n",
       "        text-align: left;\n",
       "    }\n",
       "\n",
       "    .dataframe tbody tr th {\n",
       "        vertical-align: top;\n",
       "    }\n",
       "</style>\n",
       "<table border=\"1\" class=\"dataframe\">\n",
       "  <thead>\n",
       "    <tr style=\"text-align: right;\">\n",
       "      <th></th>\n",
       "      <th>s_no</th>\n",
       "      <th>artist</th>\n",
       "      <th>title</th>\n",
       "      <th>art_movement</th>\n",
       "      <th>museum_venue</th>\n",
       "      <th>country_of_origin</th>\n",
       "      <th>has_text</th>\n",
       "      <th>primary_medium</th>\n",
       "      <th>medium</th>\n",
       "      <th>work_size</th>\n",
       "      <th>...</th>\n",
       "      <th>or</th>\n",
       "      <th>sh</th>\n",
       "      <th>reflection</th>\n",
       "      <th>po</th>\n",
       "      <th>li</th>\n",
       "      <th>ar</th>\n",
       "      <th>notes</th>\n",
       "      <th>labels</th>\n",
       "      <th>size</th>\n",
       "      <th>path</th>\n",
       "    </tr>\n",
       "  </thead>\n",
       "  <tbody>\n",
       "    <tr>\n",
       "      <th>0</th>\n",
       "      <td>2</td>\n",
       "      <td>Giorgio de Chirico</td>\n",
       "      <td>The Uncertainty of the Poet</td>\n",
       "      <td>surrealism</td>\n",
       "      <td>Tate</td>\n",
       "      <td>Italy</td>\n",
       "      <td>False</td>\n",
       "      <td>painting</td>\n",
       "      <td>painting, oil on canvas</td>\n",
       "      <td>106 x 94 cm</td>\n",
       "      <td>...</td>\n",
       "      <td>4</td>\n",
       "      <td>3</td>\n",
       "      <td>False</td>\n",
       "      <td>0</td>\n",
       "      <td>0</td>\n",
       "      <td>5</td>\n",
       "      <td>distorted perspective, shadow, signification o...</td>\n",
       "      <td>4</td>\n",
       "      <td>40000</td>\n",
       "      <td>https://raw.githubusercontent.com/3milychu/per...</td>\n",
       "    </tr>\n",
       "    <tr>\n",
       "      <th>1</th>\n",
       "      <td>3</td>\n",
       "      <td>Giovanni Anselmo</td>\n",
       "      <td>Direction</td>\n",
       "      <td>arte povera</td>\n",
       "      <td>Tate</td>\n",
       "      <td>Italy</td>\n",
       "      <td>False</td>\n",
       "      <td>sculpture</td>\n",
       "      <td>sculpture, fabric, glass &amp; metal</td>\n",
       "      <td>24 x 420 x 335 cm</td>\n",
       "      <td>...</td>\n",
       "      <td>3</td>\n",
       "      <td>2</td>\n",
       "      <td>False</td>\n",
       "      <td>0</td>\n",
       "      <td>0</td>\n",
       "      <td>5</td>\n",
       "      <td>hard to understand the viewpoint, sense of for...</td>\n",
       "      <td>2</td>\n",
       "      <td>40000</td>\n",
       "      <td>https://raw.githubusercontent.com/3milychu/per...</td>\n",
       "    </tr>\n",
       "    <tr>\n",
       "      <th>2</th>\n",
       "      <td>4</td>\n",
       "      <td>Milton Avery</td>\n",
       "      <td>Yellow Sky</td>\n",
       "      <td>modernism</td>\n",
       "      <td>Tate</td>\n",
       "      <td>America</td>\n",
       "      <td>False</td>\n",
       "      <td>painting</td>\n",
       "      <td>painting, oil on canvas</td>\n",
       "      <td>156 x 184 cm</td>\n",
       "      <td>...</td>\n",
       "      <td>2</td>\n",
       "      <td>4</td>\n",
       "      <td>False</td>\n",
       "      <td>0</td>\n",
       "      <td>0</td>\n",
       "      <td>5</td>\n",
       "      <td>flatish, textured shapes &amp; specific colors-lin...</td>\n",
       "      <td>6</td>\n",
       "      <td>40000</td>\n",
       "      <td>https://raw.githubusercontent.com/3milychu/per...</td>\n",
       "    </tr>\n",
       "    <tr>\n",
       "      <th>3</th>\n",
       "      <td>5</td>\n",
       "      <td>Gillian Avery</td>\n",
       "      <td>Distillation</td>\n",
       "      <td>abstraction</td>\n",
       "      <td>Tate</td>\n",
       "      <td>UK</td>\n",
       "      <td>False</td>\n",
       "      <td>painting</td>\n",
       "      <td>painting, oil, household paint on hardboard</td>\n",
       "      <td>213 x 152 cm</td>\n",
       "      <td>...</td>\n",
       "      <td>2</td>\n",
       "      <td>4</td>\n",
       "      <td>False</td>\n",
       "      <td>0</td>\n",
       "      <td>0</td>\n",
       "      <td>5</td>\n",
       "      <td>shapes, layers, paint handlng/texture, orienta...</td>\n",
       "      <td>0</td>\n",
       "      <td>40000</td>\n",
       "      <td>https://raw.githubusercontent.com/3milychu/per...</td>\n",
       "    </tr>\n",
       "    <tr>\n",
       "      <th>4</th>\n",
       "      <td>6</td>\n",
       "      <td>Joseph (Jef) Banc</td>\n",
       "      <td>Pair-Bearing Matrix</td>\n",
       "      <td>abstraction</td>\n",
       "      <td>Tate</td>\n",
       "      <td>France</td>\n",
       "      <td>False</td>\n",
       "      <td>painting</td>\n",
       "      <td>painting, mixed media on canvas</td>\n",
       "      <td>73 x 60 cm</td>\n",
       "      <td>...</td>\n",
       "      <td>0</td>\n",
       "      <td>4</td>\n",
       "      <td>False</td>\n",
       "      <td>0</td>\n",
       "      <td>0</td>\n",
       "      <td>5</td>\n",
       "      <td>ambiguity through abstraction, odd shape, v te...</td>\n",
       "      <td>5</td>\n",
       "      <td>40000</td>\n",
       "      <td>https://raw.githubusercontent.com/3milychu/per...</td>\n",
       "    </tr>\n",
       "  </tbody>\n",
       "</table>\n",
       "<p>5 rows × 33 columns</p>\n",
       "</div>"
      ],
      "text/plain": [
       "  s_no              artist                         title art_movement  \\\n",
       "0    2  Giorgio de Chirico  The Uncertainty of the Poet    surrealism   \n",
       "1    3    Giovanni Anselmo                     Direction  arte povera   \n",
       "2    4        Milton Avery                   Yellow Sky     modernism   \n",
       "3    5       Gillian Avery                  Distillation  abstraction   \n",
       "4    6   Joseph (Jef) Banc          Pair-Bearing Matrix   abstraction   \n",
       "\n",
       "  museum_venue country_of_origin  has_text primary_medium  \\\n",
       "0         Tate             Italy     False       painting   \n",
       "1         Tate             Italy     False      sculpture   \n",
       "2         Tate           America     False       painting   \n",
       "3         Tate                UK     False       painting   \n",
       "4         Tate            France     False       painting   \n",
       "\n",
       "                                        medium          work_size  \\\n",
       "0                      painting, oil on canvas        106 x 94 cm   \n",
       "1             sculpture, fabric, glass & metal  24 x 420 x 335 cm   \n",
       "2                      painting, oil on canvas       156 x 184 cm   \n",
       "3  painting, oil, household paint on hardboard       213 x 152 cm   \n",
       "4              painting, mixed media on canvas         73 x 60 cm   \n",
       "\n",
       "                         ...                         or  sh  reflection  po  \\\n",
       "0                        ...                          4   3       False   0   \n",
       "1                        ...                          3   2       False   0   \n",
       "2                        ...                          2   4       False   0   \n",
       "3                        ...                          2   4       False   0   \n",
       "4                        ...                          0   4       False   0   \n",
       "\n",
       "   li  ar                                              notes  labels   size  \\\n",
       "0   0   5  distorted perspective, shadow, signification o...       4  40000   \n",
       "1   0   5  hard to understand the viewpoint, sense of for...       2  40000   \n",
       "2   0   5  flatish, textured shapes & specific colors-lin...       6  40000   \n",
       "3   0   5  shapes, layers, paint handlng/texture, orienta...       0  40000   \n",
       "4   0   5  ambiguity through abstraction, odd shape, v te...       5  40000   \n",
       "\n",
       "                                                path  \n",
       "0  https://raw.githubusercontent.com/3milychu/per...  \n",
       "1  https://raw.githubusercontent.com/3milychu/per...  \n",
       "2  https://raw.githubusercontent.com/3milychu/per...  \n",
       "3  https://raw.githubusercontent.com/3milychu/per...  \n",
       "4  https://raw.githubusercontent.com/3milychu/per...  \n",
       "\n",
       "[5 rows x 33 columns]"
      ]
     },
     "execution_count": 21,
     "metadata": {},
     "output_type": "execute_result"
    }
   ],
   "source": [
    "data['labels'] = results\n",
    "data['s_no'] = data['s_no'].apply(str)\n",
    "data['size'] = 40000\n",
    "data['path'] = \"https://raw.githubusercontent.com/3milychu/personal_ml/master/ML_assignment_3/img_small/\" + data['s_no']+ \"_small.jpg\"\n",
    "data.head()"
   ]
  },
  {
   "cell_type": "code",
   "execution_count": 22,
   "metadata": {},
   "outputs": [
    {
     "data": {
      "text/plain": [
       "['s_no',\n",
       " 'artist',\n",
       " 'title',\n",
       " 'art_movement',\n",
       " 'museum_venue',\n",
       " 'country_of_origin',\n",
       " 'has_text',\n",
       " 'primary_medium',\n",
       " 'medium',\n",
       " 'work_size',\n",
       " 'date',\n",
       " 'representation',\n",
       " 'representation_semi',\n",
       " 'kinetic',\n",
       " 'map',\n",
       " 'map2',\n",
       " 'spatial_dimension',\n",
       " 'spatial_dimension2',\n",
       " 'pl',\n",
       " 'si',\n",
       " 'va',\n",
       " 'te',\n",
       " 'co',\n",
       " 'or',\n",
       " 'sh',\n",
       " 'reflection',\n",
       " 'po',\n",
       " 'li',\n",
       " 'ar',\n",
       " 'notes',\n",
       " 'labels',\n",
       " 'size',\n",
       " 'path']"
      ]
     },
     "execution_count": 22,
     "metadata": {},
     "output_type": "execute_result"
    }
   ],
   "source": [
    "list(data)"
   ]
  },
  {
   "cell_type": "code",
   "execution_count": 23,
   "metadata": {
    "collapsed": true
   },
   "outputs": [],
   "source": [
    "# write to a csv\n",
    "data.to_csv(\"/Volumes/Samsung_t3/machinelearning/personal_ml/ML_assignment_3/submission_03/results3.csv\", index=False)\n",
    "        "
   ]
  },
  {
   "cell_type": "code",
   "execution_count": 24,
   "metadata": {},
   "outputs": [
    {
     "data": {
      "text/plain": [
       "380708"
      ]
     },
     "execution_count": 24,
     "metadata": {},
     "output_type": "execute_result"
    }
   ],
   "source": [
    "import csv\n",
    "import json\n",
    "\n",
    "# create json\n",
    "csvfile = open(\"/Volumes/Samsung_t3/machinelearning/personal_ml/ML_assignment_3/submission_03/results3.csv\", 'r')\n",
    "jsonfile = open('/Volumes/Samsung_t3/machinelearning/personal_ml/ML_assignment_3/submission_03/results3.json', 'w')\n",
    "\n",
    "fieldnames = ('s_no','artist','title','art_movement','museum_venue','country_of_origin','has_text','primary_medium',\n",
    " 'medium','work_size','date','representation','representation_semi','kinetic','map','map2','spatial_dimension',\n",
    " 'spatial_dimension2','pl','si','va','te','co','or','sh','reflection','po','li','ar','notes','labels','size', 'path')\n",
    "reader = csv.DictReader( csvfile, fieldnames)\n",
    "out = json.dumps( [ row for row in reader ] )\n",
    "jsonfile.write(out)"
   ]
  },
  {
   "cell_type": "code",
   "execution_count": 25,
   "metadata": {},
   "outputs": [
    {
     "name": "stdout",
     "output_type": "stream",
     "text": [
      " \n",
      "* * * * * * * * * * * * * * * * * * * * * * * * * * * * * * \n",
      "Images in cluster: 0\n",
      "* * * * * * * * * * * * * * * * * * * * * * * * * * * * * * \n",
      "5_small.jpg\n",
      "22_small.jpg\n",
      "24_small.jpg\n",
      "38_small.jpg\n",
      "39_small.jpg\n",
      "40_small.jpg\n",
      "45_small.jpg\n",
      "51_small.jpg\n",
      "57_small.jpg\n",
      "70_small.jpg\n",
      "87_small.jpg\n",
      "111_small.jpg\n",
      "117_small.jpg\n",
      "120_small.jpg\n",
      "127_small.jpg\n",
      "149_small.jpg\n",
      "151_small.jpg\n",
      "154_small.jpg\n",
      "155_small.jpg\n",
      "162_small.jpg\n",
      "173_small.jpg\n",
      "180_small.jpg\n",
      "181_small.jpg\n",
      "182_small.jpg\n",
      "185_small.jpg\n",
      "193_small.jpg\n",
      "201_small.jpg\n",
      "216_small.jpg\n",
      "237_small.jpg\n",
      "268_small.jpg\n",
      "274_small.jpg\n",
      "277_small.jpg\n",
      "288_small.jpg\n",
      "302_small.jpg\n",
      "333_small.jpg\n",
      "336_small.jpg\n",
      "338_small.jpg\n",
      "345_small.jpg\n",
      "346_small.jpg\n",
      "347_small.jpg\n",
      "350_small.jpg\n",
      "354_small.jpg\n",
      "355_small.jpg\n",
      "356_small.jpg\n",
      "373_small.jpg\n",
      "395_small.jpg\n",
      " \n",
      "* * * * * * * * * * * * * * * * * * * * * * * * * * * * * * \n",
      "Images in cluster: 1\n",
      "* * * * * * * * * * * * * * * * * * * * * * * * * * * * * * \n",
      "7_small.jpg\n",
      "9_small.jpg\n",
      "11_small.jpg\n",
      "13_small.jpg\n",
      "15_small.jpg\n",
      "41_small.jpg\n",
      "66_small.jpg\n",
      "69_small.jpg\n",
      "71_small.jpg\n",
      "72_small.jpg\n",
      "75_small.jpg\n",
      "88_small.jpg\n",
      "93_small.jpg\n",
      "103_small.jpg\n",
      "104_small.jpg\n",
      "161_small.jpg\n",
      "166_small.jpg\n",
      "167_small.jpg\n",
      "192_small.jpg\n",
      "219_small.jpg\n",
      "225_small.jpg\n",
      "241_small.jpg\n",
      "244_small.jpg\n",
      "249_small.jpg\n",
      "262_small.jpg\n",
      "280_small.jpg\n",
      "307_small.jpg\n",
      "308_small.jpg\n",
      "309_small.jpg\n",
      "312_small.jpg\n",
      "314_small.jpg\n",
      "317_small.jpg\n",
      "323_small.jpg\n",
      "348_small.jpg\n",
      "359_small.jpg\n",
      "379_small.jpg\n",
      "385_small.jpg\n",
      "400_small.jpg\n",
      "402_small.jpg\n",
      "404_small.jpg\n",
      " \n",
      "* * * * * * * * * * * * * * * * * * * * * * * * * * * * * * \n",
      "Images in cluster: 2\n",
      "* * * * * * * * * * * * * * * * * * * * * * * * * * * * * * \n",
      "3_small.jpg\n",
      "28_small.jpg\n",
      "35_small.jpg\n",
      "44_small.jpg\n",
      "46_small.jpg\n",
      "47_small.jpg\n",
      "49_small.jpg\n",
      "58_small.jpg\n",
      "74_small.jpg\n",
      "85_small.jpg\n",
      "92_small.jpg\n",
      "94_small.jpg\n",
      "100_small.jpg\n",
      "106_small.jpg\n",
      "108_small.jpg\n",
      "112_small.jpg\n",
      "139_small.jpg\n",
      "146_small.jpg\n",
      "150_small.jpg\n",
      "218_small.jpg\n",
      "247_small.jpg\n",
      "263_small.jpg\n",
      "267_small.jpg\n",
      "287_small.jpg\n",
      "305_small.jpg\n",
      "318_small.jpg\n",
      "320_small.jpg\n",
      "324_small.jpg\n",
      "335_small.jpg\n",
      "375_small.jpg\n",
      " \n",
      "* * * * * * * * * * * * * * * * * * * * * * * * * * * * * * \n",
      "Images in cluster: 3\n",
      "* * * * * * * * * * * * * * * * * * * * * * * * * * * * * * \n",
      "14_small.jpg\n",
      "42_small.jpg\n",
      "64_small.jpg\n",
      "65_small.jpg\n",
      "79_small.jpg\n",
      "83_small.jpg\n",
      "86_small.jpg\n",
      "95_small.jpg\n",
      "107_small.jpg\n",
      "118_small.jpg\n",
      "122_small.jpg\n",
      "125_small.jpg\n",
      "134_small.jpg\n",
      "141_small.jpg\n",
      "142_small.jpg\n",
      "144_small.jpg\n",
      "152_small.jpg\n",
      "156_small.jpg\n",
      "172_small.jpg\n",
      "188_small.jpg\n",
      "189_small.jpg\n",
      "194_small.jpg\n",
      "197_small.jpg\n",
      "208_small.jpg\n",
      "210_small.jpg\n",
      "215_small.jpg\n",
      "222_small.jpg\n",
      "224_small.jpg\n",
      "226_small.jpg\n",
      "232_small.jpg\n",
      "235_small.jpg\n",
      "246_small.jpg\n",
      "251_small.jpg\n",
      "253_small.jpg\n",
      "255_small.jpg\n",
      "257_small.jpg\n",
      "258_small.jpg\n",
      "264_small.jpg\n",
      "265_small.jpg\n",
      "269_small.jpg\n",
      "270_small.jpg\n",
      "279_small.jpg\n",
      "282_small.jpg\n",
      "285_small.jpg\n",
      "311_small.jpg\n",
      "315_small.jpg\n",
      "325_small.jpg\n",
      "328_small.jpg\n",
      "334_small.jpg\n",
      "339_small.jpg\n",
      "340_small.jpg\n",
      "342_small.jpg\n",
      "361_small.jpg\n",
      "362_small.jpg\n",
      "366_small.jpg\n",
      "367_small.jpg\n",
      "376_small.jpg\n",
      "383_small.jpg\n",
      "390_small.jpg\n",
      "396_small.jpg\n",
      "397_small.jpg\n",
      "405_small.jpg\n",
      " \n",
      "* * * * * * * * * * * * * * * * * * * * * * * * * * * * * * \n",
      "Images in cluster: 4\n",
      "* * * * * * * * * * * * * * * * * * * * * * * * * * * * * * \n",
      "2_small.jpg\n",
      "10_small.jpg\n",
      "12_small.jpg\n",
      "33_small.jpg\n",
      "43_small.jpg\n",
      "52_small.jpg\n",
      "53_small.jpg\n",
      "54_small.jpg\n",
      "55_small.jpg\n",
      "56_small.jpg\n",
      "59_small.jpg\n",
      "61_small.jpg\n",
      "63_small.jpg\n",
      "77_small.jpg\n",
      "80_small.jpg\n",
      "96_small.jpg\n",
      "99_small.jpg\n",
      "110_small.jpg\n",
      "113_small.jpg\n",
      "124_small.jpg\n",
      "126_small.jpg\n",
      "128_small.jpg\n",
      "136_small.jpg\n",
      "137_small.jpg\n",
      "140_small.jpg\n",
      "145_small.jpg\n",
      "147_small.jpg\n",
      "157_small.jpg\n",
      "159_small.jpg\n",
      "163_small.jpg\n",
      "168_small.jpg\n",
      "170_small.jpg\n",
      "171_small.jpg\n",
      "177_small.jpg\n",
      "178_small.jpg\n",
      "190_small.jpg\n",
      "196_small.jpg\n",
      "202_small.jpg\n",
      "205_small.jpg\n",
      "214_small.jpg\n",
      "221_small.jpg\n",
      "227_small.jpg\n",
      "228_small.jpg\n",
      "229_small.jpg\n",
      "230_small.jpg\n",
      "233_small.jpg\n",
      "236_small.jpg\n",
      "261_small.jpg\n",
      "281_small.jpg\n",
      "289_small.jpg\n",
      "290_small.jpg\n",
      "292_small.jpg\n",
      "293_small.jpg\n",
      "295_small.jpg\n",
      "296_small.jpg\n",
      "297_small.jpg\n",
      "304_small.jpg\n",
      "306_small.jpg\n",
      "310_small.jpg\n",
      "313_small.jpg\n",
      "321_small.jpg\n",
      "322_small.jpg\n",
      "352_small.jpg\n",
      "353_small.jpg\n",
      "357_small.jpg\n",
      "370_small.jpg\n",
      "371_small.jpg\n",
      "377_small.jpg\n",
      "378_small.jpg\n",
      "380_small.jpg\n",
      "382_small.jpg\n",
      "386_small.jpg\n",
      "391_small.jpg\n",
      "393_small.jpg\n",
      "394_small.jpg\n",
      "398_small.jpg\n",
      " \n",
      "* * * * * * * * * * * * * * * * * * * * * * * * * * * * * * \n",
      "Images in cluster: 5\n",
      "* * * * * * * * * * * * * * * * * * * * * * * * * * * * * * \n",
      "6_small.jpg\n",
      "17_small.jpg\n",
      "19_small.jpg\n",
      "20_small.jpg\n",
      "21_small.jpg\n",
      "23_small.jpg\n",
      "26_small.jpg\n",
      "27_small.jpg\n",
      "29_small.jpg\n",
      "30_small.jpg\n",
      "32_small.jpg\n",
      "34_small.jpg\n",
      "36_small.jpg\n",
      "37_small.jpg\n",
      "48_small.jpg\n",
      "50_small.jpg\n",
      "60_small.jpg\n",
      "67_small.jpg\n",
      "82_small.jpg\n",
      "84_small.jpg\n",
      "105_small.jpg\n",
      "109_small.jpg\n",
      "114_small.jpg\n",
      "116_small.jpg\n",
      "119_small.jpg\n",
      "121_small.jpg\n",
      "123_small.jpg\n",
      "130_small.jpg\n",
      "131_small.jpg\n",
      "132_small.jpg\n",
      "138_small.jpg\n",
      "143_small.jpg\n",
      "148_small.jpg\n",
      "153_small.jpg\n",
      "160_small.jpg\n",
      "164_small.jpg\n",
      "175_small.jpg\n",
      "176_small.jpg\n",
      "183_small.jpg\n",
      "186_small.jpg\n",
      "187_small.jpg\n",
      "195_small.jpg\n",
      "199_small.jpg\n",
      "200_small.jpg\n",
      "203_small.jpg\n",
      "207_small.jpg\n",
      "209_small.jpg\n",
      "211_small.jpg\n",
      "212_small.jpg\n",
      "217_small.jpg\n",
      "223_small.jpg\n",
      "231_small.jpg\n",
      "238_small.jpg\n",
      "239_small.jpg\n",
      "245_small.jpg\n",
      "248_small.jpg\n",
      "250_small.jpg\n",
      "252_small.jpg\n",
      "254_small.jpg\n",
      "256_small.jpg\n",
      "259_small.jpg\n",
      "260_small.jpg\n",
      "266_small.jpg\n",
      "271_small.jpg\n",
      "272_small.jpg\n",
      "273_small.jpg\n",
      "275_small.jpg\n",
      "276_small.jpg\n",
      "278_small.jpg\n",
      "283_small.jpg\n",
      "286_small.jpg\n",
      "291_small.jpg\n",
      "300_small.jpg\n",
      "326_small.jpg\n",
      "327_small.jpg\n",
      "329_small.jpg\n",
      "330_small.jpg\n",
      "331_small.jpg\n",
      "337_small.jpg\n",
      "344_small.jpg\n",
      "349_small.jpg\n",
      "351_small.jpg\n",
      "365_small.jpg\n",
      "368_small.jpg\n",
      "372_small.jpg\n",
      "374_small.jpg\n",
      "384_small.jpg\n",
      "387_small.jpg\n",
      "389_small.jpg\n",
      "399_small.jpg\n",
      "401_small.jpg\n",
      " \n",
      "* * * * * * * * * * * * * * * * * * * * * * * * * * * * * * \n",
      "Images in cluster: 6\n",
      "* * * * * * * * * * * * * * * * * * * * * * * * * * * * * * \n",
      "4_small.jpg\n",
      "16_small.jpg\n",
      "25_small.jpg\n",
      "98_small.jpg\n",
      "101_small.jpg\n",
      "102_small.jpg\n",
      "115_small.jpg\n",
      "169_small.jpg\n",
      "174_small.jpg\n",
      "184_small.jpg\n",
      "191_small.jpg\n",
      "198_small.jpg\n",
      "204_small.jpg\n",
      "206_small.jpg\n",
      "213_small.jpg\n",
      "220_small.jpg\n",
      "234_small.jpg\n",
      "240_small.jpg\n",
      "243_small.jpg\n",
      "284_small.jpg\n",
      "294_small.jpg\n",
      "301_small.jpg\n",
      "303_small.jpg\n",
      "319_small.jpg\n",
      "341_small.jpg\n",
      "343_small.jpg\n",
      "360_small.jpg\n",
      "364_small.jpg\n",
      "369_small.jpg\n",
      "381_small.jpg\n",
      "388_small.jpg\n",
      " \n",
      "* * * * * * * * * * * * * * * * * * * * * * * * * * * * * * \n",
      "Images in cluster: 7\n",
      "* * * * * * * * * * * * * * * * * * * * * * * * * * * * * * \n",
      "8_small.jpg\n",
      "18_small.jpg\n",
      "31_small.jpg\n",
      "62_small.jpg\n",
      "68_small.jpg\n",
      "73_small.jpg\n",
      "76_small.jpg\n",
      "78_small.jpg\n",
      "81_small.jpg\n",
      "89_small.jpg\n",
      "90_small.jpg\n",
      "91_small.jpg\n",
      "97_small.jpg\n",
      "129_small.jpg\n",
      "133_small.jpg\n",
      "135_small.jpg\n",
      "158_small.jpg\n",
      "165_small.jpg\n",
      "179_small.jpg\n",
      "242_small.jpg\n",
      "298_small.jpg\n",
      "299_small.jpg\n",
      "316_small.jpg\n",
      "332_small.jpg\n",
      "358_small.jpg\n",
      "363_small.jpg\n",
      "392_small.jpg\n",
      "403_small.jpg\n"
     ]
    }
   ],
   "source": [
    "for i in range(0, max(km.labels_)+1):\n",
    "    print(\" \")\n",
    "    print(\"* * * * * * * * * * * * * * * * * * * * * * * * * * * * * * \")\n",
    "    print(\"Images in cluster: \" + str(i))\n",
    "    print(\"* * * * * * * * * * * * * * * * * * * * * * * * * * * * * * \")\n",
    "    for j in range(0, len(km.labels_)):\n",
    "        if km.labels_[j] == i:\n",
    "            print(str(j+2) + '_small.jpg')"
   ]
  },
  {
   "cell_type": "code",
   "execution_count": null,
   "metadata": {
    "collapsed": true
   },
   "outputs": [],
   "source": []
  }
 ],
 "metadata": {
  "kernelspec": {
   "display_name": "Python 3",
   "language": "python",
   "name": "python3"
  },
  "language_info": {
   "codemirror_mode": {
    "name": "ipython",
    "version": 3
   },
   "file_extension": ".py",
   "mimetype": "text/x-python",
   "name": "python",
   "nbconvert_exporter": "python",
   "pygments_lexer": "ipython3",
   "version": "3.6.3"
  }
 },
 "nbformat": 4,
 "nbformat_minor": 2
}
