{
 "cells": [
  {
   "cell_type": "markdown",
   "metadata": {},
   "source": [
    "# Toxic comments\n",
    "\n",
    "This notebook takes you though a complete iteration of Machine Learning Assignment 1 - Toxic comments. The assignment details (including links to download the data) can be found [here](https://docs.google.com/document/d/1WGYw99e5q6j5V0Zrf2HveagU6URt_kVvdR8B9HYQ99E/edit?usp=sharing). "
   ]
  },
  {
   "cell_type": "code",
   "execution_count": 1,
   "metadata": {},
   "outputs": [],
   "source": [
    "# all imports and magic commands\n",
    "import numpy as np\n",
    "import pandas as pd\n",
    "import matplotlib.pyplot as plt\n",
    "from my_measures import BinaryClassificationPerformance\n",
    "from sklearn.feature_extraction.text import HashingVectorizer\n",
    "from sklearn.feature_extraction.text import TfidfTransformer\n",
    "from sklearn.feature_extraction.text import CountVectorizer\n",
    "from scipy.sparse import csr_matrix, hstack\n",
    "from sklearn.preprocessing import StandardScaler,MinMaxScaler\n",
    "from sklearn.model_selection import train_test_split\n",
    "%matplotlib inline"
   ]
  },
  {
   "cell_type": "markdown",
   "metadata": {},
   "source": [
    "### IMPORTANT!!! Make sure you are using `BinaryClassificationPerformance` v1.02"
   ]
  },
  {
   "cell_type": "code",
   "execution_count": 2,
   "metadata": {},
   "outputs": [
    {
     "name": "stdout",
     "output_type": "stream",
     "text": [
      "Help on class BinaryClassificationPerformance in module my_measures:\n",
      "\n",
      "class BinaryClassificationPerformance(builtins.object)\n",
      " |  BinaryClassificationPerformance(predictions, labels, desc, probabilities=None)\n",
      " |  \n",
      " |  Performance measures to evaluate the fit of a binary classification model, v1.02\n",
      " |  \n",
      " |  Methods defined here:\n",
      " |  \n",
      " |  __init__(self, predictions, labels, desc, probabilities=None)\n",
      " |      Initialize attributes: predictions-vector of predicted values for Y, labels-vector of labels for Y\n",
      " |  \n",
      " |  compute_measures(self)\n",
      " |      Compute performance measures defined by Flach p. 57\n",
      " |  \n",
      " |  img_indices(self)\n",
      " |      Get the indices of true and false positives to be able to locate the corresponding images in a list of image names\n",
      " |  \n",
      " |  ----------------------------------------------------------------------\n",
      " |  Data descriptors defined here:\n",
      " |  \n",
      " |  __dict__\n",
      " |      dictionary for instance variables (if defined)\n",
      " |  \n",
      " |  __weakref__\n",
      " |      list of weak references to the object (if defined)\n",
      "\n"
     ]
    }
   ],
   "source": [
    "help(BinaryClassificationPerformance)"
   ]
  },
  {
   "cell_type": "markdown",
   "metadata": {},
   "source": [
    "# Function for feature building and extraction on natural language data"
   ]
  },
  {
   "cell_type": "code",
   "execution_count": 39,
   "metadata": {},
   "outputs": [],
   "source": [
    "# function that takes raw data and completes all preprocessing required before model fits\n",
    "def process_raw_data(fn, my_random_seed, test=False):\n",
    "    # read and summarize data\n",
    "    toxic_data = pd.read_csv(fn)\n",
    "    if (not test):\n",
    "        # add an indicator for any toxic, severe toxic, obscene, threat, insult, or indentity hate\n",
    "        toxic_data['any_toxic'] = (toxic_data['toxic'] + toxic_data['severe_toxic'] + toxic_data['obscene'] + toxic_data['threat'] + toxic_data['insult'] + toxic_data['identity_hate'] > 0)\n",
    "    print(\"toxic_data is:\", type(toxic_data))\n",
    "    print(\"toxic_data has\", toxic_data.shape[0], \"rows and\", toxic_data.shape[1], \"columns\", \"\\n\")\n",
    "    print(\"the data types for each of the columns in toxic_data:\")\n",
    "    print(toxic_data.dtypes, \"\\n\")\n",
    "    print(\"the first 10 rows in toxic_data:\")\n",
    "    print(toxic_data.head(5))\n",
    "    if (not test):\n",
    "        print(\"The rate of 'toxic' Wikipedia comments in the dataset: \")\n",
    "        print(toxic_data['any_toxic'].mean())\n",
    "\n",
    "    # vectorize Bag of Words from review text; as sparse matrix\n",
    "    if (not test): # fit_transform()\n",
    "        #hv = CountVectorizer() #189777\n",
    "        #hv = HashingVectorizer(n_features=2 ** 17, alternate_sign=False) #131074\n",
    "        hv = HashingVectorizer(n_features=2 ** 10, alternate_sign=False, ngram_range = (1,2))\n",
    "        #hv = HashingVectorizer(n_features=2 ** 9, alternate_sign=False) # 514\n",
    "        X_hv = hv.fit_transform(toxic_data.comment_text)\n",
    "        fitted_transformations.append(hv)\n",
    "        print(\"Shape of CountVectorizer X:\")\n",
    "        print(X_hv.shape)\n",
    "    else: # transform() \n",
    "        X_hv = fitted_transformations[0].transform(toxic_data.comment_text)\n",
    "        print(\"Shape of CountVectorizer X:\")\n",
    "        print(X_hv.shape)\n",
    "    \n",
    "    # http://scikit-learn.org/stable/modules/generated/sklearn.feature_extraction.text.TfidfTransformer.html\n",
    "    if (not test):\n",
    "        transformer = TfidfTransformer()\n",
    "        X_tfidf = transformer.fit_transform(X_hv)\n",
    "        fitted_transformations.append(transformer)\n",
    "    else:\n",
    "        X_tfidf = fitted_transformations[1].transform(X_hv)\n",
    "    \n",
    "    # create additional quantitative features\n",
    "    # features from Amazon.csv to add to feature set\n",
    "    toxic_data['word_count'] = toxic_data['comment_text'].str.split(' ').str.len()\n",
    "    toxic_data['punc_count'] = toxic_data['comment_text'].str.count(\"\\.\")\n",
    "\n",
    "    X_quant_features = toxic_data[[\"word_count\", \"punc_count\"]]\n",
    "    print(\"Look at a few rows of the new quantitative features: \")\n",
    "    print(X_quant_features.head(10))\n",
    "    \n",
    "    # Combine all quantitative features into a single sparse matrix\n",
    "    X_quant_features_csr = csr_matrix(X_quant_features)\n",
    "    X_combined = hstack([X_tfidf, X_quant_features_csr])\n",
    "    X_matrix = csr_matrix(X_combined) # convert to sparse matrix\n",
    "    print(\"Size of combined bag of words and new quantitative variables matrix:\")\n",
    "    print(X_matrix.shape)\n",
    "    \n",
    "    # Create `X`, scaled matrix of features\n",
    "    # feature scaling\n",
    "    if (not test):\n",
    "        sc = StandardScaler(with_mean=False)\n",
    "        #sc = MinMaxScaler()\n",
    "        X = sc.fit_transform(X_matrix)\n",
    "        fitted_transformations.append(sc)\n",
    "        print(X.shape)\n",
    "        y = toxic_data['any_toxic']\n",
    "    else:\n",
    "        X = fitted_transformations[2].transform(X_matrix)\n",
    "        print(X.shape)\n",
    "    \n",
    "    # Create Training and Test Sets\n",
    "    # enter an integer for the random_state parameter; any integer will work\n",
    "    if (test):\n",
    "        X_submission_test = X\n",
    "        print(\"Shape of X_test for submission:\")\n",
    "        print(X_submission_test.shape)\n",
    "        print('SUCCESS!')\n",
    "        return(toxic_data, X_submission_test)\n",
    "    else: \n",
    "        X_train, X_test, y_train, y_test, X_raw_train, X_raw_test = train_test_split(X, y, toxic_data, test_size=0.2, random_state=my_random_seed)\n",
    "        print(\"Shape of X_train and X_test:\")\n",
    "        print(X_train.shape)\n",
    "        print(X_test.shape)\n",
    "        print(\"Shape of y_train and y_test:\")\n",
    "        print(y_train.shape)\n",
    "        print(y_test.shape)\n",
    "        print(\"Shape of X_raw_train and X_raw_test:\")\n",
    "        print(X_raw_train.shape)\n",
    "        print(X_raw_test.shape)\n",
    "        print('SUCCESS!')\n",
    "        return(X_train, X_test, y_train, y_test, X_raw_train, X_raw_test)"
   ]
  },
  {
   "cell_type": "markdown",
   "metadata": {},
   "source": [
    "# Create training and test sets from function"
   ]
  },
  {
   "cell_type": "code",
   "execution_count": null,
   "metadata": {},
   "outputs": [],
   "source": [
    "# create an empty list to store any use of fit_transform() to transform() later\n",
    "# it is a global list to store model and feature extraction fits\n",
    "fitted_transformations = []\n",
    "\n",
    "# CHANGE FILE PATH and my_random_seed number (any integer other than 74 will do): \n",
    "X_train, X_test, y_train, y_test, X_raw_train, X_raw_test = process_raw_data(fn='./mats/toxiccomments_train.csv', my_random_seed=15)\n",
    "\n",
    "print(\"Number of fits stored in `fitted_transformations` list: \")\n",
    "print(len(fitted_transformations))"
   ]
  },
  {
   "cell_type": "markdown",
   "metadata": {},
   "source": [
    "# SVC with Different  Regularizations"
   ]
  },
  {
   "cell_type": "code",
   "execution_count": 43,
   "metadata": {
    "scrolled": true
   },
   "outputs": [
    {
     "name": "stderr",
     "output_type": "stream",
     "text": [
      "/Users/chooseimage/opt/anaconda3/lib/python3.9/site-packages/sklearn/svm/_base.py:255: ConvergenceWarning: Solver terminated early (max_iter=1000).  Consider pre-processing your data with StandardScaler or MinMaxScaler.\n",
      "  warnings.warn('Solver terminated early (max_iter=%i).'\n"
     ]
    },
    {
     "name": "stdout",
     "output_type": "stream",
     "text": [
      "{'Pos': 13000, 'Neg': 114656, 'TP': 12741, 'TN': 13005, 'FP': 101651, 'FN': 259, 'Accuracy': 0.2016826471141192, 'Precision': 0.11138016644520596, 'Recall': 0.9800769230769231, 'desc': 'SVC_4_train'}\n"
     ]
    }
   ],
   "source": [
    "from sklearn.svm import SVC\n",
    "from sklearn.pipeline import make_pipeline\n",
    "from sklearn.preprocessing import StandardScaler, MinMaxScaler\n",
    "\n",
    "SVC_4 = SVC(C = 1e-4, max_iter=1000)\n",
    "SVC_4.fit(X_train, y_train)\n",
    "\n",
    "SVC_4_performance_train_1 = BinaryClassificationPerformance(SVC_4.predict(X_train), y_train, 'SVC_4_train')\n",
    "SVC_4_performance_train_1.compute_measures()\n",
    "print(SVC_4_performance_train_1.performance_measures)"
   ]
  },
  {
   "cell_type": "code",
   "execution_count": 44,
   "metadata": {},
   "outputs": [
    {
     "name": "stderr",
     "output_type": "stream",
     "text": [
      "/Users/chooseimage/opt/anaconda3/lib/python3.9/site-packages/sklearn/svm/_base.py:255: ConvergenceWarning: Solver terminated early (max_iter=1000).  Consider pre-processing your data with StandardScaler or MinMaxScaler.\n",
      "  warnings.warn('Solver terminated early (max_iter=%i).'\n"
     ]
    },
    {
     "name": "stdout",
     "output_type": "stream",
     "text": [
      "{'Pos': 13000, 'Neg': 114656, 'TP': 12855, 'TN': 6609, 'FP': 108047, 'FN': 145, 'Accuracy': 0.15247226922353826, 'Precision': 0.10632578451969364, 'Recall': 0.9888461538461538, 'desc': 'SVC_3_train'}\n"
     ]
    }
   ],
   "source": [
    "SVC_3 = SVC(C = 1e-3, max_iter=1000)\n",
    "SVC_3.fit(X_train, y_train)\n",
    "\n",
    "SVC_3_performance_train = BinaryClassificationPerformance(SVC_3.predict(X_train), y_train, 'SVC_3_train')\n",
    "SVC_3_performance_train.compute_measures()\n",
    "print(SVC_3_performance_train.performance_measures)"
   ]
  },
  {
   "cell_type": "code",
   "execution_count": 45,
   "metadata": {},
   "outputs": [
    {
     "name": "stderr",
     "output_type": "stream",
     "text": [
      "/Users/chooseimage/opt/anaconda3/lib/python3.9/site-packages/sklearn/svm/_base.py:255: ConvergenceWarning: Solver terminated early (max_iter=1000).  Consider pre-processing your data with StandardScaler or MinMaxScaler.\n",
      "  warnings.warn('Solver terminated early (max_iter=%i).'\n"
     ]
    },
    {
     "name": "stdout",
     "output_type": "stream",
     "text": [
      "{'Pos': 13000, 'Neg': 114656, 'TP': 12666, 'TN': 13116, 'FP': 101540, 'FN': 334, 'Accuracy': 0.20196465501034028, 'Precision': 0.11090485613715567, 'Recall': 0.9743076923076923, 'desc': 'SVC_2_train'}\n"
     ]
    }
   ],
   "source": [
    "SVC_2 = SVC(C = 1e-2, max_iter=1000)\n",
    "SVC_2.fit(X_train, y_train)\n",
    "\n",
    "SVC_2_performance_train = BinaryClassificationPerformance(SVC_2.predict(X_train), y_train, 'SVC_2_train')\n",
    "SVC_2_performance_train.compute_measures()\n",
    "print(SVC_2_performance_train.performance_measures)"
   ]
  },
  {
   "cell_type": "code",
   "execution_count": 47,
   "metadata": {},
   "outputs": [
    {
     "name": "stderr",
     "output_type": "stream",
     "text": [
      "/Users/chooseimage/opt/anaconda3/lib/python3.9/site-packages/sklearn/svm/_base.py:255: ConvergenceWarning: Solver terminated early (max_iter=1000).  Consider pre-processing your data with StandardScaler or MinMaxScaler.\n",
      "  warnings.warn('Solver terminated early (max_iter=%i).'\n"
     ]
    },
    {
     "name": "stdout",
     "output_type": "stream",
     "text": [
      "{'Pos': 13000, 'Neg': 114656, 'TP': 9767, 'TN': 72951, 'FP': 41705, 'FN': 3233, 'Accuracy': 0.6479758099893463, 'Precision': 0.1897536524712465, 'Recall': 0.7513076923076923, 'desc': 'SVC_1_train'}\n"
     ]
    }
   ],
   "source": [
    "SVC_1 = SVC(C = 1e-1, max_iter=1000)\n",
    "SVC_1.fit(X_train, y_train)\n",
    "\n",
    "SVC_1_performance_train = BinaryClassificationPerformance(SVC_1.predict(X_train), y_train, 'SVC_1_train')\n",
    "SVC_1_performance_train.compute_measures()\n",
    "print(SVC_1_performance_train.performance_measures)"
   ]
  },
  {
   "cell_type": "code",
   "execution_count": 53,
   "metadata": {
    "scrolled": true
   },
   "outputs": [
    {
     "name": "stderr",
     "output_type": "stream",
     "text": [
      "/Users/chooseimage/opt/anaconda3/lib/python3.9/site-packages/sklearn/svm/_base.py:255: ConvergenceWarning: Solver terminated early (max_iter=1000).  Consider pre-processing your data with StandardScaler or MinMaxScaler.\n",
      "  warnings.warn('Solver terminated early (max_iter=%i).'\n"
     ]
    },
    {
     "name": "stdout",
     "output_type": "stream",
     "text": [
      "{'Pos': 13000, 'Neg': 114656, 'TP': 5740, 'TN': 95300, 'FP': 19356, 'FN': 7260, 'Accuracy': 0.7915021620605377, 'Precision': 0.2287217086388269, 'Recall': 0.44153846153846155, 'desc': 'SVC0_train'}\n"
     ]
    }
   ],
   "source": [
    "from sklearn.svm import SVC\n",
    "SVC0 = SVC(C = 1, max_iter=1000)\n",
    "SVC0.fit(X_train, y_train)\n",
    "\n",
    "SVC0_performance_train = BinaryClassificationPerformance(SVC0.predict(X_train), y_train, 'SVC0_train')\n",
    "SVC0_performance_train.compute_measures()\n",
    "print(SVC0_performance_train.performance_measures)"
   ]
  },
  {
   "cell_type": "code",
   "execution_count": 54,
   "metadata": {},
   "outputs": [
    {
     "name": "stderr",
     "output_type": "stream",
     "text": [
      "/Users/chooseimage/opt/anaconda3/lib/python3.9/site-packages/sklearn/svm/_base.py:255: ConvergenceWarning: Solver terminated early (max_iter=1000).  Consider pre-processing your data with StandardScaler or MinMaxScaler.\n",
      "  warnings.warn('Solver terminated early (max_iter=%i).'\n"
     ]
    },
    {
     "name": "stdout",
     "output_type": "stream",
     "text": [
      "{'Pos': 13000, 'Neg': 114656, 'TP': 6757, 'TN': 87552, 'FP': 27104, 'FN': 6243, 'Accuracy': 0.7387745190198659, 'Precision': 0.19955110599214435, 'Recall': 0.5197692307692308, 'desc': 'SVC1_train'}\n"
     ]
    }
   ],
   "source": [
    "SVC1 = SVC(C = 10, max_iter=1000)\n",
    "SVC1.fit(X_train, y_train)\n",
    "\n",
    "SVC1_performance_train = BinaryClassificationPerformance(SVC1.predict(X_train), y_train, 'SVC1_train')\n",
    "SVC1_performance_train.compute_measures()\n",
    "print(SVC1_performance_train.performance_measures)"
   ]
  },
  {
   "cell_type": "markdown",
   "metadata": {},
   "source": [
    "### ROC plot to compare performance of various models and fits"
   ]
  },
  {
   "cell_type": "code",
   "execution_count": 70,
   "metadata": {
    "scrolled": false
   },
   "outputs": [
    {
     "name": "stderr",
     "output_type": "stream",
     "text": [
      "/var/folders/qn/rnhppd716mvg1dm26kjg8jyc0000gn/T/ipykernel_44847/2279237540.py:8: UserWarning: color is redundantly defined by the 'color' keyword argument and the fmt string \"bo\" (-> color='b'). The keyword argument will take precedence.\n",
      "  plt.plot(fit.performance_measures['FP'] / fit.performance_measures['Neg'],\n"
     ]
    },
    {
     "data": {
      "image/png": "[encoded data removed]",
      "text/plain": [
       "<Figure size 432x288 with 1 Axes>"
      ]
     },
     "metadata": {
      "needs_background": "light"
     },
     "output_type": "display_data"
    }
   ],
   "source": [
    "fits = [SVC_4_performance_train_1, SVC_3_performance_train, SVC_2_performance_train, SVC_1_performance_train, SVC0_performance_train, SVC1_performance_train]\n",
    "colors = ['red','gray','blue','green','orange','purple']\n",
    "\n",
    "for i in range(len(fits)):\n",
    "    fit = fits[i]\n",
    "    color = colors[i]\n",
    "    label = fit.desc\n",
    "    plt.plot(fit.performance_measures['FP'] / fit.performance_measures['Neg'], \n",
    "             fit.performance_measures['TP'] / fit.performance_measures['Pos'], 'bo',color=color, label=label)\n",
    "    plt.legend(loc='upper right')\n",
    "    #plt.text(fit.performance_measures['FP'] / fit.performance_measures['Neg'], \n",
    "    #         fit.performance_measures['TP'] / fit.performance_measures['Pos'], fit.desc)\n",
    "    \n",
    "#plt.plot(x, y, linewidth = '1', label = \"test\", color=' coral ', linestyle=':', marker='|')\n",
    "plt.axis([0, 1.5, 0, 1])\n",
    "plt.title('ROC plot: train set')\n",
    "plt.xlabel('False positive rate')\n",
    "plt.ylabel('True positive rate')\n",
    "plt.show()\n"
   ]
  },
  {
   "cell_type": "code",
   "execution_count": 58,
   "metadata": {},
   "outputs": [
    {
     "name": "stdout",
     "output_type": "stream",
     "text": [
      "{'Pos': 3225, 'Neg': 28690, 'TP': 3170, 'TN': 3214, 'FP': 25476, 'FN': 55, 'Accuracy': 0.20003133322888925, 'Precision': 0.11066117433498569, 'Recall': 0.9829457364341085, 'desc': 'SVC_4_test'}\n"
     ]
    }
   ],
   "source": [
    "SVC_4_test = BinaryClassificationPerformance(SVC_4.predict(X_test), y_test, 'SVC_4_test')\n",
    "SVC_4_test.compute_measures()\n",
    "print(SVC_4_test.performance_measures)"
   ]
  },
  {
   "cell_type": "code",
   "execution_count": 59,
   "metadata": {
    "scrolled": true
   },
   "outputs": [
    {
     "name": "stdout",
     "output_type": "stream",
     "text": [
      "{'Pos': 3225, 'Neg': 28690, 'TP': 3195, 'TN': 1574, 'FP': 27116, 'FN': 30, 'Accuracy': 0.1494281685727714, 'Precision': 0.105407277885916, 'Recall': 0.9906976744186047, 'desc': 'SVC_3_test'}\n"
     ]
    }
   ],
   "source": [
    "SVC_3_test = BinaryClassificationPerformance(SVC_3.predict(X_test), y_test, 'SVC_3_test')\n",
    "SVC_3_test.compute_measures()\n",
    "print(SVC_3_test.performance_measures)"
   ]
  },
  {
   "cell_type": "code",
   "execution_count": 60,
   "metadata": {
    "scrolled": true
   },
   "outputs": [
    {
     "name": "stdout",
     "output_type": "stream",
     "text": [
      "{'Pos': 3225, 'Neg': 28690, 'TP': 3138, 'TN': 3247, 'FP': 25443, 'FN': 87, 'Accuracy': 0.20006266645777848, 'Precision': 0.10979321927154403, 'Recall': 0.9730232558139534, 'desc': 'SVC_2_test'}\n"
     ]
    }
   ],
   "source": [
    "SVC_2_test = BinaryClassificationPerformance(SVC_2.predict(X_test), y_test, 'SVC_2_test')\n",
    "SVC_2_test.compute_measures()\n",
    "print(SVC_2_test.performance_measures)"
   ]
  },
  {
   "cell_type": "code",
   "execution_count": 61,
   "metadata": {
    "scrolled": true
   },
   "outputs": [
    {
     "name": "stdout",
     "output_type": "stream",
     "text": [
      "{'Pos': 3225, 'Neg': 28690, 'TP': 2323, 'TN': 18133, 'FP': 10557, 'FN': 902, 'Accuracy': 0.6409525301582328, 'Precision': 0.18035714285714285, 'Recall': 0.7203100775193798, 'desc': 'SVC_1_test'}\n"
     ]
    }
   ],
   "source": [
    "SVC_1_test = BinaryClassificationPerformance(SVC_1.predict(X_test), y_test, 'SVC_1_test')\n",
    "SVC_1_test.compute_measures()\n",
    "print(SVC_1_test.performance_measures)"
   ]
  },
  {
   "cell_type": "code",
   "execution_count": 65,
   "metadata": {
    "scrolled": true
   },
   "outputs": [
    {
     "name": "stdout",
     "output_type": "stream",
     "text": [
      "{'Pos': 3225, 'Neg': 28690, 'TP': 1191, 'TN': 23733, 'FP': 4957, 'FN': 2034, 'Accuracy': 0.7809493968353439, 'Precision': 0.19372153545868576, 'Recall': 0.36930232558139536, 'desc': 'SVC_0_test'}\n"
     ]
    }
   ],
   "source": [
    "SVC0_test = BinaryClassificationPerformance(SVC0.predict(X_test), y_test, 'SVC_0_test')\n",
    "SVC0_test.compute_measures()\n",
    "print(SVC0_test.performance_measures)"
   ]
  },
  {
   "cell_type": "code",
   "execution_count": 66,
   "metadata": {
    "scrolled": true
   },
   "outputs": [
    {
     "name": "stdout",
     "output_type": "stream",
     "text": [
      "{'Pos': 3225, 'Neg': 28690, 'TP': 1503, 'TN': 21656, 'FP': 7034, 'FN': 1722, 'Accuracy': 0.7256462478458405, 'Precision': 0.17605716293780016, 'Recall': 0.466046511627907, 'desc': 'SVC1_test'}\n"
     ]
    }
   ],
   "source": [
    "SVC1_test = BinaryClassificationPerformance(SVC1.predict(X_test), y_test, 'SVC1_test')\n",
    "SVC1_test.compute_measures()\n",
    "print(SVC1_test.performance_measures)"
   ]
  },
  {
   "cell_type": "markdown",
   "metadata": {},
   "source": [
    "### ROC plot to compare performance of various models and fits"
   ]
  },
  {
   "cell_type": "code",
   "execution_count": 69,
   "metadata": {},
   "outputs": [
    {
     "name": "stderr",
     "output_type": "stream",
     "text": [
      "/var/folders/qn/rnhppd716mvg1dm26kjg8jyc0000gn/T/ipykernel_44847/3861934233.py:9: UserWarning: color is redundantly defined by the 'color' keyword argument and the fmt string \"bo\" (-> color='b'). The keyword argument will take precedence.\n",
      "  plt.plot(fit.performance_measures['FP'] / fit.performance_measures['Neg'],\n"
     ]
    },
    {
     "data": {
      "image/png": "[encoded data removed]",
      "text/plain": [
       "<Figure size 432x288 with 1 Axes>"
      ]
     },
     "metadata": {
      "needs_background": "light"
     },
     "output_type": "display_data"
    }
   ],
   "source": [
    "fits = [SVC_4_test,SVC_3_test, SVC_2_test, SVC_1_test, SVC0_test, SVC1_test]\n",
    "colors = ['red','gray','blue','green','orange','purple']\n",
    "\n",
    "\n",
    "for i in range(len(fits)):\n",
    "    fit = fits[i]\n",
    "    color = colors[i]\n",
    "    label = fit.desc\n",
    "    plt.plot(fit.performance_measures['FP'] / fit.performance_measures['Neg'], \n",
    "             fit.performance_measures['TP'] / fit.performance_measures['Pos'], 'bo',color=color, label=label)\n",
    "    plt.legend(loc='upper right')\n",
    "    #plt.text(fit.performance_measures['FP'] / fit.performance_measures['Neg'], \n",
    "    #         fit.performance_measures['TP'] / fit.performance_measures['Pos'], fit.desc)\n",
    "    \n",
    "#plt.plot(x, y, linewidth = '1', label = \"test\", color=' coral ', linestyle=':', marker='|')\n",
    "plt.axis([0, 1.5, 0.0, 1])\n",
    "plt.title('ROC plot: test set')\n",
    "plt.xlabel('False positive rate')\n",
    "plt.ylabel('True positive rate')\n",
    "plt.show()"
   ]
  },
  {
   "cell_type": "code",
   "execution_count": null,
   "metadata": {},
   "outputs": [],
   "source": []
  },
  {
   "cell_type": "code",
   "execution_count": null,
   "metadata": {},
   "outputs": [],
   "source": [
    "\n"
   ]
  }
 ],
 "metadata": {
  "kernelspec": {
   "display_name": "Python 3 (ipykernel)",
   "language": "python",
   "name": "python3"
  },
  "language_info": {
   "codemirror_mode": {
    "name": "ipython",
    "version": 3
   },
   "file_extension": ".py",
   "mimetype": "text/x-python",
   "name": "python",
   "nbconvert_exporter": "python",
   "pygments_lexer": "ipython3",
   "version": "3.9.7"
  }
 },
 "nbformat": 4,
 "nbformat_minor": 2
}
