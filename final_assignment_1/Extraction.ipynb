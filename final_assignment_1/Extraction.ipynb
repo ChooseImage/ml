{
 "cells": [
  {
   "cell_type": "code",
   "execution_count": 9,
   "id": "bfa51a88",
   "metadata": {},
   "outputs": [],
   "source": [
    "# all imports and magic commands\n",
    "import numpy as np\n",
    "import pandas as pd\n",
    "import matplotlib.pyplot as plt\n",
    "from my_measures import BinaryClassificationPerformance\n",
    "from sklearn.feature_extraction.text import HashingVectorizer\n",
    "from sklearn.feature_extraction.text import CountVectorizer\n",
    "from sklearn.feature_extraction.text import TfidfTransformer\n",
    "from scipy.sparse import csr_matrix, hstack\n",
    "from sklearn.preprocessing import StandardScaler\n",
    "from sklearn.model_selection import train_test_split\n",
    "%matplotlib inline"
   ]
  },
  {
   "cell_type": "code",
   "execution_count": 2,
   "id": "d1219139",
   "metadata": {},
   "outputs": [],
   "source": [
    "toy_data = [\"This is a sentence.\", \"And another sentence.\", \"And this is the third sentence.\"]"
   ]
  },
  {
   "cell_type": "code",
   "execution_count": 3,
   "id": "86562693",
   "metadata": {},
   "outputs": [],
   "source": [
    "hvectorizer = HashingVectorizer(n_features=10000,norm=None,alternate_sign=False)"
   ]
  },
  {
   "cell_type": "code",
   "execution_count": 4,
   "id": "c03e75bb",
   "metadata": {},
   "outputs": [],
   "source": [
    "X = hvectorizer.fit_transform(toy_data)"
   ]
  },
  {
   "cell_type": "code",
   "execution_count": 5,
   "id": "378970a5",
   "metadata": {},
   "outputs": [
    {
     "name": "stdout",
     "output_type": "stream",
     "text": [
      "(3, 10000)\n"
     ]
    }
   ],
   "source": [
    "print(X.shape)"
   ]
  },
  {
   "cell_type": "code",
   "execution_count": 8,
   "id": "b9e946f7",
   "metadata": {},
   "outputs": [
    {
     "name": "stdout",
     "output_type": "stream",
     "text": [
      "  (0, 1582)\t1.0\n",
      "  (0, 2498)\t1.0\n",
      "  (0, 2845)\t1.0\n",
      "  (0, 8958)\t1.0\n",
      "  (0, 9277)\t1.0\n",
      "  (0, 9301)\t1.0\n"
     ]
    }
   ],
   "source": [
    "print(X[2])"
   ]
  },
  {
   "cell_type": "code",
   "execution_count": 10,
   "id": "ca45d918",
   "metadata": {},
   "outputs": [],
   "source": [
    "cvectorizer = CountVectorizer()"
   ]
  },
  {
   "cell_type": "code",
   "execution_count": 12,
   "id": "0526f26e",
   "metadata": {},
   "outputs": [],
   "source": [
    "Xc = cvectorizer.fit_transform(toy_data)"
   ]
  },
  {
   "cell_type": "code",
   "execution_count": 13,
   "id": "2e051047",
   "metadata": {},
   "outputs": [
    {
     "name": "stdout",
     "output_type": "stream",
     "text": [
      "(3, 7)\n"
     ]
    }
   ],
   "source": [
    "print(Xc.shape)"
   ]
  },
  {
   "cell_type": "code",
   "execution_count": 14,
   "id": "6645fdc7",
   "metadata": {},
   "outputs": [
    {
     "name": "stdout",
     "output_type": "stream",
     "text": [
      "  (0, 6)\t1\n",
      "  (0, 2)\t1\n",
      "  (0, 3)\t1\n",
      "  (0, 0)\t1\n",
      "  (0, 4)\t1\n",
      "  (0, 5)\t1\n"
     ]
    }
   ],
   "source": [
    "print(Xc[2])"
   ]
  },
  {
   "cell_type": "code",
   "execution_count": null,
   "id": "9c8153a4",
   "metadata": {},
   "outputs": [],
   "source": []
  }
 ],
 "metadata": {
  "kernelspec": {
   "display_name": "Python 3 (ipykernel)",
   "language": "python",
   "name": "python3"
  },
  "language_info": {
   "codemirror_mode": {
    "name": "ipython",
    "version": 3
   },
   "file_extension": ".py",
   "mimetype": "text/x-python",
   "name": "python",
   "nbconvert_exporter": "python",
   "pygments_lexer": "ipython3",
   "version": "3.9.7"
  }
 },
 "nbformat": 4,
 "nbformat_minor": 5
}
